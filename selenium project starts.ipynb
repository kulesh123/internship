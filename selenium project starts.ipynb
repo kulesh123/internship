{
 "cells": [
  {
   "cell_type": "markdown",
   "id": "79d534f6",
   "metadata": {},
   "source": [
    "Q1: Write a python program to scrape data for “Data Analyst” Job position in “Bangalore” location. You\n",
    "have to scrape the job-title, job-location, company_name, experience_required. You have to scrape first 10\n",
    "jobs data.\n",
    "This task will be done in following steps:\n",
    "1. First get the webpage https://www.shine.com/\n",
    "2. Enter “Data Analyst” in “Job title, Skills” field and enter “Bangalore” in “enter the location” field.\n",
    "3. Then click the searchbutton.\n",
    "4. Then scrape the data for the first 10 jobs results you get.\n",
    "5. Finally create a dataframe of the scraped data.\n",
    "Note: All of the above steps have to be done in code. No step is to be done manually."
   ]
  },
  {
   "cell_type": "code",
   "execution_count": 1,
   "id": "2c87dc52",
   "metadata": {},
   "outputs": [],
   "source": [
    "import selenium\n",
    "import pandas as pd\n",
    "from selenium import webdriver\n",
    "import warnings\n",
    "warnings.filterwarnings(\"ignore\")\n",
    "from selenium.webdriver.common.by import By\n",
    "import time"
   ]
  },
  {
   "cell_type": "code",
   "execution_count": 79,
   "id": "a3ee014c",
   "metadata": {},
   "outputs": [],
   "source": [
    "driver=webdriver.Chrome()"
   ]
  },
  {
   "cell_type": "code",
   "execution_count": 88,
   "id": "a139ff9e",
   "metadata": {},
   "outputs": [],
   "source": [
    "driver.get(\"https://www.shine.com/\")"
   ]
  },
  {
   "cell_type": "code",
   "execution_count": 90,
   "id": "6926ecfe",
   "metadata": {},
   "outputs": [],
   "source": [
    "title=driver.find_element(By.XPATH,\"/html/body/div/div[4]/div/div[2]/div[2]/div/form/div/div[1]/ul/li[1]/div/input\")\n",
    "title.send_keys(\"Data Analyst\")"
   ]
  },
  {
   "cell_type": "code",
   "execution_count": 91,
   "id": "e5179528",
   "metadata": {},
   "outputs": [],
   "source": [
    "location=driver.find_element(By.XPATH,\"/html/body/div/div[4]/div/div[2]/div[2]/div/form/div/div[1]/ul/li[2]/div/input\")\n",
    "location.send_keys(\"Bangalore\")"
   ]
  },
  {
   "cell_type": "code",
   "execution_count": 92,
   "id": "d3180fdd",
   "metadata": {},
   "outputs": [],
   "source": [
    "search=driver.find_element(By.CLASS_NAME,\"searchForm_btnWrap_advance__VYBHN\")\n",
    "search.click()"
   ]
  },
  {
   "cell_type": "code",
   "execution_count": 93,
   "id": "ec5c1bc2",
   "metadata": {},
   "outputs": [],
   "source": [
    "job_title=[]\n",
    "job_location=[]\n",
    "company=[]\n",
    "job_exp=[]"
   ]
  },
  {
   "cell_type": "code",
   "execution_count": 94,
   "id": "3e46c422",
   "metadata": {},
   "outputs": [],
   "source": [
    "title=driver.find_elements(By.XPATH,'//h2[@itemprop=\"name\"]')\n",
    "for i in title[0:10]:\n",
    "    title=i.text\n",
    "    job_title.append(title)"
   ]
  },
  {
   "cell_type": "code",
   "execution_count": 95,
   "id": "b003b782",
   "metadata": {},
   "outputs": [],
   "source": [
    "locat=driver.find_elements(By.XPATH,'//div[@class=\" jobCard_jobCard_lists_item__YxRkV jobCard_locationIcon__zrWt2\"]')\n",
    "for i in locat[0:10]:\n",
    "    locat=i.text\n",
    "    job_location.append(locat)"
   ]
  },
  {
   "cell_type": "code",
   "execution_count": 96,
   "id": "834cc03d",
   "metadata": {},
   "outputs": [],
   "source": [
    "company_name=driver.find_elements(By.XPATH,'//div[@class=\"jobCard_jobCard_cName__mYnow\"]')\n",
    "for i in company_name[0:10]:\n",
    "    company_name=i.text\n",
    "    company.append(company_name)\n",
    "    "
   ]
  },
  {
   "cell_type": "code",
   "execution_count": 97,
   "id": "0c7a0ee5",
   "metadata": {},
   "outputs": [],
   "source": [
    "experience=driver.find_elements(By.XPATH,'//div[@class=\" jobCard_jobCard_lists_item__YxRkV jobCard_jobIcon__3FB1t\"]')\n",
    "for i in experience[0:10]:\n",
    "    experience=i.text\n",
    "    job_exp.append(experience)"
   ]
  },
  {
   "cell_type": "code",
   "execution_count": 98,
   "id": "1656b88f",
   "metadata": {},
   "outputs": [
    {
     "name": "stdout",
     "output_type": "stream",
     "text": [
      "10 10 10 10\n"
     ]
    }
   ],
   "source": [
    "print(len(job_title),len(job_location),len(company),len(job_exp))"
   ]
  },
  {
   "cell_type": "code",
   "execution_count": null,
   "id": "3ef26980",
   "metadata": {},
   "outputs": [],
   "source": []
  },
  {
   "cell_type": "code",
   "execution_count": 99,
   "id": "b26437cd",
   "metadata": {},
   "outputs": [],
   "source": [
    "import pandas as pd\n"
   ]
  },
  {
   "cell_type": "code",
   "execution_count": 100,
   "id": "8e19f1d1",
   "metadata": {},
   "outputs": [],
   "source": [
    "df=pd.DataFrame({\"Job Title\":job_title,\"Location\":job_location,\"Company Name\":company,\"Experience\":job_exp})"
   ]
  },
  {
   "cell_type": "code",
   "execution_count": 101,
   "id": "f8cca62d",
   "metadata": {},
   "outputs": [
    {
     "data": {
      "text/html": [
       "<div>\n",
       "<style scoped>\n",
       "    .dataframe tbody tr th:only-of-type {\n",
       "        vertical-align: middle;\n",
       "    }\n",
       "\n",
       "    .dataframe tbody tr th {\n",
       "        vertical-align: top;\n",
       "    }\n",
       "\n",
       "    .dataframe thead th {\n",
       "        text-align: right;\n",
       "    }\n",
       "</style>\n",
       "<table border=\"1\" class=\"dataframe\">\n",
       "  <thead>\n",
       "    <tr style=\"text-align: right;\">\n",
       "      <th></th>\n",
       "      <th>Job Title</th>\n",
       "      <th>Location</th>\n",
       "      <th>Company Name</th>\n",
       "      <th>Experience</th>\n",
       "    </tr>\n",
       "  </thead>\n",
       "  <tbody>\n",
       "    <tr>\n",
       "      <th>0</th>\n",
       "      <td>Lead Data Analyst</td>\n",
       "      <td>Bangalore</td>\n",
       "      <td>ara resources private limited</td>\n",
       "      <td>4 to 9 Yrs</td>\n",
       "    </tr>\n",
       "    <tr>\n",
       "      <th>1</th>\n",
       "      <td>Data Analyst</td>\n",
       "      <td>Bangalore\\n+3</td>\n",
       "      <td>diraa hr services hiring for mncs</td>\n",
       "      <td>0 to 1 Yr</td>\n",
       "    </tr>\n",
       "    <tr>\n",
       "      <th>2</th>\n",
       "      <td>Vacancy For Data Analyst</td>\n",
       "      <td>Bangalore\\n+14</td>\n",
       "      <td>yogita staffing solution</td>\n",
       "      <td>0 to 3 Yrs</td>\n",
       "    </tr>\n",
       "    <tr>\n",
       "      <th>3</th>\n",
       "      <td>Clinical Data Analyst</td>\n",
       "      <td>Bangalore\\n+6</td>\n",
       "      <td>techno endura</td>\n",
       "      <td>0 to 1 Yr</td>\n",
       "    </tr>\n",
       "    <tr>\n",
       "      <th>4</th>\n",
       "      <td>Data Modeler data</td>\n",
       "      <td>Bangalore</td>\n",
       "      <td>boyen haddin consulting and technol...</td>\n",
       "      <td>3 to 6 Yrs</td>\n",
       "    </tr>\n",
       "    <tr>\n",
       "      <th>5</th>\n",
       "      <td>Data Modeller</td>\n",
       "      <td>Bangalore</td>\n",
       "      <td>boyen haddin consulting and technol...</td>\n",
       "      <td>3 to 6 Yrs</td>\n",
       "    </tr>\n",
       "    <tr>\n",
       "      <th>6</th>\n",
       "      <td>Data Analyst</td>\n",
       "      <td>Bangalore\\n+9</td>\n",
       "      <td>v-tech data outsourcing</td>\n",
       "      <td>0 to 2 Yrs</td>\n",
       "    </tr>\n",
       "    <tr>\n",
       "      <th>7</th>\n",
       "      <td>Data Modeler Bangalore</td>\n",
       "      <td>Bangalore</td>\n",
       "      <td>boyen haddin consulting and technol...</td>\n",
       "      <td>3 to 6 Yrs</td>\n",
       "    </tr>\n",
       "    <tr>\n",
       "      <th>8</th>\n",
       "      <td>Data Modeler</td>\n",
       "      <td>Bangalore</td>\n",
       "      <td>boyen haddin consulting and technol...</td>\n",
       "      <td>3 to 6 Yrs</td>\n",
       "    </tr>\n",
       "    <tr>\n",
       "      <th>9</th>\n",
       "      <td>Clinical Data Analyst</td>\n",
       "      <td>Bangalore\\n+4</td>\n",
       "      <td>quiscon biotech</td>\n",
       "      <td>0 to 2 Yrs</td>\n",
       "    </tr>\n",
       "  </tbody>\n",
       "</table>\n",
       "</div>"
      ],
      "text/plain": [
       "                  Job Title        Location  \\\n",
       "0         Lead Data Analyst       Bangalore   \n",
       "1              Data Analyst   Bangalore\\n+3   \n",
       "2  Vacancy For Data Analyst  Bangalore\\n+14   \n",
       "3     Clinical Data Analyst   Bangalore\\n+6   \n",
       "4         Data Modeler data       Bangalore   \n",
       "5             Data Modeller       Bangalore   \n",
       "6              Data Analyst   Bangalore\\n+9   \n",
       "7    Data Modeler Bangalore       Bangalore   \n",
       "8              Data Modeler       Bangalore   \n",
       "9     Clinical Data Analyst   Bangalore\\n+4   \n",
       "\n",
       "                             Company Name  Experience  \n",
       "0           ara resources private limited  4 to 9 Yrs  \n",
       "1       diraa hr services hiring for mncs   0 to 1 Yr  \n",
       "2                yogita staffing solution  0 to 3 Yrs  \n",
       "3                           techno endura   0 to 1 Yr  \n",
       "4  boyen haddin consulting and technol...  3 to 6 Yrs  \n",
       "5  boyen haddin consulting and technol...  3 to 6 Yrs  \n",
       "6                 v-tech data outsourcing  0 to 2 Yrs  \n",
       "7  boyen haddin consulting and technol...  3 to 6 Yrs  \n",
       "8  boyen haddin consulting and technol...  3 to 6 Yrs  \n",
       "9                         quiscon biotech  0 to 2 Yrs  "
      ]
     },
     "execution_count": 101,
     "metadata": {},
     "output_type": "execute_result"
    }
   ],
   "source": [
    "df"
   ]
  },
  {
   "cell_type": "markdown",
   "id": "b337be07",
   "metadata": {},
   "source": [
    "Q2:Write a python program to scrape data for “Data Scientist” Job position in“Bangalore” location. You\n",
    "have to scrape the job-title, job-location, company_name. You have to scrape first 10 jobs data.\n",
    "This task will be done in following steps:\n",
    "1. First get the webpage https://www.shine.com/\n",
    "2. Enter “Data Scientist” in “Job title, Skills” field and enter “Bangalore” in “enter thelocation” field.\n",
    "3. Then click the search button.\n",
    "4. Then scrape the data for the first 10 jobs results you get.\n",
    "5. Finally create a dataframe of the scraped data.\n",
    "Note: All of the above steps have to be done in code. No step is to be done manually"
   ]
  },
  {
   "cell_type": "code",
   "execution_count": 102,
   "id": "02d0542d",
   "metadata": {},
   "outputs": [],
   "source": [
    "driver1=webdriver.Chrome()"
   ]
  },
  {
   "cell_type": "code",
   "execution_count": 111,
   "id": "6f7a04d5",
   "metadata": {},
   "outputs": [],
   "source": [
    "driver1.get(\"https://www.shine.com/\")"
   ]
  },
  {
   "cell_type": "code",
   "execution_count": 113,
   "id": "68a931c5",
   "metadata": {},
   "outputs": [],
   "source": [
    "job_title=driver1.find_element(By.XPATH,'/html/body/div/div[4]/div/div[2]/div[2]/div/form/div/div[1]/ul/li[1]/div/input')\n",
    "job_title.send_keys(\"Data Scientist\")"
   ]
  },
  {
   "cell_type": "code",
   "execution_count": 114,
   "id": "3531554e",
   "metadata": {},
   "outputs": [],
   "source": [
    "job_location=driver1.find_element(By.XPATH,'/html/body/div/div[4]/div/div[2]/div[2]/div/form/div/div[1]/ul/li[2]/div/input')\n",
    "job_location.send_keys('Bangalore')"
   ]
  },
  {
   "cell_type": "code",
   "execution_count": 115,
   "id": "c8b16818",
   "metadata": {},
   "outputs": [],
   "source": [
    "search1=driver1.find_element(By.CLASS_NAME,\"searchForm_btnWrap_advance__VYBHN\")\n",
    "search1.click()\n"
   ]
  },
  {
   "cell_type": "code",
   "execution_count": 116,
   "id": "c591a37b",
   "metadata": {},
   "outputs": [],
   "source": [
    "title=[]\n",
    "locat=[]\n",
    "name=[]"
   ]
  },
  {
   "cell_type": "code",
   "execution_count": 117,
   "id": "017c85e4",
   "metadata": {},
   "outputs": [],
   "source": [
    "job=driver1.find_elements(By.XPATH,'//h2[@itemprop=\"name\"]')\n",
    "for i in job[0:10]:\n",
    "    job=i.text\n",
    "    title.append(job)"
   ]
  },
  {
   "cell_type": "code",
   "execution_count": 118,
   "id": "92f53306",
   "metadata": {},
   "outputs": [],
   "source": [
    "locator=driver1.find_elements(By.XPATH,'//div[@class=\" jobCard_jobCard_lists_item__YxRkV jobCard_locationIcon__zrWt2\"]')\n",
    "for i in locator[0:10]:\n",
    "    locator=i.text\n",
    "    locat.append(locator)"
   ]
  },
  {
   "cell_type": "code",
   "execution_count": 119,
   "id": "7e02dbfd",
   "metadata": {},
   "outputs": [],
   "source": [
    "company=driver1.find_elements(By.XPATH,'//div[@class=\"jobCard_jobCard_cName__mYnow\"]')\n",
    "for i in company[0:10]:\n",
    "    company=i.text\n",
    "    name.append(company)"
   ]
  },
  {
   "cell_type": "code",
   "execution_count": 120,
   "id": "0e98f22c",
   "metadata": {},
   "outputs": [
    {
     "name": "stdout",
     "output_type": "stream",
     "text": [
      "10 10 10\n"
     ]
    }
   ],
   "source": [
    "print(len(title),len(locat),len(name))"
   ]
  },
  {
   "cell_type": "code",
   "execution_count": 121,
   "id": "773ac58c",
   "metadata": {},
   "outputs": [],
   "source": [
    "import pandas as pd"
   ]
  },
  {
   "cell_type": "code",
   "execution_count": 122,
   "id": "a260117b",
   "metadata": {},
   "outputs": [],
   "source": [
    "df1=pd.DataFrame({\"Job Title\":title,\"Location\":locat,\"Company's Name\":name})"
   ]
  },
  {
   "cell_type": "code",
   "execution_count": 123,
   "id": "ce3a093d",
   "metadata": {},
   "outputs": [
    {
     "data": {
      "text/html": [
       "<div>\n",
       "<style scoped>\n",
       "    .dataframe tbody tr th:only-of-type {\n",
       "        vertical-align: middle;\n",
       "    }\n",
       "\n",
       "    .dataframe tbody tr th {\n",
       "        vertical-align: top;\n",
       "    }\n",
       "\n",
       "    .dataframe thead th {\n",
       "        text-align: right;\n",
       "    }\n",
       "</style>\n",
       "<table border=\"1\" class=\"dataframe\">\n",
       "  <thead>\n",
       "    <tr style=\"text-align: right;\">\n",
       "      <th></th>\n",
       "      <th>Job Title</th>\n",
       "      <th>Location</th>\n",
       "      <th>Company's Name</th>\n",
       "    </tr>\n",
       "  </thead>\n",
       "  <tbody>\n",
       "    <tr>\n",
       "      <th>0</th>\n",
       "      <td>Data Scientist</td>\n",
       "      <td>Bangalore\\n+4</td>\n",
       "      <td>acme services private limited</td>\n",
       "    </tr>\n",
       "    <tr>\n",
       "      <th>1</th>\n",
       "      <td>Data Scientist</td>\n",
       "      <td>Bangalore</td>\n",
       "      <td>ltimindtree limited</td>\n",
       "    </tr>\n",
       "    <tr>\n",
       "      <th>2</th>\n",
       "      <td>Lead Data Scientist/ Principal Data Scientist</td>\n",
       "      <td>Bangalore\\n+1</td>\n",
       "      <td>fractal</td>\n",
       "    </tr>\n",
       "    <tr>\n",
       "      <th>3</th>\n",
       "      <td>Vacancy For Data Scientist Fresher and Experience</td>\n",
       "      <td>Bangalore\\n+14</td>\n",
       "      <td>yogita staffing solution</td>\n",
       "    </tr>\n",
       "    <tr>\n",
       "      <th>4</th>\n",
       "      <td>Senior Data Scientist</td>\n",
       "      <td>Bangalore\\n+1</td>\n",
       "      <td>neostats</td>\n",
       "    </tr>\n",
       "    <tr>\n",
       "      <th>5</th>\n",
       "      <td>Lead Data Scientist</td>\n",
       "      <td>Bangalore\\n+1</td>\n",
       "      <td>aereo</td>\n",
       "    </tr>\n",
       "    <tr>\n",
       "      <th>6</th>\n",
       "      <td>Data Scientist</td>\n",
       "      <td>Bangalore\\n+7</td>\n",
       "      <td>people staffing solutions</td>\n",
       "    </tr>\n",
       "    <tr>\n",
       "      <th>7</th>\n",
       "      <td>Data Scientist Urgent Vacancy</td>\n",
       "      <td>Bangalore\\n+14</td>\n",
       "      <td>yogita staffing solution</td>\n",
       "    </tr>\n",
       "    <tr>\n",
       "      <th>8</th>\n",
       "      <td>Data Scientist</td>\n",
       "      <td>Bangalore\\n+2</td>\n",
       "      <td>diraa hr services</td>\n",
       "    </tr>\n",
       "    <tr>\n",
       "      <th>9</th>\n",
       "      <td>Pharma Data Scientist</td>\n",
       "      <td>Bangalore\\n+4</td>\n",
       "      <td>quiscon biotech</td>\n",
       "    </tr>\n",
       "  </tbody>\n",
       "</table>\n",
       "</div>"
      ],
      "text/plain": [
       "                                           Job Title        Location  \\\n",
       "0                                     Data Scientist   Bangalore\\n+4   \n",
       "1                                     Data Scientist       Bangalore   \n",
       "2      Lead Data Scientist/ Principal Data Scientist   Bangalore\\n+1   \n",
       "3  Vacancy For Data Scientist Fresher and Experience  Bangalore\\n+14   \n",
       "4                              Senior Data Scientist   Bangalore\\n+1   \n",
       "5                                Lead Data Scientist   Bangalore\\n+1   \n",
       "6                                     Data Scientist   Bangalore\\n+7   \n",
       "7                      Data Scientist Urgent Vacancy  Bangalore\\n+14   \n",
       "8                                     Data Scientist   Bangalore\\n+2   \n",
       "9                              Pharma Data Scientist   Bangalore\\n+4   \n",
       "\n",
       "                  Company's Name  \n",
       "0  acme services private limited  \n",
       "1            ltimindtree limited  \n",
       "2                        fractal  \n",
       "3       yogita staffing solution  \n",
       "4                       neostats  \n",
       "5                          aereo  \n",
       "6      people staffing solutions  \n",
       "7       yogita staffing solution  \n",
       "8              diraa hr services  \n",
       "9                quiscon biotech  "
      ]
     },
     "execution_count": 123,
     "metadata": {},
     "output_type": "execute_result"
    }
   ],
   "source": [
    "df1"
   ]
  },
  {
   "cell_type": "markdown",
   "id": "e37eb761",
   "metadata": {},
   "source": [
    "Q3: In this question you have to scrape data using the filters available on the webpage\n",
    " You have to use the location and salary filter.\n",
    "You have to scrape data for “Data Scientist” designation for first 10 job results.\n",
    "You have to scrape the job-title, job-location, company name, experience required.\n",
    "The location filter to be used is “Delhi/NCR”. The salary filter to be used is “3-6” lakhs\n",
    "The task will be done as shown in the below steps:\n",
    "1. first get the web page https://www.shine.com/\n",
    "2. Enter “Data Scientist” in “Skill, Designations, and Companies” field.\n",
    "3. Then click the search button.\n",
    "4. Then apply the location filter and salary filter by checking the respective boxes\n",
    "5. Then scrape the data for the first 10 jobs results you get.\n",
    "6. Finally create a dataframe of the scrapeddata.\n",
    "Note: All of the above steps have to be done in code. No step is to be done manually"
   ]
  },
  {
   "cell_type": "code",
   "execution_count": 2,
   "id": "bd94ec55",
   "metadata": {},
   "outputs": [],
   "source": [
    "driver2=webdriver.Chrome()"
   ]
  },
  {
   "cell_type": "code",
   "execution_count": 12,
   "id": "a945eaac",
   "metadata": {},
   "outputs": [],
   "source": [
    "driver2.get(\"https://www.shine.com/\")"
   ]
  },
  {
   "cell_type": "code",
   "execution_count": 54,
   "id": "f1ecabe0",
   "metadata": {},
   "outputs": [],
   "source": [
    "designation=driver2.find_element(By.XPATH,\"/html/body/div/div[1]/div/div/div[1]/div[1]/div/div[2]/div/div[1]/form/div/div[1]/ul[1]/li[1]/div/input\")\n",
    "designation.send_keys(\"Data Scientist\")"
   ]
  },
  {
   "cell_type": "code",
   "execution_count": 55,
   "id": "189f4123",
   "metadata": {},
   "outputs": [],
   "source": [
    "location=driver2.find_element(By.XPATH,\"/html/body/div/div[1]/div/div/div[1]/div[1]/div/div[2]/div/div[1]/form/div/div[1]/ul[1]/li[2]/div/input\")\n",
    "location.send_keys(\"Delhi-Ncr Region\")"
   ]
  },
  {
   "cell_type": "code",
   "execution_count": 56,
   "id": "ee99b9c4",
   "metadata": {},
   "outputs": [],
   "source": [
    "salary=driver2.find_element(By.XPATH,\"/html/body/div/div[1]/div/div/div[1]/div[1]/div/div[2]/div/div[1]/form/div/div[1]/ul[2]/li[1]/div/input[1]\")\n",
    "salary.send_keys(\"3-6\")"
   ]
  },
  {
   "cell_type": "code",
   "execution_count": 57,
   "id": "9b1812b0",
   "metadata": {},
   "outputs": [],
   "source": [
    "search=driver2.find_element(By.CLASS_NAME,\"searchForm_btnWrap_advance__VYBHN\")\n",
    "search.click()"
   ]
  },
  {
   "cell_type": "code",
   "execution_count": null,
   "id": "44880cc6",
   "metadata": {},
   "outputs": [],
   "source": []
  },
  {
   "cell_type": "code",
   "execution_count": 75,
   "id": "57703e56",
   "metadata": {},
   "outputs": [],
   "source": [
    "job_title=[]\n",
    "job_location=[]\n",
    "company_name=[]\n",
    "experience=[]"
   ]
  },
  {
   "cell_type": "code",
   "execution_count": 76,
   "id": "9d265eb7",
   "metadata": {},
   "outputs": [],
   "source": [
    "title=driver2.find_elements(By.XPATH,'//h2[@itemprop=\"name\"]')\n",
    "for i in title[0:10]:\n",
    "    title=i.text\n",
    "    job_title.append(title)"
   ]
  },
  {
   "cell_type": "code",
   "execution_count": 77,
   "id": "d499e219",
   "metadata": {},
   "outputs": [],
   "source": [
    "loc=driver2.find_elements(By.XPATH,'//div[@class=\" jobCard_jobCard_lists_item__YxRkV jobCard_locationIcon__zrWt2\"]')\n",
    "for i in loc[0:10]:\n",
    "    loc=i.text\n",
    "    job_location.append(loc)"
   ]
  },
  {
   "cell_type": "code",
   "execution_count": 78,
   "id": "1f9686df",
   "metadata": {},
   "outputs": [],
   "source": [
    "name=driver2.find_elements(By.XPATH,'//div[@class=\"jobCard_jobCard_cName__mYnow\"]')\n",
    "for i in name[0:10]:\n",
    "    name=i.text\n",
    "    company_name.append(name)"
   ]
  },
  {
   "cell_type": "code",
   "execution_count": 79,
   "id": "53c5c22c",
   "metadata": {},
   "outputs": [],
   "source": [
    "exp=driver2.find_elements(By.XPATH,'//div[@class=\" jobCard_jobCard_lists_item__YxRkV jobCard_jobIcon__3FB1t\"]')\n",
    "for i in exp[0:10]:\n",
    "    exp=i.text\n",
    "    experience.append(exp)"
   ]
  },
  {
   "cell_type": "code",
   "execution_count": 80,
   "id": "7dbb9a5d",
   "metadata": {},
   "outputs": [
    {
     "name": "stdout",
     "output_type": "stream",
     "text": [
      "10 10 10 10\n"
     ]
    }
   ],
   "source": [
    "print(len(job_title),len(job_location),len(company_name),len(experience))"
   ]
  },
  {
   "cell_type": "code",
   "execution_count": null,
   "id": "e7c33d6d",
   "metadata": {},
   "outputs": [],
   "source": []
  },
  {
   "cell_type": "code",
   "execution_count": 62,
   "id": "2fa7220c",
   "metadata": {},
   "outputs": [],
   "source": [
    "import pandas as pd"
   ]
  },
  {
   "cell_type": "code",
   "execution_count": 81,
   "id": "dad75f43",
   "metadata": {},
   "outputs": [],
   "source": [
    "df3=pd.DataFrame({\"Job Title\":job_title,\"Location\":job_location,\"Company Name\":company_name,\"Experience\":experience})"
   ]
  },
  {
   "cell_type": "code",
   "execution_count": 83,
   "id": "e43a1a7b",
   "metadata": {},
   "outputs": [
    {
     "data": {
      "text/html": [
       "<div>\n",
       "<style scoped>\n",
       "    .dataframe tbody tr th:only-of-type {\n",
       "        vertical-align: middle;\n",
       "    }\n",
       "\n",
       "    .dataframe tbody tr th {\n",
       "        vertical-align: top;\n",
       "    }\n",
       "\n",
       "    .dataframe thead th {\n",
       "        text-align: right;\n",
       "    }\n",
       "</style>\n",
       "<table border=\"1\" class=\"dataframe\">\n",
       "  <thead>\n",
       "    <tr style=\"text-align: right;\">\n",
       "      <th></th>\n",
       "      <th>Job Title</th>\n",
       "      <th>Location</th>\n",
       "      <th>Company Name</th>\n",
       "      <th>Experience</th>\n",
       "    </tr>\n",
       "  </thead>\n",
       "  <tbody>\n",
       "    <tr>\n",
       "      <th>0</th>\n",
       "      <td>Data Scientist</td>\n",
       "      <td>Noida\\n+1</td>\n",
       "      <td>thescholarhat</td>\n",
       "      <td>1 to 3 Yrs</td>\n",
       "    </tr>\n",
       "    <tr>\n",
       "      <th>1</th>\n",
       "      <td>DataNeuron - Senior Data Scientist - NLP</td>\n",
       "      <td>Delhi</td>\n",
       "      <td>dataneuron</td>\n",
       "      <td>3 to 4 Yrs</td>\n",
       "    </tr>\n",
       "    <tr>\n",
       "      <th>2</th>\n",
       "      <td>Data Scientist</td>\n",
       "      <td>Delhi\\n+4</td>\n",
       "      <td>acme services private limited</td>\n",
       "      <td>3 to 5 Yrs</td>\n",
       "    </tr>\n",
       "    <tr>\n",
       "      <th>3</th>\n",
       "      <td>Senior Data Scientist</td>\n",
       "      <td>Delhi</td>\n",
       "      <td>roadzen</td>\n",
       "      <td>5 to 9 Yrs</td>\n",
       "    </tr>\n",
       "    <tr>\n",
       "      <th>4</th>\n",
       "      <td>Data Scientist</td>\n",
       "      <td>Delhi</td>\n",
       "      <td>adept global</td>\n",
       "      <td>3 to 7 Yrs</td>\n",
       "    </tr>\n",
       "    <tr>\n",
       "      <th>5</th>\n",
       "      <td>Senior/Lead Data Scientist- Noida/Bangalore/Hy...</td>\n",
       "      <td>Noida\\n+1</td>\n",
       "      <td>techneplus</td>\n",
       "      <td>3 to 8 Yrs</td>\n",
       "    </tr>\n",
       "    <tr>\n",
       "      <th>6</th>\n",
       "      <td>Data Scientist</td>\n",
       "      <td>Delhi</td>\n",
       "      <td>scrolltab</td>\n",
       "      <td>4 to 8 Yrs</td>\n",
       "    </tr>\n",
       "    <tr>\n",
       "      <th>7</th>\n",
       "      <td>Data Scientist</td>\n",
       "      <td>Noida\\n+1</td>\n",
       "      <td>info edge india ltd</td>\n",
       "      <td>1 to 5 Yrs</td>\n",
       "    </tr>\n",
       "    <tr>\n",
       "      <th>8</th>\n",
       "      <td>Data Scientist at WinZO</td>\n",
       "      <td>Delhi</td>\n",
       "      <td>winzone technology pvt ltd</td>\n",
       "      <td>0 to 3 Yrs</td>\n",
       "    </tr>\n",
       "    <tr>\n",
       "      <th>9</th>\n",
       "      <td>Immediate opening for Data Scientist- Delhi (H...</td>\n",
       "      <td>Delhi</td>\n",
       "      <td>htc global services</td>\n",
       "      <td>3 to 5 Yrs</td>\n",
       "    </tr>\n",
       "  </tbody>\n",
       "</table>\n",
       "</div>"
      ],
      "text/plain": [
       "                                           Job Title   Location  \\\n",
       "0                                     Data Scientist  Noida\\n+1   \n",
       "1           DataNeuron - Senior Data Scientist - NLP      Delhi   \n",
       "2                                     Data Scientist  Delhi\\n+4   \n",
       "3                              Senior Data Scientist      Delhi   \n",
       "4                                     Data Scientist      Delhi   \n",
       "5  Senior/Lead Data Scientist- Noida/Bangalore/Hy...  Noida\\n+1   \n",
       "6                                     Data Scientist      Delhi   \n",
       "7                                     Data Scientist  Noida\\n+1   \n",
       "8                            Data Scientist at WinZO      Delhi   \n",
       "9  Immediate opening for Data Scientist- Delhi (H...      Delhi   \n",
       "\n",
       "                    Company Name  Experience  \n",
       "0                  thescholarhat  1 to 3 Yrs  \n",
       "1                     dataneuron  3 to 4 Yrs  \n",
       "2  acme services private limited  3 to 5 Yrs  \n",
       "3                        roadzen  5 to 9 Yrs  \n",
       "4                   adept global  3 to 7 Yrs  \n",
       "5                     techneplus  3 to 8 Yrs  \n",
       "6                      scrolltab  4 to 8 Yrs  \n",
       "7            info edge india ltd  1 to 5 Yrs  \n",
       "8     winzone technology pvt ltd  0 to 3 Yrs  \n",
       "9            htc global services  3 to 5 Yrs  "
      ]
     },
     "execution_count": 83,
     "metadata": {},
     "output_type": "execute_result"
    }
   ],
   "source": [
    "df3"
   ]
  },
  {
   "cell_type": "markdown",
   "id": "9637599f",
   "metadata": {},
   "source": [
    "Q3: In this question you have to scrape data using the filters available on the webpage\n",
    " You have to use the location and salary filter.\n",
    "You have to scrape data for “Data Scientist” designation for first 10 job results.\n",
    "You have to scrape the job-title, job-location, company name, experience required.\n",
    "The location filter to be used is “Delhi/NCR”. The salary filter to be used is “3-6” lakhs\n",
    "The task will be done as shown in the below steps:\n",
    "1. first get the web page https://www.shine.com/\n",
    "2. Enter “Data Scientist” in “Skill, Designations, and Companies” field.\n",
    "3. Then click the search button.\n",
    "4. Then apply the location filter and salary filter by checking the respective boxes\n",
    "5. Then scrape the data for the first 10 jobs results you get.\n",
    "6. Finally create a dataframe of the scrapeddata.\n",
    "Note: All of the above steps have to be done in code. No step is to be done manually."
   ]
  },
  {
   "cell_type": "code",
   "execution_count": 41,
   "id": "ceb59db3",
   "metadata": {},
   "outputs": [],
   "source": [
    "driver4=webdriver.Chrome()"
   ]
  },
  {
   "cell_type": "code",
   "execution_count": 42,
   "id": "e7ccb063",
   "metadata": {},
   "outputs": [],
   "source": [
    "driver4.get(\"https://www.shine.com/\")"
   ]
  },
  {
   "cell_type": "code",
   "execution_count": 44,
   "id": "b783d5ba",
   "metadata": {},
   "outputs": [],
   "source": [
    "titles=driver4.find_element(By.XPATH,'/html/body/div/div[4]/div/div[2]/div[2]/div/form/div/div[1]/ul/li[1]/div/input')\n",
    "titles.send_keys(\"Data Scientist\")"
   ]
  },
  {
   "cell_type": "code",
   "execution_count": 45,
   "id": "9da055e1",
   "metadata": {},
   "outputs": [],
   "source": [
    "click=driver4.find_element(By.CLASS_NAME,'searchForm_btnWrap_advance__VYBHN')\n",
    "click.click()"
   ]
  },
  {
   "cell_type": "code",
   "execution_count": 46,
   "id": "0ab64f9c",
   "metadata": {},
   "outputs": [],
   "source": [
    "locbox=driver4.find_element(By.XPATH,'/html/body/div[1]/div[1]/div[3]/div/div[1]/div/div[2]/div/ul/li[1]/button')\n",
    "locbox.click()"
   ]
  },
  {
   "cell_type": "code",
   "execution_count": 54,
   "id": "b427957a",
   "metadata": {},
   "outputs": [],
   "source": [
    "location=driver4.find_element(By.XPATH,'/html/body/div[3]/div/div/div/div[3]/div/div/div/ul/li[1]/input')\n",
    "location.send_keys(\"Delhi\")\n"
   ]
  },
  {
   "cell_type": "code",
   "execution_count": 55,
   "id": "b3079cf9",
   "metadata": {},
   "outputs": [],
   "source": [
    "check=driver4.find_element(By.XPATH,'/html/body/div[3]/div/div/div/div[3]/div/div/div/ul/li[2]/span/label')\n",
    "check.click()"
   ]
  },
  {
   "cell_type": "code",
   "execution_count": 56,
   "id": "f618710e",
   "metadata": {},
   "outputs": [],
   "source": [
    "result=driver4.find_element(By.XPATH,'/html/body/div[3]/div/div/div/div[4]/button[2]')\n",
    "result.click()\n"
   ]
  },
  {
   "cell_type": "code",
   "execution_count": 58,
   "id": "ea5c6e82",
   "metadata": {},
   "outputs": [],
   "source": [
    "salaryicon=driver4.find_element(By.XPATH,'/html/body/div[1]/div[1]/div[3]/div/div[1]/div/div[2]/div/ul/li[3]/button')\n",
    "salaryicon.click()"
   ]
  },
  {
   "cell_type": "code",
   "execution_count": 60,
   "id": "c2e30247",
   "metadata": {},
   "outputs": [],
   "source": [
    "salaryamount=driver4.find_element(By.XPATH,'/html/body/div[3]/div/div/div/div[3]/div/div/div/ul/li[1]/input')\n",
    "salaryamount.send_keys(\"3 To 5 Lakh\")"
   ]
  },
  {
   "cell_type": "code",
   "execution_count": 61,
   "id": "fb9f7fd8",
   "metadata": {},
   "outputs": [],
   "source": [
    "checksalary=driver4.find_element(By.XPATH,'/html/body/div[3]/div/div/div/div[3]/div/div/div/ul/li[2]/span/label')\n",
    "checksalary.click()"
   ]
  },
  {
   "cell_type": "code",
   "execution_count": 62,
   "id": "cc42ae4f",
   "metadata": {},
   "outputs": [],
   "source": [
    "results2=driver4.find_element(By.XPATH,'/html/body/div[3]/div/div/div/div[4]/button[2]')\n",
    "results2.click()"
   ]
  },
  {
   "cell_type": "code",
   "execution_count": 83,
   "id": "38cf7f6d",
   "metadata": {},
   "outputs": [],
   "source": [
    "job_title=[]"
   ]
  },
  {
   "cell_type": "code",
   "execution_count": 84,
   "id": "1a432a7a",
   "metadata": {},
   "outputs": [],
   "source": [
    "job=driver4.find_elements(By.XPATH,'//h2[@itemprop=\"name\"]')\n",
    "for i in job[0:10]:\n",
    "    job=i.text\n",
    "    job_title.append(job)"
   ]
  },
  {
   "cell_type": "code",
   "execution_count": 85,
   "id": "24ee262b",
   "metadata": {},
   "outputs": [
    {
     "name": "stdout",
     "output_type": "stream",
     "text": [
      "10\n"
     ]
    }
   ],
   "source": [
    "print(len(job_title))"
   ]
  },
  {
   "cell_type": "code",
   "execution_count": 86,
   "id": "9fdc2be4",
   "metadata": {},
   "outputs": [],
   "source": [
    "import pandas as pd"
   ]
  },
  {
   "cell_type": "code",
   "execution_count": 87,
   "id": "8ee49dbf",
   "metadata": {},
   "outputs": [],
   "source": [
    "df4=pd.DataFrame({\"Job Title\":job_title})"
   ]
  },
  {
   "cell_type": "code",
   "execution_count": 88,
   "id": "586e4b82",
   "metadata": {},
   "outputs": [
    {
     "data": {
      "text/html": [
       "<div>\n",
       "<style scoped>\n",
       "    .dataframe tbody tr th:only-of-type {\n",
       "        vertical-align: middle;\n",
       "    }\n",
       "\n",
       "    .dataframe tbody tr th {\n",
       "        vertical-align: top;\n",
       "    }\n",
       "\n",
       "    .dataframe thead th {\n",
       "        text-align: right;\n",
       "    }\n",
       "</style>\n",
       "<table border=\"1\" class=\"dataframe\">\n",
       "  <thead>\n",
       "    <tr style=\"text-align: right;\">\n",
       "      <th></th>\n",
       "      <th>Job Title</th>\n",
       "    </tr>\n",
       "  </thead>\n",
       "  <tbody>\n",
       "    <tr>\n",
       "      <th>0</th>\n",
       "      <td>Data Scientist</td>\n",
       "    </tr>\n",
       "    <tr>\n",
       "      <th>1</th>\n",
       "      <td>Clinical Data Analyst</td>\n",
       "    </tr>\n",
       "    <tr>\n",
       "      <th>2</th>\n",
       "      <td>Bioanalytical Research</td>\n",
       "    </tr>\n",
       "    <tr>\n",
       "      <th>3</th>\n",
       "      <td>Bioanalytical Research Associates</td>\n",
       "    </tr>\n",
       "    <tr>\n",
       "      <th>4</th>\n",
       "      <td>Clinical Analyst Fresher</td>\n",
       "    </tr>\n",
       "    <tr>\n",
       "      <th>5</th>\n",
       "      <td>Clinical Data Management</td>\n",
       "    </tr>\n",
       "    <tr>\n",
       "      <th>6</th>\n",
       "      <td>Junior Clinical Data Management</td>\n",
       "    </tr>\n",
       "    <tr>\n",
       "      <th>7</th>\n",
       "      <td>Data Engineer</td>\n",
       "    </tr>\n",
       "    <tr>\n",
       "      <th>8</th>\n",
       "      <td>Biostatistician</td>\n",
       "    </tr>\n",
       "    <tr>\n",
       "      <th>9</th>\n",
       "      <td>Clinical Document Specialist</td>\n",
       "    </tr>\n",
       "  </tbody>\n",
       "</table>\n",
       "</div>"
      ],
      "text/plain": [
       "                           Job Title\n",
       "0                     Data Scientist\n",
       "1              Clinical Data Analyst\n",
       "2             Bioanalytical Research\n",
       "3  Bioanalytical Research Associates\n",
       "4           Clinical Analyst Fresher\n",
       "5           Clinical Data Management\n",
       "6    Junior Clinical Data Management\n",
       "7                      Data Engineer\n",
       "8                    Biostatistician\n",
       "9       Clinical Document Specialist"
      ]
     },
     "execution_count": 88,
     "metadata": {},
     "output_type": "execute_result"
    }
   ],
   "source": [
    "df4"
   ]
  },
  {
   "cell_type": "code",
   "execution_count": 89,
   "id": "1479ff82",
   "metadata": {},
   "outputs": [],
   "source": [
    "location=[]"
   ]
  },
  {
   "cell_type": "code",
   "execution_count": 90,
   "id": "9884c8b6",
   "metadata": {},
   "outputs": [],
   "source": [
    "loc=driver4.find_elements(By.XPATH,'//div[@class=\" jobCard_jobCard_lists_item__YxRkV jobCard_locationIcon__zrWt2\"]')\n",
    "for i in loc[0:10]:\n",
    "    loc=i.text\n",
    "    location.append(loc)"
   ]
  },
  {
   "cell_type": "code",
   "execution_count": 91,
   "id": "ae25622f",
   "metadata": {},
   "outputs": [],
   "source": [
    "df5=pd.DataFrame({\"Location\":location})"
   ]
  },
  {
   "cell_type": "code",
   "execution_count": 92,
   "id": "c1d01b98",
   "metadata": {},
   "outputs": [
    {
     "data": {
      "text/html": [
       "<div>\n",
       "<style scoped>\n",
       "    .dataframe tbody tr th:only-of-type {\n",
       "        vertical-align: middle;\n",
       "    }\n",
       "\n",
       "    .dataframe tbody tr th {\n",
       "        vertical-align: top;\n",
       "    }\n",
       "\n",
       "    .dataframe thead th {\n",
       "        text-align: right;\n",
       "    }\n",
       "</style>\n",
       "<table border=\"1\" class=\"dataframe\">\n",
       "  <thead>\n",
       "    <tr style=\"text-align: right;\">\n",
       "      <th></th>\n",
       "      <th>Location</th>\n",
       "    </tr>\n",
       "  </thead>\n",
       "  <tbody>\n",
       "    <tr>\n",
       "      <th>0</th>\n",
       "      <td>Delhi\\n+4</td>\n",
       "    </tr>\n",
       "    <tr>\n",
       "      <th>1</th>\n",
       "      <td>Delhi\\n+6</td>\n",
       "    </tr>\n",
       "    <tr>\n",
       "      <th>2</th>\n",
       "      <td>Delhi\\n+6</td>\n",
       "    </tr>\n",
       "    <tr>\n",
       "      <th>3</th>\n",
       "      <td>Delhi\\n+6</td>\n",
       "    </tr>\n",
       "    <tr>\n",
       "      <th>4</th>\n",
       "      <td>Delhi\\n+6</td>\n",
       "    </tr>\n",
       "    <tr>\n",
       "      <th>5</th>\n",
       "      <td>Delhi\\n+6</td>\n",
       "    </tr>\n",
       "    <tr>\n",
       "      <th>6</th>\n",
       "      <td>Delhi\\n+6</td>\n",
       "    </tr>\n",
       "    <tr>\n",
       "      <th>7</th>\n",
       "      <td>Delhi\\n+9</td>\n",
       "    </tr>\n",
       "    <tr>\n",
       "      <th>8</th>\n",
       "      <td>Delhi\\n+17</td>\n",
       "    </tr>\n",
       "    <tr>\n",
       "      <th>9</th>\n",
       "      <td>Delhi\\n+6</td>\n",
       "    </tr>\n",
       "  </tbody>\n",
       "</table>\n",
       "</div>"
      ],
      "text/plain": [
       "     Location\n",
       "0   Delhi\\n+4\n",
       "1   Delhi\\n+6\n",
       "2   Delhi\\n+6\n",
       "3   Delhi\\n+6\n",
       "4   Delhi\\n+6\n",
       "5   Delhi\\n+6\n",
       "6   Delhi\\n+6\n",
       "7   Delhi\\n+9\n",
       "8  Delhi\\n+17\n",
       "9   Delhi\\n+6"
      ]
     },
     "execution_count": 92,
     "metadata": {},
     "output_type": "execute_result"
    }
   ],
   "source": [
    "df5"
   ]
  },
  {
   "cell_type": "code",
   "execution_count": 93,
   "id": "754ed543",
   "metadata": {},
   "outputs": [],
   "source": [
    "name=[]"
   ]
  },
  {
   "cell_type": "code",
   "execution_count": 94,
   "id": "c53dcf07",
   "metadata": {},
   "outputs": [],
   "source": [
    "cmp=driver4.find_elements(By.XPATH,'//div[@class=\"jobCard_jobCard_cName__mYnow\"]')\n",
    "for i in cmp[0:10]:\n",
    "    cmp=i.text\n",
    "    name.append(cmp)"
   ]
  },
  {
   "cell_type": "code",
   "execution_count": 108,
   "id": "3f4dada9",
   "metadata": {},
   "outputs": [],
   "source": [
    "exp1=[]\n"
   ]
  },
  {
   "cell_type": "code",
   "execution_count": 109,
   "id": "d0956491",
   "metadata": {},
   "outputs": [],
   "source": [
    "expr=driver4.find_elements(By.XPATH,'//div[@class=\" jobCard_jobCard_lists_item__YxRkV jobCard_jobIcon__3FB1t\"]')\n",
    "for i in expr[0:10]:\n",
    "    expr=i.text\n",
    "    exp1.append(expr)"
   ]
  },
  {
   "cell_type": "code",
   "execution_count": null,
   "id": "e717a362",
   "metadata": {},
   "outputs": [],
   "source": []
  },
  {
   "cell_type": "code",
   "execution_count": 110,
   "id": "27b054ec",
   "metadata": {},
   "outputs": [],
   "source": [
    "df6=pd.DataFrame({\"Job Title\":job_title,\"Location\":location,\"Company name\":name,\"Experience\":exp1})"
   ]
  },
  {
   "cell_type": "code",
   "execution_count": null,
   "id": "f2b4e8d4",
   "metadata": {},
   "outputs": [],
   "source": []
  },
  {
   "cell_type": "code",
   "execution_count": 111,
   "id": "54a6cb13",
   "metadata": {},
   "outputs": [
    {
     "data": {
      "text/html": [
       "<div>\n",
       "<style scoped>\n",
       "    .dataframe tbody tr th:only-of-type {\n",
       "        vertical-align: middle;\n",
       "    }\n",
       "\n",
       "    .dataframe tbody tr th {\n",
       "        vertical-align: top;\n",
       "    }\n",
       "\n",
       "    .dataframe thead th {\n",
       "        text-align: right;\n",
       "    }\n",
       "</style>\n",
       "<table border=\"1\" class=\"dataframe\">\n",
       "  <thead>\n",
       "    <tr style=\"text-align: right;\">\n",
       "      <th></th>\n",
       "      <th>Job Title</th>\n",
       "      <th>Location</th>\n",
       "      <th>Company name</th>\n",
       "      <th>Experience</th>\n",
       "    </tr>\n",
       "  </thead>\n",
       "  <tbody>\n",
       "    <tr>\n",
       "      <th>0</th>\n",
       "      <td>Data Scientist</td>\n",
       "      <td>Delhi\\n+4</td>\n",
       "      <td>acme services private limited</td>\n",
       "      <td>3 to 5 Yrs</td>\n",
       "    </tr>\n",
       "    <tr>\n",
       "      <th>1</th>\n",
       "      <td>Clinical Data Analyst</td>\n",
       "      <td>Delhi\\n+6</td>\n",
       "      <td>techno endura</td>\n",
       "      <td>0 to 1 Yr</td>\n",
       "    </tr>\n",
       "    <tr>\n",
       "      <th>2</th>\n",
       "      <td>Bioanalytical Research</td>\n",
       "      <td>Delhi\\n+6</td>\n",
       "      <td>techno endura</td>\n",
       "      <td>0 to 1 Yr</td>\n",
       "    </tr>\n",
       "    <tr>\n",
       "      <th>3</th>\n",
       "      <td>Bioanalytical Research Associates</td>\n",
       "      <td>Delhi\\n+6</td>\n",
       "      <td>techno endura</td>\n",
       "      <td>0 to 1 Yr</td>\n",
       "    </tr>\n",
       "    <tr>\n",
       "      <th>4</th>\n",
       "      <td>Clinical Analyst Fresher</td>\n",
       "      <td>Delhi\\n+6</td>\n",
       "      <td>techno endura</td>\n",
       "      <td>0 to 1 Yr</td>\n",
       "    </tr>\n",
       "    <tr>\n",
       "      <th>5</th>\n",
       "      <td>Clinical Data Management</td>\n",
       "      <td>Delhi\\n+6</td>\n",
       "      <td>techno endura</td>\n",
       "      <td>0 to 1 Yr</td>\n",
       "    </tr>\n",
       "    <tr>\n",
       "      <th>6</th>\n",
       "      <td>Junior Clinical Data Management</td>\n",
       "      <td>Delhi\\n+6</td>\n",
       "      <td>techno endura</td>\n",
       "      <td>0 to 1 Yr</td>\n",
       "    </tr>\n",
       "    <tr>\n",
       "      <th>7</th>\n",
       "      <td>Data Engineer</td>\n",
       "      <td>Delhi\\n+9</td>\n",
       "      <td>future solution centre</td>\n",
       "      <td>10 to 20 Yrs</td>\n",
       "    </tr>\n",
       "    <tr>\n",
       "      <th>8</th>\n",
       "      <td>Biostatistician</td>\n",
       "      <td>Delhi\\n+17</td>\n",
       "      <td>national seeds corporation limited</td>\n",
       "      <td>2 to 7 Yrs</td>\n",
       "    </tr>\n",
       "    <tr>\n",
       "      <th>9</th>\n",
       "      <td>Clinical Document Specialist</td>\n",
       "      <td>Delhi\\n+6</td>\n",
       "      <td>techno endura</td>\n",
       "      <td>0 to 1 Yr</td>\n",
       "    </tr>\n",
       "  </tbody>\n",
       "</table>\n",
       "</div>"
      ],
      "text/plain": [
       "                           Job Title    Location  \\\n",
       "0                     Data Scientist   Delhi\\n+4   \n",
       "1              Clinical Data Analyst   Delhi\\n+6   \n",
       "2             Bioanalytical Research   Delhi\\n+6   \n",
       "3  Bioanalytical Research Associates   Delhi\\n+6   \n",
       "4           Clinical Analyst Fresher   Delhi\\n+6   \n",
       "5           Clinical Data Management   Delhi\\n+6   \n",
       "6    Junior Clinical Data Management   Delhi\\n+6   \n",
       "7                      Data Engineer   Delhi\\n+9   \n",
       "8                    Biostatistician  Delhi\\n+17   \n",
       "9       Clinical Document Specialist   Delhi\\n+6   \n",
       "\n",
       "                         Company name    Experience  \n",
       "0       acme services private limited    3 to 5 Yrs  \n",
       "1                       techno endura     0 to 1 Yr  \n",
       "2                       techno endura     0 to 1 Yr  \n",
       "3                       techno endura     0 to 1 Yr  \n",
       "4                       techno endura     0 to 1 Yr  \n",
       "5                       techno endura     0 to 1 Yr  \n",
       "6                       techno endura     0 to 1 Yr  \n",
       "7              future solution centre  10 to 20 Yrs  \n",
       "8  national seeds corporation limited    2 to 7 Yrs  \n",
       "9                       techno endura     0 to 1 Yr  "
      ]
     },
     "execution_count": 111,
     "metadata": {},
     "output_type": "execute_result"
    }
   ],
   "source": [
    "df6"
   ]
  },
  {
   "cell_type": "code",
   "execution_count": null,
   "id": "32cbb54b",
   "metadata": {},
   "outputs": [],
   "source": []
  },
  {
   "cell_type": "markdown",
   "id": "ca0b93a6",
   "metadata": {},
   "source": [
    "Q4: Scrape data of first 100 sunglasses listings on flipkart.com. You have to scrape four attributes:\n",
    "6. Brand\n",
    "7. ProductDescription\n",
    "8. Price\n",
    "The attributes which you have to scrape is ticked marked in the below image.\n",
    "To scrape the data you have to go through following steps:\n",
    "1. Go to Flipkart webpage by url :https://www.flipkart.com/\n",
    "2. Enter “sunglasses” in the search fieldwhere “search for products, brands and more” is written and\n",
    "click the search icon\n",
    "3. After that you will reach to the page having a lot of sunglasses. From this page you can scrap the\n",
    "required data as usual.\n",
    "4. After scraping data from the first page, go to the “Next” Button at the bottom other page , then\n",
    "click on it.\n",
    "5. Now scrape data from this page as usual\n",
    "6. Repeat this until you get data for 100sunglasses.\n",
    "Note: That all of the above steps have to be done by coding only and not manually."
   ]
  },
  {
   "cell_type": "code",
   "execution_count": 2,
   "id": "cb622958",
   "metadata": {},
   "outputs": [],
   "source": [
    "driver5=webdriver.Chrome()\n"
   ]
  },
  {
   "cell_type": "code",
   "execution_count": 3,
   "id": "a24c84a1",
   "metadata": {},
   "outputs": [],
   "source": [
    "driver5.get(\"https://www.flipkart.com/\")"
   ]
  },
  {
   "cell_type": "code",
   "execution_count": 4,
   "id": "5faf0f59",
   "metadata": {},
   "outputs": [],
   "source": [
    "product=driver5.find_element(By.XPATH,'/html/body/div[1]/div/div[1]/div/div/div/div/div[1]/div/div[1]/div/div[1]/div[1]/header/div[1]/div[2]/form/div/div/input')\n",
    "product.send_keys(\"sunglasses\")"
   ]
  },
  {
   "cell_type": "code",
   "execution_count": 5,
   "id": "23262c12",
   "metadata": {},
   "outputs": [],
   "source": [
    "search=driver5.find_element(By.CLASS_NAME,'_2iLD__')\n",
    "search.click()"
   ]
  },
  {
   "cell_type": "code",
   "execution_count": 15,
   "id": "7be27f97",
   "metadata": {},
   "outputs": [],
   "source": [
    "brandname=[]\n",
    "discription=[]\n",
    "totalprice=[]\n",
    "discountinper=[]"
   ]
  },
  {
   "cell_type": "code",
   "execution_count": 16,
   "id": "c0cf1c57",
   "metadata": {},
   "outputs": [],
   "source": [
    "brnd=driver5.find_elements(By.XPATH,'//div[@class=\"_2WkVRV\"]')\n",
    "for i in brnd:\n",
    "    brnd=i.text\n",
    "    brandname.append(brnd)"
   ]
  },
  {
   "cell_type": "code",
   "execution_count": 17,
   "id": "c86f49d1",
   "metadata": {},
   "outputs": [
    {
     "name": "stdout",
     "output_type": "stream",
     "text": [
      "40\n"
     ]
    }
   ],
   "source": [
    "print(len(brandname))"
   ]
  },
  {
   "cell_type": "code",
   "execution_count": 20,
   "id": "fe36c4ae",
   "metadata": {},
   "outputs": [],
   "source": [
    "discrip=driver5.find_elements(By.XPATH,'//div[@class=\"_2B099V\"]/a')\n",
    "for i in discrip[0:40]:\n",
    "    discrip=i.text\n",
    "    discription.append(discrip)"
   ]
  },
  {
   "cell_type": "code",
   "execution_count": 21,
   "id": "12b046f8",
   "metadata": {},
   "outputs": [
    {
     "name": "stdout",
     "output_type": "stream",
     "text": [
      "40\n"
     ]
    }
   ],
   "source": [
    "print(len(discription))"
   ]
  },
  {
   "cell_type": "code",
   "execution_count": 22,
   "id": "c1131bbe",
   "metadata": {},
   "outputs": [],
   "source": [
    "prc=driver5.find_elements(By.XPATH,'//div[@class=\"_30jeq3\"]')\n",
    "for i in prc:\n",
    "    prc=i.text\n",
    "    totalprice.append(prc)"
   ]
  },
  {
   "cell_type": "code",
   "execution_count": 24,
   "id": "1f2e5d12",
   "metadata": {},
   "outputs": [
    {
     "name": "stdout",
     "output_type": "stream",
     "text": [
      "40\n"
     ]
    }
   ],
   "source": [
    "print(len(totalprice))"
   ]
  },
  {
   "cell_type": "code",
   "execution_count": 27,
   "id": "7feb0f36",
   "metadata": {},
   "outputs": [],
   "source": [
    "dcnt=driver5.find_elements(By.XPATH,'//div[@class=\"_3Ay6Sb\"]')\n",
    "for i in dcnt:\n",
    "    dcnt=i.text\n",
    "    discountinper.append(dcnt)"
   ]
  },
  {
   "cell_type": "code",
   "execution_count": 28,
   "id": "f721af97",
   "metadata": {},
   "outputs": [
    {
     "name": "stdout",
     "output_type": "stream",
     "text": [
      "40\n"
     ]
    }
   ],
   "source": [
    "print(len(discountinper))"
   ]
  },
  {
   "cell_type": "code",
   "execution_count": 29,
   "id": "d0980c05",
   "metadata": {},
   "outputs": [],
   "source": [
    "dffirst=pd.DataFrame({\"Brand'Name\":brandname,\"Discription\":discription,\"Total Price\":totalprice,\"Discount\":discountinper})"
   ]
  },
  {
   "cell_type": "code",
   "execution_count": 30,
   "id": "2699e044",
   "metadata": {},
   "outputs": [
    {
     "data": {
      "text/html": [
       "<div>\n",
       "<style scoped>\n",
       "    .dataframe tbody tr th:only-of-type {\n",
       "        vertical-align: middle;\n",
       "    }\n",
       "\n",
       "    .dataframe tbody tr th {\n",
       "        vertical-align: top;\n",
       "    }\n",
       "\n",
       "    .dataframe thead th {\n",
       "        text-align: right;\n",
       "    }\n",
       "</style>\n",
       "<table border=\"1\" class=\"dataframe\">\n",
       "  <thead>\n",
       "    <tr style=\"text-align: right;\">\n",
       "      <th></th>\n",
       "      <th>Brand'Name</th>\n",
       "      <th>Discription</th>\n",
       "      <th>Total Price</th>\n",
       "      <th>Discount</th>\n",
       "    </tr>\n",
       "  </thead>\n",
       "  <tbody>\n",
       "    <tr>\n",
       "      <th>0</th>\n",
       "      <td>Lenskart STUDIO</td>\n",
       "      <td>Polarized, UV Protection Sports Sunglasses (55)</td>\n",
       "      <td>₹1,429</td>\n",
       "      <td>59% off</td>\n",
       "    </tr>\n",
       "    <tr>\n",
       "      <th>1</th>\n",
       "      <td>Lenskart STUDIO</td>\n",
       "      <td>₹1,429₹3,50059% off</td>\n",
       "      <td>₹1,429</td>\n",
       "      <td>59% off</td>\n",
       "    </tr>\n",
       "    <tr>\n",
       "      <th>2</th>\n",
       "      <td>SRPM</td>\n",
       "      <td>Polarized, UV Protection Aviator Sunglasses (51)</td>\n",
       "      <td>₹149</td>\n",
       "      <td>88% off</td>\n",
       "    </tr>\n",
       "    <tr>\n",
       "      <th>3</th>\n",
       "      <td>Fastrack</td>\n",
       "      <td>₹1,429₹3,50059% off</td>\n",
       "      <td>₹599</td>\n",
       "      <td>45% off</td>\n",
       "    </tr>\n",
       "    <tr>\n",
       "      <th>4</th>\n",
       "      <td>Elligator</td>\n",
       "      <td>UV Protection Wayfarer Sunglasses (50)</td>\n",
       "      <td>₹149</td>\n",
       "      <td>70% off</td>\n",
       "    </tr>\n",
       "    <tr>\n",
       "      <th>5</th>\n",
       "      <td>VINCENT CHASE</td>\n",
       "      <td>₹149₹1,29988% off</td>\n",
       "      <td>₹523</td>\n",
       "      <td>73% off</td>\n",
       "    </tr>\n",
       "    <tr>\n",
       "      <th>6</th>\n",
       "      <td>Bembika</td>\n",
       "      <td>UV Protection Wayfarer Sunglasses (58)</td>\n",
       "      <td>₹189</td>\n",
       "      <td>36% off</td>\n",
       "    </tr>\n",
       "    <tr>\n",
       "      <th>7</th>\n",
       "      <td>Eyewearlabs</td>\n",
       "      <td>₹599₹1,09945% off</td>\n",
       "      <td>₹2,199</td>\n",
       "      <td>38% off</td>\n",
       "    </tr>\n",
       "    <tr>\n",
       "      <th>8</th>\n",
       "      <td>ROADWAY</td>\n",
       "      <td>UV Protection Retro Square Sunglasses (54)</td>\n",
       "      <td>₹129</td>\n",
       "      <td>87% off</td>\n",
       "    </tr>\n",
       "    <tr>\n",
       "      <th>9</th>\n",
       "      <td>Elligator</td>\n",
       "      <td>₹149₹49970% off</td>\n",
       "      <td>₹169</td>\n",
       "      <td>83% off</td>\n",
       "    </tr>\n",
       "    <tr>\n",
       "      <th>10</th>\n",
       "      <td>Singco India</td>\n",
       "      <td>by Lenskart UV Protection Wayfarer Sunglasses ...</td>\n",
       "      <td>₹249</td>\n",
       "      <td>91% off</td>\n",
       "    </tr>\n",
       "    <tr>\n",
       "      <th>11</th>\n",
       "      <td>Singco India</td>\n",
       "      <td>₹523₹1,99973% off</td>\n",
       "      <td>₹375</td>\n",
       "      <td>84% off</td>\n",
       "    </tr>\n",
       "    <tr>\n",
       "      <th>12</th>\n",
       "      <td>Rich Club</td>\n",
       "      <td>UV Protection Spectacle Sunglasses (Free Size)</td>\n",
       "      <td>₹487</td>\n",
       "      <td>62% off</td>\n",
       "    </tr>\n",
       "    <tr>\n",
       "      <th>13</th>\n",
       "      <td>emonex</td>\n",
       "      <td>₹189₹29936% off</td>\n",
       "      <td>₹199</td>\n",
       "      <td>83% off</td>\n",
       "    </tr>\n",
       "    <tr>\n",
       "      <th>14</th>\n",
       "      <td>CLICKEDIN</td>\n",
       "      <td>Polarized, UV Protection Rectangular Sunglasse...</td>\n",
       "      <td>₹221</td>\n",
       "      <td>72% off</td>\n",
       "    </tr>\n",
       "    <tr>\n",
       "      <th>15</th>\n",
       "      <td>Elligator</td>\n",
       "      <td>₹2,199₹3,59938% off</td>\n",
       "      <td>₹149</td>\n",
       "      <td>88% off</td>\n",
       "    </tr>\n",
       "    <tr>\n",
       "      <th>16</th>\n",
       "      <td>ROYAL SON</td>\n",
       "      <td>UV Protection Retro Square, Wayfarer, Sports S...</td>\n",
       "      <td>₹359</td>\n",
       "      <td>76% off</td>\n",
       "    </tr>\n",
       "    <tr>\n",
       "      <th>17</th>\n",
       "      <td>Eyewearlabs</td>\n",
       "      <td>₹129₹99987% off</td>\n",
       "      <td>₹1,236</td>\n",
       "      <td>65% off</td>\n",
       "    </tr>\n",
       "    <tr>\n",
       "      <th>18</th>\n",
       "      <td>VALWICK</td>\n",
       "      <td>UV Protection, Mirrored Wayfarer Sunglasses (52)</td>\n",
       "      <td>₹399</td>\n",
       "      <td>76% off</td>\n",
       "    </tr>\n",
       "    <tr>\n",
       "      <th>19</th>\n",
       "      <td>Elligator</td>\n",
       "      <td>₹169₹99983% off</td>\n",
       "      <td>₹149</td>\n",
       "      <td>75% off</td>\n",
       "    </tr>\n",
       "    <tr>\n",
       "      <th>20</th>\n",
       "      <td>Singco India</td>\n",
       "      <td>Mirrored Wayfarer Sunglasses (50)</td>\n",
       "      <td>₹249</td>\n",
       "      <td>87% off</td>\n",
       "    </tr>\n",
       "    <tr>\n",
       "      <th>21</th>\n",
       "      <td>Singco India</td>\n",
       "      <td>₹249₹2,99991% off</td>\n",
       "      <td>₹499</td>\n",
       "      <td>80% off</td>\n",
       "    </tr>\n",
       "    <tr>\n",
       "      <th>22</th>\n",
       "      <td>VINCENT CHASE</td>\n",
       "      <td>Polarized, UV Protection Wayfarer, Retro Squar...</td>\n",
       "      <td>₹499</td>\n",
       "      <td>75% off</td>\n",
       "    </tr>\n",
       "    <tr>\n",
       "      <th>23</th>\n",
       "      <td>OAKLEY</td>\n",
       "      <td>₹375₹2,49984% off</td>\n",
       "      <td>₹4,899</td>\n",
       "      <td>34% off</td>\n",
       "    </tr>\n",
       "    <tr>\n",
       "      <th>24</th>\n",
       "      <td>DEIXELS</td>\n",
       "      <td>UV Protection Retro Square Sunglasses (54)</td>\n",
       "      <td>₹187</td>\n",
       "      <td>68% off</td>\n",
       "    </tr>\n",
       "    <tr>\n",
       "      <th>25</th>\n",
       "      <td>Rich Club</td>\n",
       "      <td>₹487₹1,29962% off</td>\n",
       "      <td>₹394</td>\n",
       "      <td>80% off</td>\n",
       "    </tr>\n",
       "    <tr>\n",
       "      <th>26</th>\n",
       "      <td>Hooper</td>\n",
       "      <td>UV Protection Retro Square Sunglasses (55)</td>\n",
       "      <td>₹599</td>\n",
       "      <td>70% off</td>\n",
       "    </tr>\n",
       "    <tr>\n",
       "      <th>27</th>\n",
       "      <td>GANSTA</td>\n",
       "      <td>₹199₹1,19983% off</td>\n",
       "      <td>₹292</td>\n",
       "      <td>85% off</td>\n",
       "    </tr>\n",
       "    <tr>\n",
       "      <th>28</th>\n",
       "      <td>PIRASO</td>\n",
       "      <td>UV Protection Retro Square Sunglasses (Free Size)</td>\n",
       "      <td>₹279</td>\n",
       "      <td>82% off</td>\n",
       "    </tr>\n",
       "    <tr>\n",
       "      <th>29</th>\n",
       "      <td>PIRASO</td>\n",
       "      <td>₹221₹79972% off</td>\n",
       "      <td>₹210</td>\n",
       "      <td>86% off</td>\n",
       "    </tr>\n",
       "    <tr>\n",
       "      <th>30</th>\n",
       "      <td>Eyenaks</td>\n",
       "      <td>UV Protection Wayfarer Sunglasses (53)</td>\n",
       "      <td>₹346</td>\n",
       "      <td>76% off</td>\n",
       "    </tr>\n",
       "    <tr>\n",
       "      <th>31</th>\n",
       "      <td>Lenskart STUDIO</td>\n",
       "      <td>₹149₹1,29988% off</td>\n",
       "      <td>₹1,199</td>\n",
       "      <td>65% off</td>\n",
       "    </tr>\n",
       "    <tr>\n",
       "      <th>32</th>\n",
       "      <td>VINCENT CHASE</td>\n",
       "      <td>Mirrored Aviator Sunglasses (58)</td>\n",
       "      <td>₹499</td>\n",
       "      <td>75% off</td>\n",
       "    </tr>\n",
       "    <tr>\n",
       "      <th>33</th>\n",
       "      <td>Elligator</td>\n",
       "      <td>₹359₹1,49976% off</td>\n",
       "      <td>₹168</td>\n",
       "      <td>87% off</td>\n",
       "    </tr>\n",
       "    <tr>\n",
       "      <th>34</th>\n",
       "      <td>FEMISH</td>\n",
       "      <td>Polarized, UV Protection Wayfarer Sunglasses (51)</td>\n",
       "      <td>₹399</td>\n",
       "      <td>60% off</td>\n",
       "    </tr>\n",
       "    <tr>\n",
       "      <th>35</th>\n",
       "      <td>Fastrack</td>\n",
       "      <td>₹1,236₹3,59965% off</td>\n",
       "      <td>₹659</td>\n",
       "      <td>26% off</td>\n",
       "    </tr>\n",
       "    <tr>\n",
       "      <th>36</th>\n",
       "      <td>ROYAL SON</td>\n",
       "      <td>UV Protection Retro Square Sunglasses (18)</td>\n",
       "      <td>₹594</td>\n",
       "      <td>70% off</td>\n",
       "    </tr>\n",
       "    <tr>\n",
       "      <th>37</th>\n",
       "      <td>Eyewearlabs</td>\n",
       "      <td>₹399₹1,69976% off</td>\n",
       "      <td>₹1,299</td>\n",
       "      <td>63% off</td>\n",
       "    </tr>\n",
       "    <tr>\n",
       "      <th>38</th>\n",
       "      <td>VINCENT CHASE</td>\n",
       "      <td>UV Protection Cat-eye, Retro Square, Oval, Rou...</td>\n",
       "      <td>₹811</td>\n",
       "      <td>59% off</td>\n",
       "    </tr>\n",
       "    <tr>\n",
       "      <th>39</th>\n",
       "      <td>PIRASO</td>\n",
       "      <td>₹149₹59975% off</td>\n",
       "      <td>₹299</td>\n",
       "      <td>88% off</td>\n",
       "    </tr>\n",
       "  </tbody>\n",
       "</table>\n",
       "</div>"
      ],
      "text/plain": [
       "         Brand'Name                                        Discription  \\\n",
       "0   Lenskart STUDIO    Polarized, UV Protection Sports Sunglasses (55)   \n",
       "1   Lenskart STUDIO                                ₹1,429₹3,50059% off   \n",
       "2              SRPM   Polarized, UV Protection Aviator Sunglasses (51)   \n",
       "3          Fastrack                                ₹1,429₹3,50059% off   \n",
       "4         Elligator             UV Protection Wayfarer Sunglasses (50)   \n",
       "5     VINCENT CHASE                                  ₹149₹1,29988% off   \n",
       "6           Bembika             UV Protection Wayfarer Sunglasses (58)   \n",
       "7       Eyewearlabs                                  ₹599₹1,09945% off   \n",
       "8           ROADWAY         UV Protection Retro Square Sunglasses (54)   \n",
       "9         Elligator                                    ₹149₹49970% off   \n",
       "10     Singco India  by Lenskart UV Protection Wayfarer Sunglasses ...   \n",
       "11     Singco India                                  ₹523₹1,99973% off   \n",
       "12        Rich Club     UV Protection Spectacle Sunglasses (Free Size)   \n",
       "13           emonex                                    ₹189₹29936% off   \n",
       "14        CLICKEDIN  Polarized, UV Protection Rectangular Sunglasse...   \n",
       "15        Elligator                                ₹2,199₹3,59938% off   \n",
       "16        ROYAL SON  UV Protection Retro Square, Wayfarer, Sports S...   \n",
       "17      Eyewearlabs                                    ₹129₹99987% off   \n",
       "18          VALWICK   UV Protection, Mirrored Wayfarer Sunglasses (52)   \n",
       "19        Elligator                                    ₹169₹99983% off   \n",
       "20     Singco India                  Mirrored Wayfarer Sunglasses (50)   \n",
       "21     Singco India                                  ₹249₹2,99991% off   \n",
       "22    VINCENT CHASE  Polarized, UV Protection Wayfarer, Retro Squar...   \n",
       "23           OAKLEY                                  ₹375₹2,49984% off   \n",
       "24          DEIXELS         UV Protection Retro Square Sunglasses (54)   \n",
       "25        Rich Club                                  ₹487₹1,29962% off   \n",
       "26           Hooper         UV Protection Retro Square Sunglasses (55)   \n",
       "27           GANSTA                                  ₹199₹1,19983% off   \n",
       "28           PIRASO  UV Protection Retro Square Sunglasses (Free Size)   \n",
       "29           PIRASO                                    ₹221₹79972% off   \n",
       "30          Eyenaks             UV Protection Wayfarer Sunglasses (53)   \n",
       "31  Lenskart STUDIO                                  ₹149₹1,29988% off   \n",
       "32    VINCENT CHASE                   Mirrored Aviator Sunglasses (58)   \n",
       "33        Elligator                                  ₹359₹1,49976% off   \n",
       "34           FEMISH  Polarized, UV Protection Wayfarer Sunglasses (51)   \n",
       "35         Fastrack                                ₹1,236₹3,59965% off   \n",
       "36        ROYAL SON         UV Protection Retro Square Sunglasses (18)   \n",
       "37      Eyewearlabs                                  ₹399₹1,69976% off   \n",
       "38    VINCENT CHASE  UV Protection Cat-eye, Retro Square, Oval, Rou...   \n",
       "39           PIRASO                                    ₹149₹59975% off   \n",
       "\n",
       "   Total Price Discount  \n",
       "0       ₹1,429  59% off  \n",
       "1       ₹1,429  59% off  \n",
       "2         ₹149  88% off  \n",
       "3         ₹599  45% off  \n",
       "4         ₹149  70% off  \n",
       "5         ₹523  73% off  \n",
       "6         ₹189  36% off  \n",
       "7       ₹2,199  38% off  \n",
       "8         ₹129  87% off  \n",
       "9         ₹169  83% off  \n",
       "10        ₹249  91% off  \n",
       "11        ₹375  84% off  \n",
       "12        ₹487  62% off  \n",
       "13        ₹199  83% off  \n",
       "14        ₹221  72% off  \n",
       "15        ₹149  88% off  \n",
       "16        ₹359  76% off  \n",
       "17      ₹1,236  65% off  \n",
       "18        ₹399  76% off  \n",
       "19        ₹149  75% off  \n",
       "20        ₹249  87% off  \n",
       "21        ₹499  80% off  \n",
       "22        ₹499  75% off  \n",
       "23      ₹4,899  34% off  \n",
       "24        ₹187  68% off  \n",
       "25        ₹394  80% off  \n",
       "26        ₹599  70% off  \n",
       "27        ₹292  85% off  \n",
       "28        ₹279  82% off  \n",
       "29        ₹210  86% off  \n",
       "30        ₹346  76% off  \n",
       "31      ₹1,199  65% off  \n",
       "32        ₹499  75% off  \n",
       "33        ₹168  87% off  \n",
       "34        ₹399  60% off  \n",
       "35        ₹659  26% off  \n",
       "36        ₹594  70% off  \n",
       "37      ₹1,299  63% off  \n",
       "38        ₹811  59% off  \n",
       "39        ₹299  88% off  "
      ]
     },
     "execution_count": 30,
     "metadata": {},
     "output_type": "execute_result"
    }
   ],
   "source": [
    "dffirst"
   ]
  },
  {
   "cell_type": "code",
   "execution_count": null,
   "id": "20665c2d",
   "metadata": {},
   "outputs": [],
   "source": []
  },
  {
   "cell_type": "code",
   "execution_count": 31,
   "id": "e0625b7b",
   "metadata": {},
   "outputs": [],
   "source": [
    "next=driver5.find_element(By.CLASS_NAME,'_1LKTO3')\n",
    "next.click()"
   ]
  },
  {
   "cell_type": "code",
   "execution_count": 32,
   "id": "b3686b0a",
   "metadata": {},
   "outputs": [],
   "source": [
    "nextbrand=driver5.find_elements(By.XPATH,'//div[@class=\"_2WkVRV\"]')\n",
    "for i in nextbrand:\n",
    "    nextbrand=i.text\n",
    "    brandname.append(nextbrand)"
   ]
  },
  {
   "cell_type": "code",
   "execution_count": 33,
   "id": "ddd6d663",
   "metadata": {},
   "outputs": [
    {
     "name": "stdout",
     "output_type": "stream",
     "text": [
      "80\n"
     ]
    }
   ],
   "source": [
    "print(len(brandname))"
   ]
  },
  {
   "cell_type": "code",
   "execution_count": 34,
   "id": "4ec83650",
   "metadata": {},
   "outputs": [],
   "source": [
    "nextdiscription=driver5.find_elements(By.XPATH,'//a[@class=\"IRpwTa\"]')\n",
    "for i in nextdiscription:\n",
    "    nextdiscription=i.text\n",
    "    discription.append(nextdiscription)\n",
    "    "
   ]
  },
  {
   "cell_type": "code",
   "execution_count": 35,
   "id": "ec4104cb",
   "metadata": {},
   "outputs": [
    {
     "name": "stdout",
     "output_type": "stream",
     "text": [
      "80\n"
     ]
    }
   ],
   "source": [
    "print(len(discription))"
   ]
  },
  {
   "cell_type": "code",
   "execution_count": 36,
   "id": "9fa5b4c5",
   "metadata": {},
   "outputs": [],
   "source": [
    "nextprice=driver5.find_elements(By.XPATH,'//div[@class=\"_30jeq3\"]')\n",
    "for i in nextprice:\n",
    "    nextprice=i.text\n",
    "    totalprice.append(nextprice)\n",
    "    "
   ]
  },
  {
   "cell_type": "code",
   "execution_count": 37,
   "id": "3a1fa3b3",
   "metadata": {},
   "outputs": [
    {
     "name": "stdout",
     "output_type": "stream",
     "text": [
      "80\n"
     ]
    }
   ],
   "source": [
    "print(len(totalprice))"
   ]
  },
  {
   "cell_type": "code",
   "execution_count": 38,
   "id": "076d63bd",
   "metadata": {},
   "outputs": [],
   "source": [
    "nextdis=driver5.find_elements(By.XPATH,'//div[@class=\"_3Ay6Sb\"]')\n",
    "for i in nextdis:\n",
    "    nextdis=i.text\n",
    "    discountinper.append(nextdis)"
   ]
  },
  {
   "cell_type": "code",
   "execution_count": 41,
   "id": "93f7c5db",
   "metadata": {},
   "outputs": [
    {
     "name": "stdout",
     "output_type": "stream",
     "text": [
      "80\n"
     ]
    }
   ],
   "source": [
    "print(len(discountinper))"
   ]
  },
  {
   "cell_type": "code",
   "execution_count": 42,
   "id": "bada3abb",
   "metadata": {},
   "outputs": [],
   "source": [
    "dffirst=pd.DataFrame({\"Brand'Name\":brandname,\"Discription\":discription,\"Total Price\":totalprice,\"Discount\":discountinper})"
   ]
  },
  {
   "cell_type": "code",
   "execution_count": 43,
   "id": "c04bb46d",
   "metadata": {},
   "outputs": [
    {
     "data": {
      "text/html": [
       "<div>\n",
       "<style scoped>\n",
       "    .dataframe tbody tr th:only-of-type {\n",
       "        vertical-align: middle;\n",
       "    }\n",
       "\n",
       "    .dataframe tbody tr th {\n",
       "        vertical-align: top;\n",
       "    }\n",
       "\n",
       "    .dataframe thead th {\n",
       "        text-align: right;\n",
       "    }\n",
       "</style>\n",
       "<table border=\"1\" class=\"dataframe\">\n",
       "  <thead>\n",
       "    <tr style=\"text-align: right;\">\n",
       "      <th></th>\n",
       "      <th>Brand'Name</th>\n",
       "      <th>Discription</th>\n",
       "      <th>Total Price</th>\n",
       "      <th>Discount</th>\n",
       "    </tr>\n",
       "  </thead>\n",
       "  <tbody>\n",
       "    <tr>\n",
       "      <th>0</th>\n",
       "      <td>Lenskart STUDIO</td>\n",
       "      <td>Polarized, UV Protection Sports Sunglasses (55)</td>\n",
       "      <td>₹1,429</td>\n",
       "      <td>59% off</td>\n",
       "    </tr>\n",
       "    <tr>\n",
       "      <th>1</th>\n",
       "      <td>Lenskart STUDIO</td>\n",
       "      <td>₹1,429₹3,50059% off</td>\n",
       "      <td>₹1,429</td>\n",
       "      <td>59% off</td>\n",
       "    </tr>\n",
       "    <tr>\n",
       "      <th>2</th>\n",
       "      <td>SRPM</td>\n",
       "      <td>Polarized, UV Protection Aviator Sunglasses (51)</td>\n",
       "      <td>₹149</td>\n",
       "      <td>88% off</td>\n",
       "    </tr>\n",
       "    <tr>\n",
       "      <th>3</th>\n",
       "      <td>Fastrack</td>\n",
       "      <td>₹1,429₹3,50059% off</td>\n",
       "      <td>₹599</td>\n",
       "      <td>45% off</td>\n",
       "    </tr>\n",
       "    <tr>\n",
       "      <th>4</th>\n",
       "      <td>Elligator</td>\n",
       "      <td>UV Protection Wayfarer Sunglasses (50)</td>\n",
       "      <td>₹149</td>\n",
       "      <td>70% off</td>\n",
       "    </tr>\n",
       "    <tr>\n",
       "      <th>...</th>\n",
       "      <td>...</td>\n",
       "      <td>...</td>\n",
       "      <td>...</td>\n",
       "      <td>...</td>\n",
       "    </tr>\n",
       "    <tr>\n",
       "      <th>75</th>\n",
       "      <td>VINCENT CHASE</td>\n",
       "      <td>by Lenskart Polarized, UV Protection Round Sun...</td>\n",
       "      <td>₹759</td>\n",
       "      <td>62% off</td>\n",
       "    </tr>\n",
       "    <tr>\n",
       "      <th>76</th>\n",
       "      <td>PROVOGUE</td>\n",
       "      <td>UV Protection Round Sunglasses (Free Size)</td>\n",
       "      <td>₹634</td>\n",
       "      <td>75% off</td>\n",
       "    </tr>\n",
       "    <tr>\n",
       "      <th>77</th>\n",
       "      <td>Singco India</td>\n",
       "      <td>Riding Glasses, UV Protection Clubmaster, Wayf...</td>\n",
       "      <td>₹317</td>\n",
       "      <td>84% off</td>\n",
       "    </tr>\n",
       "    <tr>\n",
       "      <th>78</th>\n",
       "      <td>PIRASO</td>\n",
       "      <td>UV Protection Retro Square Sunglasses (54)</td>\n",
       "      <td>₹232</td>\n",
       "      <td>85% off</td>\n",
       "    </tr>\n",
       "    <tr>\n",
       "      <th>79</th>\n",
       "      <td>Lenskart Boost</td>\n",
       "      <td>UV Protection Sports Sunglasses (55)</td>\n",
       "      <td>₹1,899</td>\n",
       "      <td>45% off</td>\n",
       "    </tr>\n",
       "  </tbody>\n",
       "</table>\n",
       "<p>80 rows × 4 columns</p>\n",
       "</div>"
      ],
      "text/plain": [
       "         Brand'Name                                        Discription  \\\n",
       "0   Lenskart STUDIO    Polarized, UV Protection Sports Sunglasses (55)   \n",
       "1   Lenskart STUDIO                                ₹1,429₹3,50059% off   \n",
       "2              SRPM   Polarized, UV Protection Aviator Sunglasses (51)   \n",
       "3          Fastrack                                ₹1,429₹3,50059% off   \n",
       "4         Elligator             UV Protection Wayfarer Sunglasses (50)   \n",
       "..              ...                                                ...   \n",
       "75    VINCENT CHASE  by Lenskart Polarized, UV Protection Round Sun...   \n",
       "76         PROVOGUE         UV Protection Round Sunglasses (Free Size)   \n",
       "77     Singco India  Riding Glasses, UV Protection Clubmaster, Wayf...   \n",
       "78           PIRASO         UV Protection Retro Square Sunglasses (54)   \n",
       "79   Lenskart Boost               UV Protection Sports Sunglasses (55)   \n",
       "\n",
       "   Total Price Discount  \n",
       "0       ₹1,429  59% off  \n",
       "1       ₹1,429  59% off  \n",
       "2         ₹149  88% off  \n",
       "3         ₹599  45% off  \n",
       "4         ₹149  70% off  \n",
       "..         ...      ...  \n",
       "75        ₹759  62% off  \n",
       "76        ₹634  75% off  \n",
       "77        ₹317  84% off  \n",
       "78        ₹232  85% off  \n",
       "79      ₹1,899  45% off  \n",
       "\n",
       "[80 rows x 4 columns]"
      ]
     },
     "execution_count": 43,
     "metadata": {},
     "output_type": "execute_result"
    }
   ],
   "source": [
    "dffirst"
   ]
  },
  {
   "cell_type": "code",
   "execution_count": null,
   "id": "14bb300e",
   "metadata": {},
   "outputs": [],
   "source": []
  },
  {
   "cell_type": "code",
   "execution_count": 44,
   "id": "199b70a9",
   "metadata": {},
   "outputs": [],
   "source": [
    "nextclick=driver5.find_element(By.XPATH,'/html/body/div/div/div[3]/div[1]/div[2]/div[12]/div/div/nav/a[12]')\n",
    "nextclick.click()"
   ]
  },
  {
   "cell_type": "code",
   "execution_count": null,
   "id": "c66b3ccb",
   "metadata": {},
   "outputs": [],
   "source": [
    "\n",
    "    \n",
    "    "
   ]
  },
  {
   "cell_type": "code",
   "execution_count": 105,
   "id": "585106e6",
   "metadata": {},
   "outputs": [
    {
     "data": {
      "text/plain": [
       "'VINCENT CHASE'"
      ]
     },
     "execution_count": 105,
     "metadata": {},
     "output_type": "execute_result"
    }
   ],
   "source": [
    "brandlast"
   ]
  },
  {
   "cell_type": "code",
   "execution_count": 45,
   "id": "225acfce",
   "metadata": {},
   "outputs": [],
   "source": [
    "lastdis=driver5.find_elements(By.XPATH,'//div[@class=\"_2WkVRV\"]')\n",
    "for i in lastdis[0:20]:\n",
    "    lastdis=i.text\n",
    "    discription.append(lastdis)\n",
    "    "
   ]
  },
  {
   "cell_type": "code",
   "execution_count": 47,
   "id": "311585f0",
   "metadata": {},
   "outputs": [
    {
     "name": "stdout",
     "output_type": "stream",
     "text": [
      "100\n"
     ]
    }
   ],
   "source": [
    "print(len(discription))"
   ]
  },
  {
   "cell_type": "code",
   "execution_count": 48,
   "id": "7e9ce43a",
   "metadata": {},
   "outputs": [],
   "source": [
    "lastbra=driver5.find_elements(By.XPATH,'//div[@class=\"_2WkVRV\"]')\n",
    "for i in lastbra[0:20]:\n",
    "    lastbra=i.text\n",
    "    brandname.append(lastbra)"
   ]
  },
  {
   "cell_type": "code",
   "execution_count": 49,
   "id": "3406acdc",
   "metadata": {},
   "outputs": [
    {
     "name": "stdout",
     "output_type": "stream",
     "text": [
      "100\n"
     ]
    }
   ],
   "source": [
    "print(len(brandname))"
   ]
  },
  {
   "cell_type": "code",
   "execution_count": 50,
   "id": "bc5f9b98",
   "metadata": {},
   "outputs": [],
   "source": [
    "price3=driver5.find_elements(By.XPATH,'//div[@class=\"_30jeq3\"]')\n",
    "for i in price3[0:20]:\n",
    "    price3=i.text\n",
    "    totalprice.append(price3)\n",
    "    "
   ]
  },
  {
   "cell_type": "code",
   "execution_count": 51,
   "id": "64f1ff9c",
   "metadata": {},
   "outputs": [
    {
     "name": "stdout",
     "output_type": "stream",
     "text": [
      "100\n"
     ]
    }
   ],
   "source": [
    "print(len(totalprice))"
   ]
  },
  {
   "cell_type": "code",
   "execution_count": 52,
   "id": "f9d25dbc",
   "metadata": {},
   "outputs": [],
   "source": [
    "disct=driver5.find_elements(By.XPATH,'//div[@class=\"_3Ay6Sb\"]')\n",
    "for i in disct[0:20]:\n",
    "    disct=i.text\n",
    "    discountinper.append(disct)"
   ]
  },
  {
   "cell_type": "code",
   "execution_count": 53,
   "id": "b188b691",
   "metadata": {},
   "outputs": [
    {
     "name": "stdout",
     "output_type": "stream",
     "text": [
      "100\n"
     ]
    }
   ],
   "source": [
    "print(len(discountinper))"
   ]
  },
  {
   "cell_type": "code",
   "execution_count": 55,
   "id": "d590e649",
   "metadata": {},
   "outputs": [],
   "source": [
    "dffirst=pd.DataFrame({\"Brand'Name\":brandname,\"Discription\":discription,\"Total Price\":totalprice,\"Discount\":discountinper})"
   ]
  },
  {
   "cell_type": "code",
   "execution_count": 56,
   "id": "1bf3ee55",
   "metadata": {},
   "outputs": [
    {
     "data": {
      "text/html": [
       "<div>\n",
       "<style scoped>\n",
       "    .dataframe tbody tr th:only-of-type {\n",
       "        vertical-align: middle;\n",
       "    }\n",
       "\n",
       "    .dataframe tbody tr th {\n",
       "        vertical-align: top;\n",
       "    }\n",
       "\n",
       "    .dataframe thead th {\n",
       "        text-align: right;\n",
       "    }\n",
       "</style>\n",
       "<table border=\"1\" class=\"dataframe\">\n",
       "  <thead>\n",
       "    <tr style=\"text-align: right;\">\n",
       "      <th></th>\n",
       "      <th>Brand'Name</th>\n",
       "      <th>Discription</th>\n",
       "      <th>Total Price</th>\n",
       "      <th>Discount</th>\n",
       "    </tr>\n",
       "  </thead>\n",
       "  <tbody>\n",
       "    <tr>\n",
       "      <th>0</th>\n",
       "      <td>Lenskart STUDIO</td>\n",
       "      <td>Polarized, UV Protection Sports Sunglasses (55)</td>\n",
       "      <td>₹1,429</td>\n",
       "      <td>59% off</td>\n",
       "    </tr>\n",
       "    <tr>\n",
       "      <th>1</th>\n",
       "      <td>Lenskart STUDIO</td>\n",
       "      <td>₹1,429₹3,50059% off</td>\n",
       "      <td>₹1,429</td>\n",
       "      <td>59% off</td>\n",
       "    </tr>\n",
       "    <tr>\n",
       "      <th>2</th>\n",
       "      <td>SRPM</td>\n",
       "      <td>Polarized, UV Protection Aviator Sunglasses (51)</td>\n",
       "      <td>₹149</td>\n",
       "      <td>88% off</td>\n",
       "    </tr>\n",
       "    <tr>\n",
       "      <th>3</th>\n",
       "      <td>Fastrack</td>\n",
       "      <td>₹1,429₹3,50059% off</td>\n",
       "      <td>₹599</td>\n",
       "      <td>45% off</td>\n",
       "    </tr>\n",
       "    <tr>\n",
       "      <th>4</th>\n",
       "      <td>Elligator</td>\n",
       "      <td>UV Protection Wayfarer Sunglasses (50)</td>\n",
       "      <td>₹149</td>\n",
       "      <td>70% off</td>\n",
       "    </tr>\n",
       "    <tr>\n",
       "      <th>...</th>\n",
       "      <td>...</td>\n",
       "      <td>...</td>\n",
       "      <td>...</td>\n",
       "      <td>...</td>\n",
       "    </tr>\n",
       "    <tr>\n",
       "      <th>95</th>\n",
       "      <td>BKGE</td>\n",
       "      <td>BKGE</td>\n",
       "      <td>₹159</td>\n",
       "      <td>84% off</td>\n",
       "    </tr>\n",
       "    <tr>\n",
       "      <th>96</th>\n",
       "      <td>ROYAL SON</td>\n",
       "      <td>ROYAL SON</td>\n",
       "      <td>₹594</td>\n",
       "      <td>70% off</td>\n",
       "    </tr>\n",
       "    <tr>\n",
       "      <th>97</th>\n",
       "      <td>Eyewearlabs</td>\n",
       "      <td>Eyewearlabs</td>\n",
       "      <td>₹1,299</td>\n",
       "      <td>63% off</td>\n",
       "    </tr>\n",
       "    <tr>\n",
       "      <th>98</th>\n",
       "      <td>Singco India</td>\n",
       "      <td>Singco India</td>\n",
       "      <td>₹317</td>\n",
       "      <td>84% off</td>\n",
       "    </tr>\n",
       "    <tr>\n",
       "      <th>99</th>\n",
       "      <td>ROZZETTA CRAFT</td>\n",
       "      <td>ROZZETTA CRAFT</td>\n",
       "      <td>₹459</td>\n",
       "      <td>79% off</td>\n",
       "    </tr>\n",
       "  </tbody>\n",
       "</table>\n",
       "<p>100 rows × 4 columns</p>\n",
       "</div>"
      ],
      "text/plain": [
       "         Brand'Name                                       Discription  \\\n",
       "0   Lenskart STUDIO   Polarized, UV Protection Sports Sunglasses (55)   \n",
       "1   Lenskart STUDIO                               ₹1,429₹3,50059% off   \n",
       "2              SRPM  Polarized, UV Protection Aviator Sunglasses (51)   \n",
       "3          Fastrack                               ₹1,429₹3,50059% off   \n",
       "4         Elligator            UV Protection Wayfarer Sunglasses (50)   \n",
       "..              ...                                               ...   \n",
       "95             BKGE                                              BKGE   \n",
       "96        ROYAL SON                                         ROYAL SON   \n",
       "97      Eyewearlabs                                       Eyewearlabs   \n",
       "98     Singco India                                      Singco India   \n",
       "99   ROZZETTA CRAFT                                    ROZZETTA CRAFT   \n",
       "\n",
       "   Total Price Discount  \n",
       "0       ₹1,429  59% off  \n",
       "1       ₹1,429  59% off  \n",
       "2         ₹149  88% off  \n",
       "3         ₹599  45% off  \n",
       "4         ₹149  70% off  \n",
       "..         ...      ...  \n",
       "95        ₹159  84% off  \n",
       "96        ₹594  70% off  \n",
       "97      ₹1,299  63% off  \n",
       "98        ₹317  84% off  \n",
       "99        ₹459  79% off  \n",
       "\n",
       "[100 rows x 4 columns]"
      ]
     },
     "execution_count": 56,
     "metadata": {},
     "output_type": "execute_result"
    }
   ],
   "source": [
    "dffirst"
   ]
  },
  {
   "cell_type": "markdown",
   "id": "75613b40",
   "metadata": {},
   "source": [
    "Q5: Scrape 100 reviews data from flipkart.com for iphone11 phone. You have to go the link:\n",
    "https://www.flipkart.com/apple-iphone-11-black-64-gb/productreviews/itm4e5041ba101fd?pid=MOBFWQ6BXGJCEYNY&lid=LSTMOBFWQ6BXGJCEYNYZXSHRJ&market\n",
    "place=FLIPKART\n",
    "As shown in the above page you have to scrape the tick marked attributes. These are:\n",
    "1. Rating\n",
    "2. Review summary\n",
    "3. Full review\n",
    "4. You have to scrape this data for first 100reviews.\n",
    "Note: All the steps required during scraping should be done through code only and not manually."
   ]
  },
  {
   "cell_type": "code",
   "execution_count": 2,
   "id": "d92b88a0",
   "metadata": {},
   "outputs": [],
   "source": [
    "driver6=webdriver.Chrome()"
   ]
  },
  {
   "cell_type": "code",
   "execution_count": 13,
   "id": "ea8923fe",
   "metadata": {},
   "outputs": [],
   "source": [
    "driver6.get(\"https://www.flipkart.com/apple-iphone-11-black-64-gb/product-reviews/itm4e5041ba101fd?pid=MOBFWQ6BXGJCEYNY&lid=LSTMOBFWQ6BXGJCEYNYZXSHRJ&market\")\n"
   ]
  },
  {
   "cell_type": "code",
   "execution_count": 61,
   "id": "a576dd74",
   "metadata": {},
   "outputs": [],
   "source": [
    "review=driver6.find_element(By.CLASS_NAME,'_27M-vq')"
   ]
  },
  {
   "cell_type": "code",
   "execution_count": 16,
   "id": "b0330df9",
   "metadata": {},
   "outputs": [],
   "source": [
    "ratings=[]\n"
   ]
  },
  {
   "cell_type": "code",
   "execution_count": 18,
   "id": "d8ce56a9",
   "metadata": {},
   "outputs": [],
   "source": [
    "start=0\n",
    "end=10\n",
    "for page in range(start,end):\n",
    "    rat=driver6.find_elements(By.XPATH,'//div[@class=\"_3LWZlK _1BLPMq\"]')\n",
    "    for i in rat[0:100]:\n",
    "        rat=i.text\n",
    "        ratings.append(rat)\n",
    "next_btn=driver6.find_element(By.XPATH,'/html/body/div/div/div[3]/div/div/div[2]/div[13]/div/div/nav/a[11]')\n",
    "next_btn.click()\n",
    "        "
   ]
  },
  {
   "cell_type": "code",
   "execution_count": 10,
   "id": "d8719d58",
   "metadata": {},
   "outputs": [],
   "source": [
    "import pandas as pd"
   ]
  },
  {
   "cell_type": "code",
   "execution_count": 20,
   "id": "62f04865",
   "metadata": {},
   "outputs": [],
   "source": [
    "df6=pd.DataFrame({\"Rating\":ratings})"
   ]
  },
  {
   "cell_type": "code",
   "execution_count": 21,
   "id": "84b5bef8",
   "metadata": {},
   "outputs": [
    {
     "data": {
      "text/html": [
       "<div>\n",
       "<style scoped>\n",
       "    .dataframe tbody tr th:only-of-type {\n",
       "        vertical-align: middle;\n",
       "    }\n",
       "\n",
       "    .dataframe tbody tr th {\n",
       "        vertical-align: top;\n",
       "    }\n",
       "\n",
       "    .dataframe thead th {\n",
       "        text-align: right;\n",
       "    }\n",
       "</style>\n",
       "<table border=\"1\" class=\"dataframe\">\n",
       "  <thead>\n",
       "    <tr style=\"text-align: right;\">\n",
       "      <th></th>\n",
       "      <th>Rating</th>\n",
       "    </tr>\n",
       "  </thead>\n",
       "  <tbody>\n",
       "    <tr>\n",
       "      <th>0</th>\n",
       "      <td>5</td>\n",
       "    </tr>\n",
       "    <tr>\n",
       "      <th>1</th>\n",
       "      <td>5</td>\n",
       "    </tr>\n",
       "    <tr>\n",
       "      <th>2</th>\n",
       "      <td>5</td>\n",
       "    </tr>\n",
       "    <tr>\n",
       "      <th>3</th>\n",
       "      <td>5</td>\n",
       "    </tr>\n",
       "    <tr>\n",
       "      <th>4</th>\n",
       "      <td>5</td>\n",
       "    </tr>\n",
       "    <tr>\n",
       "      <th>...</th>\n",
       "      <td>...</td>\n",
       "    </tr>\n",
       "    <tr>\n",
       "      <th>95</th>\n",
       "      <td>5</td>\n",
       "    </tr>\n",
       "    <tr>\n",
       "      <th>96</th>\n",
       "      <td>5</td>\n",
       "    </tr>\n",
       "    <tr>\n",
       "      <th>97</th>\n",
       "      <td>5</td>\n",
       "    </tr>\n",
       "    <tr>\n",
       "      <th>98</th>\n",
       "      <td>5</td>\n",
       "    </tr>\n",
       "    <tr>\n",
       "      <th>99</th>\n",
       "      <td>5</td>\n",
       "    </tr>\n",
       "  </tbody>\n",
       "</table>\n",
       "<p>100 rows × 1 columns</p>\n",
       "</div>"
      ],
      "text/plain": [
       "   Rating\n",
       "0       5\n",
       "1       5\n",
       "2       5\n",
       "3       5\n",
       "4       5\n",
       "..    ...\n",
       "95      5\n",
       "96      5\n",
       "97      5\n",
       "98      5\n",
       "99      5\n",
       "\n",
       "[100 rows x 1 columns]"
      ]
     },
     "execution_count": 21,
     "metadata": {},
     "output_type": "execute_result"
    }
   ],
   "source": [
    "df6"
   ]
  },
  {
   "cell_type": "code",
   "execution_count": 22,
   "id": "9e96202a",
   "metadata": {},
   "outputs": [],
   "source": [
    "review=[]"
   ]
  },
  {
   "cell_type": "code",
   "execution_count": 23,
   "id": "f8dc7917",
   "metadata": {},
   "outputs": [],
   "source": [
    "start=0\n",
    "end=10\n",
    "for page in range(start,end):\n",
    "    reviews=driver6.find_elements(By.XPATH,'//p[@class=\"_2-N8zT\"]')\n",
    "    for i in reviews[0:100]:\n",
    "        reviews=i.text\n",
    "        review.append(reviews)\n",
    "next_btn=driver6.find_element(By.XPATH,'/html/body/div/div/div[3]/div/div/div[2]/div[13]/div/div/nav/a[11]')\n",
    "next_btn.click()\n",
    "time.sleep(3)\n"
   ]
  },
  {
   "cell_type": "code",
   "execution_count": 24,
   "id": "82c967e1",
   "metadata": {},
   "outputs": [
    {
     "name": "stdout",
     "output_type": "stream",
     "text": [
      "100\n"
     ]
    }
   ],
   "source": [
    "print(len(review))"
   ]
  },
  {
   "cell_type": "code",
   "execution_count": 25,
   "id": "b6402f7a",
   "metadata": {},
   "outputs": [],
   "source": [
    "summary=[]"
   ]
  },
  {
   "cell_type": "code",
   "execution_count": 26,
   "id": "458458ac",
   "metadata": {},
   "outputs": [],
   "source": [
    "start=0\n",
    "end=10\n",
    "for page in range(start,end):\n",
    "    sum=driver6.find_elements(By.XPATH,'//div[@class=\"t-ZTKy\"]')\n",
    "    for i in sum[0:100]:\n",
    "        sum=i.text\n",
    "        summary.append(sum)\n",
    "next_btn=driver6.find_element(By.XPATH,'/html/body/div/div/div[3]/div/div/div[2]/div[13]/div/div/nav/a[11]')\n",
    "next_btn.click()\n",
    "time.sleep(3)"
   ]
  },
  {
   "cell_type": "code",
   "execution_count": 27,
   "id": "d40df259",
   "metadata": {},
   "outputs": [
    {
     "name": "stdout",
     "output_type": "stream",
     "text": [
      "100\n"
     ]
    }
   ],
   "source": [
    "print(len(summary))"
   ]
  },
  {
   "cell_type": "code",
   "execution_count": 28,
   "id": "4e7e69ac",
   "metadata": {},
   "outputs": [],
   "source": [
    "import pandas as pd"
   ]
  },
  {
   "cell_type": "code",
   "execution_count": 29,
   "id": "9dfb1d71",
   "metadata": {},
   "outputs": [],
   "source": [
    "dffinal=pd.DataFrame({\"Rating\":ratings,\"Review summary\":review,\"Full review\":summary})"
   ]
  },
  {
   "cell_type": "code",
   "execution_count": 30,
   "id": "68f03dff",
   "metadata": {},
   "outputs": [
    {
     "data": {
      "text/html": [
       "<div>\n",
       "<style scoped>\n",
       "    .dataframe tbody tr th:only-of-type {\n",
       "        vertical-align: middle;\n",
       "    }\n",
       "\n",
       "    .dataframe tbody tr th {\n",
       "        vertical-align: top;\n",
       "    }\n",
       "\n",
       "    .dataframe thead th {\n",
       "        text-align: right;\n",
       "    }\n",
       "</style>\n",
       "<table border=\"1\" class=\"dataframe\">\n",
       "  <thead>\n",
       "    <tr style=\"text-align: right;\">\n",
       "      <th></th>\n",
       "      <th>Rating</th>\n",
       "      <th>Review summary</th>\n",
       "      <th>Full review</th>\n",
       "    </tr>\n",
       "  </thead>\n",
       "  <tbody>\n",
       "    <tr>\n",
       "      <th>0</th>\n",
       "      <td>5</td>\n",
       "      <td>Just wow!</td>\n",
       "      <td>It’s really awesome</td>\n",
       "    </tr>\n",
       "    <tr>\n",
       "      <th>1</th>\n",
       "      <td>5</td>\n",
       "      <td>Worth every penny</td>\n",
       "      <td>Excellent Phone.</td>\n",
       "    </tr>\n",
       "    <tr>\n",
       "      <th>2</th>\n",
       "      <td>5</td>\n",
       "      <td>Best in the market!</td>\n",
       "      <td>very good camera quality</td>\n",
       "    </tr>\n",
       "    <tr>\n",
       "      <th>3</th>\n",
       "      <td>5</td>\n",
       "      <td>Wonderful</td>\n",
       "      <td>NYC</td>\n",
       "    </tr>\n",
       "    <tr>\n",
       "      <th>4</th>\n",
       "      <td>5</td>\n",
       "      <td>Classy product</td>\n",
       "      <td>iPhone 11 is a good phone. Not a very big diff...</td>\n",
       "    </tr>\n",
       "    <tr>\n",
       "      <th>...</th>\n",
       "      <td>...</td>\n",
       "      <td>...</td>\n",
       "      <td>...</td>\n",
       "    </tr>\n",
       "    <tr>\n",
       "      <th>95</th>\n",
       "      <td>5</td>\n",
       "      <td>Terrific</td>\n",
       "      <td>It’s very good battery life and display and vi...</td>\n",
       "    </tr>\n",
       "    <tr>\n",
       "      <th>96</th>\n",
       "      <td>5</td>\n",
       "      <td>Terrific purchase</td>\n",
       "      <td>Value for money 🖤🖤</td>\n",
       "    </tr>\n",
       "    <tr>\n",
       "      <th>97</th>\n",
       "      <td>5</td>\n",
       "      <td>Perfect product!</td>\n",
       "      <td>Go for iPhone 11 , if confused between iPhone ...</td>\n",
       "    </tr>\n",
       "    <tr>\n",
       "      <th>98</th>\n",
       "      <td>5</td>\n",
       "      <td>Perfect product!</td>\n",
       "      <td>Good product 👌I love iPhone</td>\n",
       "    </tr>\n",
       "    <tr>\n",
       "      <th>99</th>\n",
       "      <td>5</td>\n",
       "      <td>Fabulous!</td>\n",
       "      <td>Really satisfied with the Product I received.....</td>\n",
       "    </tr>\n",
       "  </tbody>\n",
       "</table>\n",
       "<p>100 rows × 3 columns</p>\n",
       "</div>"
      ],
      "text/plain": [
       "   Rating       Review summary  \\\n",
       "0       5            Just wow!   \n",
       "1       5    Worth every penny   \n",
       "2       5  Best in the market!   \n",
       "3       5            Wonderful   \n",
       "4       5       Classy product   \n",
       "..    ...                  ...   \n",
       "95      5             Terrific   \n",
       "96      5    Terrific purchase   \n",
       "97      5     Perfect product!   \n",
       "98      5     Perfect product!   \n",
       "99      5            Fabulous!   \n",
       "\n",
       "                                          Full review  \n",
       "0                                 It’s really awesome  \n",
       "1                                    Excellent Phone.  \n",
       "2                            very good camera quality  \n",
       "3                                                 NYC  \n",
       "4   iPhone 11 is a good phone. Not a very big diff...  \n",
       "..                                                ...  \n",
       "95  It’s very good battery life and display and vi...  \n",
       "96                                 Value for money 🖤🖤  \n",
       "97  Go for iPhone 11 , if confused between iPhone ...  \n",
       "98                        Good product 👌I love iPhone  \n",
       "99  Really satisfied with the Product I received.....  \n",
       "\n",
       "[100 rows x 3 columns]"
      ]
     },
     "execution_count": 30,
     "metadata": {},
     "output_type": "execute_result"
    }
   ],
   "source": [
    "dffinal"
   ]
  },
  {
   "cell_type": "code",
   "execution_count": null,
   "id": "229c02aa",
   "metadata": {},
   "outputs": [],
   "source": []
  },
  {
   "cell_type": "markdown",
   "id": "b9897e05",
   "metadata": {},
   "source": [
    "Q6: Scrape data forfirst 100 sneakers you find whenyou visit flipkart.com and search for “sneakers” inthe\n",
    "search field.\n",
    "You have to scrape 3 attributes of each sneaker:\n",
    "1. Brand\n",
    "2. ProductDescription\n",
    "3. Price\n",
    "As shown in the below image, you have to scrape the above attributes."
   ]
  },
  {
   "cell_type": "code",
   "execution_count": 57,
   "id": "2c477ae4",
   "metadata": {},
   "outputs": [],
   "source": [
    "driver7=webdriver.Chrome()"
   ]
  },
  {
   "cell_type": "code",
   "execution_count": 58,
   "id": "6a71ea14",
   "metadata": {},
   "outputs": [],
   "source": [
    "driver7.get('https://www.flipkart.com/?affid=admingopai&affExtParam1=FF52BCDF13D911E&affExtParam2=1158&cmpid=sem_3856208402_Mobiles_dsa_goog&gclid=CjwKCAiAk9itBhASEiwA1my_65H_zDDLbJdEH-bOJyGNsuMR_vbiUNvAlYQFsk6O4uFtubwmSpLlERoCPwAQAvD_BwE')\n",
    "\n",
    "\n"
   ]
  },
  {
   "cell_type": "code",
   "execution_count": 59,
   "id": "4e250410",
   "metadata": {},
   "outputs": [],
   "source": [
    "sneaker=driver7.find_element(By.XPATH,'/html/body/div[1]/div/div[1]/div/div/div/div/div[1]/div/div[1]/div/div[1]/div[1]/header/div[1]/div[2]/form/div/div/input')\n",
    "sneaker.send_keys('sneakers')\n",
    "\n"
   ]
  },
  {
   "cell_type": "code",
   "execution_count": 60,
   "id": "b8cf8b3e",
   "metadata": {},
   "outputs": [],
   "source": [
    "search=driver7.find_element(By.XPATH,'/html/body/div[1]/div/div[1]/div/div/div/div/div[1]/div/div[1]/div/div[1]/div[1]/header/div[1]/div[2]/form/div/button')\n",
    "search.click()\n",
    "\n",
    "\n"
   ]
  },
  {
   "cell_type": "code",
   "execution_count": 61,
   "id": "b5729b98",
   "metadata": {},
   "outputs": [],
   "source": [
    "Brand=[]\n",
    "Product=[]\n",
    "Price=[]"
   ]
  },
  {
   "cell_type": "code",
   "execution_count": 63,
   "id": "fa8a70fb",
   "metadata": {},
   "outputs": [],
   "source": [
    "start=0\n",
    "end=4\n",
    "for page in range(start,end):\n",
    "    brnd=driver7.find_elements(By.XPATH,'//div[@class=\"_2WkVRV\"]')\n",
    "    for i in brnd[0:100]:\n",
    "        brnd=i.text\n",
    "        Brand.append(brnd)\n",
    "    prod=driver7.find_elements(By.XPATH,'//a[@class=\"IRpwTa\"]')\n",
    "    for i in prod[0:100]:\n",
    "        prod=i.text\n",
    "        Product.append(prod)\n",
    "    pri=driver7.find_elements(By.XPATH,'//div[@class=\"_30jeq3\"]')\n",
    "    for i in pri[0:100]:\n",
    "        pri=i.text\n",
    "        Price.append(pri)\n",
    "    next_btn=driver7.find_element(By.XPATH,'/html/body/div/div/div[3]/div[1]/div[2]/div[12]/div/div/nav/a[11]')\n",
    "    next_btn.click()\n",
    "    time.sleep(3)   "
   ]
  },
  {
   "cell_type": "code",
   "execution_count": 64,
   "id": "42c6fd72",
   "metadata": {},
   "outputs": [
    {
     "name": "stdout",
     "output_type": "stream",
     "text": [
      "238 169 200\n"
     ]
    }
   ],
   "source": [
    "print(len(Brand),len(Product),len(Price))"
   ]
  },
  {
   "cell_type": "code",
   "execution_count": 88,
   "id": "1a082f14",
   "metadata": {},
   "outputs": [],
   "source": [
    "Brand=brand[:100]"
   ]
  },
  {
   "cell_type": "code",
   "execution_count": 89,
   "id": "df8716e1",
   "metadata": {},
   "outputs": [],
   "source": [
    "Product=product[:100]"
   ]
  },
  {
   "cell_type": "code",
   "execution_count": 90,
   "id": "a5d21b79",
   "metadata": {},
   "outputs": [],
   "source": [
    "Price=price[:100]"
   ]
  },
  {
   "cell_type": "code",
   "execution_count": null,
   "id": "879dd322",
   "metadata": {},
   "outputs": [],
   "source": []
  },
  {
   "cell_type": "code",
   "execution_count": 91,
   "id": "13dac87f",
   "metadata": {},
   "outputs": [],
   "source": [
    "df4=pd.DataFrame({\"Brand\":Brand,\"Product\":Product,\"Price\":Price})\n"
   ]
  },
  {
   "cell_type": "code",
   "execution_count": 93,
   "id": "db6ef4e7",
   "metadata": {},
   "outputs": [
    {
     "data": {
      "text/html": [
       "<div>\n",
       "<style scoped>\n",
       "    .dataframe tbody tr th:only-of-type {\n",
       "        vertical-align: middle;\n",
       "    }\n",
       "\n",
       "    .dataframe tbody tr th {\n",
       "        vertical-align: top;\n",
       "    }\n",
       "\n",
       "    .dataframe thead th {\n",
       "        text-align: right;\n",
       "    }\n",
       "</style>\n",
       "<table border=\"1\" class=\"dataframe\">\n",
       "  <thead>\n",
       "    <tr style=\"text-align: right;\">\n",
       "      <th></th>\n",
       "      <th>Brand</th>\n",
       "      <th>Product</th>\n",
       "      <th>Price</th>\n",
       "    </tr>\n",
       "  </thead>\n",
       "  <tbody>\n",
       "    <tr>\n",
       "      <th>0</th>\n",
       "      <td>BIG FOX</td>\n",
       "      <td>Modern Trendy Sneakers Shoes Sneakers For Men</td>\n",
       "      <td>₹299</td>\n",
       "    </tr>\n",
       "    <tr>\n",
       "      <th>1</th>\n",
       "      <td>BIG FOX</td>\n",
       "      <td>2 Combo Sneaker Shoes Sneakers For Men</td>\n",
       "      <td>₹537</td>\n",
       "    </tr>\n",
       "    <tr>\n",
       "      <th>2</th>\n",
       "      <td>Shozie</td>\n",
       "      <td>Trending Stylish Casual Outdoor Sneakers Shoes...</td>\n",
       "      <td>₹299</td>\n",
       "    </tr>\n",
       "    <tr>\n",
       "      <th>3</th>\n",
       "      <td>CAMPUS</td>\n",
       "      <td>Modern Trendy Shoes Sneakers For Men</td>\n",
       "      <td>₹299</td>\n",
       "    </tr>\n",
       "    <tr>\n",
       "      <th>4</th>\n",
       "      <td>ADIDAS</td>\n",
       "      <td>Sneakers For Women</td>\n",
       "      <td>₹399</td>\n",
       "    </tr>\n",
       "    <tr>\n",
       "      <th>...</th>\n",
       "      <td>...</td>\n",
       "      <td>...</td>\n",
       "      <td>...</td>\n",
       "    </tr>\n",
       "    <tr>\n",
       "      <th>95</th>\n",
       "      <td>PUMA</td>\n",
       "      <td>Sports shoes for men|Stylish Casual sport shoe...</td>\n",
       "      <td>₹2,070</td>\n",
       "    </tr>\n",
       "    <tr>\n",
       "      <th>96</th>\n",
       "      <td>Roadster</td>\n",
       "      <td>Premium Ankle Length Black Denim Boots Sneaker...</td>\n",
       "      <td>₹899</td>\n",
       "    </tr>\n",
       "    <tr>\n",
       "      <th>97</th>\n",
       "      <td>PUMA</td>\n",
       "      <td>Offbeat Classic Sneakers For Men</td>\n",
       "      <td>₹287</td>\n",
       "    </tr>\n",
       "    <tr>\n",
       "      <th>98</th>\n",
       "      <td>CAMPUS</td>\n",
       "      <td>OG-09 Sneakers For Men</td>\n",
       "      <td>₹999</td>\n",
       "    </tr>\n",
       "    <tr>\n",
       "      <th>99</th>\n",
       "      <td>PUMA</td>\n",
       "      <td>Melanite Slip on Sneakers For Men</td>\n",
       "      <td>₹3,534</td>\n",
       "    </tr>\n",
       "  </tbody>\n",
       "</table>\n",
       "<p>100 rows × 3 columns</p>\n",
       "</div>"
      ],
      "text/plain": [
       "       Brand                                            Product   Price\n",
       "0    BIG FOX      Modern Trendy Sneakers Shoes Sneakers For Men    ₹299\n",
       "1    BIG FOX             2 Combo Sneaker Shoes Sneakers For Men    ₹537\n",
       "2     Shozie  Trending Stylish Casual Outdoor Sneakers Shoes...    ₹299\n",
       "3     CAMPUS               Modern Trendy Shoes Sneakers For Men    ₹299\n",
       "4     ADIDAS                                 Sneakers For Women    ₹399\n",
       "..       ...                                                ...     ...\n",
       "95      PUMA  Sports shoes for men|Stylish Casual sport shoe...  ₹2,070\n",
       "96  Roadster  Premium Ankle Length Black Denim Boots Sneaker...    ₹899\n",
       "97      PUMA                   Offbeat Classic Sneakers For Men    ₹287\n",
       "98    CAMPUS                             OG-09 Sneakers For Men    ₹999\n",
       "99      PUMA                  Melanite Slip on Sneakers For Men  ₹3,534\n",
       "\n",
       "[100 rows x 3 columns]"
      ]
     },
     "execution_count": 93,
     "metadata": {},
     "output_type": "execute_result"
    }
   ],
   "source": [
    "df4"
   ]
  },
  {
   "cell_type": "code",
   "execution_count": null,
   "id": "3c8dd0f8",
   "metadata": {},
   "outputs": [],
   "source": []
  },
  {
   "cell_type": "markdown",
   "id": "17642bab",
   "metadata": {},
   "source": [
    "Q7: Go to webpage https://www.amazon.in/ Enter “Laptop” in the search field and then click the search icon. Then\n",
    "set CPU Type filter to “Intel Core i7” as shown in the below image:\n",
    "    After setting the filters scrape first 10 laptops data. You have to scrape 3 attributes for each laptop:\n",
    "1. Title\n",
    "2. Ratings\n",
    "3. Price\n"
   ]
  },
  {
   "cell_type": "code",
   "execution_count": 2,
   "id": "93f6a09e",
   "metadata": {},
   "outputs": [],
   "source": [
    "driver8=webdriver.Chrome()"
   ]
  },
  {
   "cell_type": "code",
   "execution_count": 3,
   "id": "1c5a74c2",
   "metadata": {},
   "outputs": [],
   "source": [
    "driver8.get(\"https://www.amazon.in/\")"
   ]
  },
  {
   "cell_type": "code",
   "execution_count": 4,
   "id": "8ea23bc0",
   "metadata": {},
   "outputs": [],
   "source": [
    "field=driver8.find_element(By.XPATH,'/html/body/div[1]/header/div/div[1]/div[2]/div/form/div[2]/div[1]/input')\n",
    "field.send_keys(\"Laptop\")"
   ]
  },
  {
   "cell_type": "code",
   "execution_count": 5,
   "id": "430a9e6e",
   "metadata": {},
   "outputs": [],
   "source": [
    "search=driver8.find_element(By.XPATH,'/html/body/div[1]/header/div/div[1]/div[2]/div/form/div[3]/div/span/input')\n",
    "search.click()"
   ]
  },
  {
   "cell_type": "code",
   "execution_count": 6,
   "id": "207d9875",
   "metadata": {},
   "outputs": [],
   "source": [
    "filter=driver8.find_element(By.XPATH,'/html/body/div[1]/div[1]/div[1]/div[2]/div/div[3]/span/div[1]/div/div/div[5]/ul[19]/span/span[10]/li/span/a/span')\n",
    "\n",
    "\n",
    "filter.click()"
   ]
  },
  {
   "cell_type": "code",
   "execution_count": 59,
   "id": "cdcb7529",
   "metadata": {},
   "outputs": [],
   "source": [
    "Title=[]\n",
    "Rating=[]\n",
    "Price=[]"
   ]
  },
  {
   "cell_type": "code",
   "execution_count": 68,
   "id": "a9ed30d6",
   "metadata": {},
   "outputs": [],
   "source": [
    "title=driver8.find_elements(By.XPATH,'//div[@data-cy=\"title-recipe\"]')\n",
    "for i in title[0:10]:\n",
    "    title=i.text\n",
    "    Title.append(title)\n",
    "    "
   ]
  },
  {
   "cell_type": "code",
   "execution_count": 69,
   "id": "7a90ff61",
   "metadata": {},
   "outputs": [
    {
     "data": {
      "text/plain": [
       "10"
      ]
     },
     "execution_count": 69,
     "metadata": {},
     "output_type": "execute_result"
    }
   ],
   "source": [
    "len(Title)\n"
   ]
  },
  {
   "cell_type": "code",
   "execution_count": 18,
   "id": "a550092d",
   "metadata": {},
   "outputs": [],
   "source": [
    "rating=driver8.find_element(By.XPATH,'/html/body/div[1]/div[1]/div[1]/div[1]/div/span[1]/div[1]/div[3]/div/div/span/div/div/div/div[2]/div/div/div[2]/div[1]/span[2]/a/span')\n",
    "\n",
    "\n",
    "rating.click()\n",
    "    "
   ]
  },
  {
   "cell_type": "code",
   "execution_count": 27,
   "id": "e9c932c6",
   "metadata": {},
   "outputs": [],
   "source": [
    "rat=driver8.find_element(By.XPATH,'//span[@class=\"a-size-base a-color-base\"]')\n",
    "Rating.append(rat.text)"
   ]
  },
  {
   "cell_type": "code",
   "execution_count": 29,
   "id": "d9e2aa69",
   "metadata": {},
   "outputs": [
    {
     "data": {
      "text/plain": [
       "[<selenium.webdriver.remote.webelement.WebElement (session=\"ca7c56af85e4f927c645270172fa744d\", element=\"6FFBC10C1C219124DE3BC29086B6FF02_element_9542\")>,\n",
       " 'or']"
      ]
     },
     "execution_count": 29,
     "metadata": {},
     "output_type": "execute_result"
    }
   ],
   "source": [
    "Rating"
   ]
  },
  {
   "cell_type": "code",
   "execution_count": 75,
   "id": "f0dc9f64",
   "metadata": {},
   "outputs": [],
   "source": [
    "RATING=[]"
   ]
  },
  {
   "cell_type": "code",
   "execution_count": 76,
   "id": "297ea504",
   "metadata": {},
   "outputs": [],
   "source": [
    "ratings_box=driver8.find_elements(By.XPATH,'//div[@class=\"a-row a-size-small\"]/span')\n",
    "for i in ratings_box[0:10]:\n",
    "    rating_box=i.text\n",
    "    \n",
    "    RATING.append(str(rating_box))"
   ]
  },
  {
   "cell_type": "code",
   "execution_count": 77,
   "id": "1b0efc41",
   "metadata": {},
   "outputs": [
    {
     "data": {
      "text/plain": [
       "10"
      ]
     },
     "execution_count": 77,
     "metadata": {},
     "output_type": "execute_result"
    }
   ],
   "source": [
    "len(RATING)"
   ]
  },
  {
   "cell_type": "code",
   "execution_count": 54,
   "id": "3f9db951",
   "metadata": {},
   "outputs": [
    {
     "data": {
      "text/plain": [
       "['',\n",
       " '1,273',\n",
       " '',\n",
       " '198',\n",
       " '',\n",
       " '6,187',\n",
       " '',\n",
       " '162',\n",
       " '',\n",
       " '361',\n",
       " '',\n",
       " '1,273',\n",
       " '',\n",
       " '198',\n",
       " '',\n",
       " '6,187',\n",
       " '',\n",
       " '162',\n",
       " '',\n",
       " '361',\n",
       " '',\n",
       " '1,273',\n",
       " '',\n",
       " '198',\n",
       " '',\n",
       " '6,187',\n",
       " '',\n",
       " '162',\n",
       " '',\n",
       " '361']"
      ]
     },
     "execution_count": 54,
     "metadata": {},
     "output_type": "execute_result"
    }
   ],
   "source": [
    "product_ratings"
   ]
  },
  {
   "cell_type": "code",
   "execution_count": 60,
   "id": "f2ae0577",
   "metadata": {},
   "outputs": [],
   "source": [
    "price=driver8.find_elements(By.XPATH,'//span[@class=\"a-price-whole\"]')\n",
    "for i in price[0:10]:\n",
    "    price=i.text\n",
    "    Price.append(price)"
   ]
  },
  {
   "cell_type": "code",
   "execution_count": 63,
   "id": "b3c41d9c",
   "metadata": {},
   "outputs": [
    {
     "data": {
      "text/plain": [
       "10"
      ]
     },
     "execution_count": 63,
     "metadata": {},
     "output_type": "execute_result"
    }
   ],
   "source": [
    "len(Price)"
   ]
  },
  {
   "cell_type": "code",
   "execution_count": 78,
   "id": "d682b849",
   "metadata": {},
   "outputs": [],
   "source": [
    "df8=pd.DataFrame({'Title':Title,'Rating':RATING,'Price':Price})"
   ]
  },
  {
   "cell_type": "code",
   "execution_count": 80,
   "id": "93074446",
   "metadata": {},
   "outputs": [
    {
     "data": {
      "text/html": [
       "<div>\n",
       "<style scoped>\n",
       "    .dataframe tbody tr th:only-of-type {\n",
       "        vertical-align: middle;\n",
       "    }\n",
       "\n",
       "    .dataframe tbody tr th {\n",
       "        vertical-align: top;\n",
       "    }\n",
       "\n",
       "    .dataframe thead th {\n",
       "        text-align: right;\n",
       "    }\n",
       "</style>\n",
       "<table border=\"1\" class=\"dataframe\">\n",
       "  <thead>\n",
       "    <tr style=\"text-align: right;\">\n",
       "      <th></th>\n",
       "      <th>Title</th>\n",
       "      <th>Rating</th>\n",
       "      <th>Price</th>\n",
       "    </tr>\n",
       "  </thead>\n",
       "  <tbody>\n",
       "    <tr>\n",
       "      <th>0</th>\n",
       "      <td>ASUS VivoBook 15 (2021), 15.6-inch (39.62 cm) ...</td>\n",
       "      <td></td>\n",
       "      <td>22,990</td>\n",
       "    </tr>\n",
       "    <tr>\n",
       "      <th>1</th>\n",
       "      <td>Lenovo V15 Intel Celeron N4500 15.6\" (39.62 cm...</td>\n",
       "      <td>1,273</td>\n",
       "      <td>22,890</td>\n",
       "    </tr>\n",
       "    <tr>\n",
       "      <th>2</th>\n",
       "      <td>Chuwi HeroBook Pro 14.1'' Laptop, 8GB RAM 256G...</td>\n",
       "      <td></td>\n",
       "      <td>17,990</td>\n",
       "    </tr>\n",
       "    <tr>\n",
       "      <th>3</th>\n",
       "      <td>HP Laptop 15s, Intel Celeron, 15.6-inch (39.6 ...</td>\n",
       "      <td>198</td>\n",
       "      <td>29,490</td>\n",
       "    </tr>\n",
       "    <tr>\n",
       "      <th>4</th>\n",
       "      <td>HP Chromebook X360 Intel Celeron N4120 14 inch...</td>\n",
       "      <td></td>\n",
       "      <td>27,990</td>\n",
       "    </tr>\n",
       "    <tr>\n",
       "      <th>5</th>\n",
       "      <td>Lenovo IdeaPad 1 Intel Core Celeron N4020 14\" ...</td>\n",
       "      <td>6,187</td>\n",
       "      <td>20,990</td>\n",
       "    </tr>\n",
       "    <tr>\n",
       "      <th>6</th>\n",
       "      <td>Lenovo IdeaPad D330 Intel Celeron N4020 10.1\" ...</td>\n",
       "      <td></td>\n",
       "      <td>24,990</td>\n",
       "    </tr>\n",
       "    <tr>\n",
       "      <th>7</th>\n",
       "      <td>Lenovo IdeaPad Slim 1 Intel Celeron N4020 14\" ...</td>\n",
       "      <td>162</td>\n",
       "      <td>26,190</td>\n",
       "    </tr>\n",
       "    <tr>\n",
       "      <th>8</th>\n",
       "      <td>AXL VayuBook Laptop 14.1 Inch FHD IPS Display ...</td>\n",
       "      <td></td>\n",
       "      <td>13,990</td>\n",
       "    </tr>\n",
       "    <tr>\n",
       "      <th>9</th>\n",
       "      <td>AVITA Laptop PURA S102 15.6 INCH CELERON 8GB R...</td>\n",
       "      <td>361</td>\n",
       "      <td>20,980</td>\n",
       "    </tr>\n",
       "  </tbody>\n",
       "</table>\n",
       "</div>"
      ],
      "text/plain": [
       "                                               Title Rating   Price\n",
       "0  ASUS VivoBook 15 (2021), 15.6-inch (39.62 cm) ...         22,990\n",
       "1  Lenovo V15 Intel Celeron N4500 15.6\" (39.62 cm...  1,273  22,890\n",
       "2  Chuwi HeroBook Pro 14.1'' Laptop, 8GB RAM 256G...         17,990\n",
       "3  HP Laptop 15s, Intel Celeron, 15.6-inch (39.6 ...    198  29,490\n",
       "4  HP Chromebook X360 Intel Celeron N4120 14 inch...         27,990\n",
       "5  Lenovo IdeaPad 1 Intel Core Celeron N4020 14\" ...  6,187  20,990\n",
       "6  Lenovo IdeaPad D330 Intel Celeron N4020 10.1\" ...         24,990\n",
       "7  Lenovo IdeaPad Slim 1 Intel Celeron N4020 14\" ...    162  26,190\n",
       "8  AXL VayuBook Laptop 14.1 Inch FHD IPS Display ...         13,990\n",
       "9  AVITA Laptop PURA S102 15.6 INCH CELERON 8GB R...    361  20,980"
      ]
     },
     "execution_count": 80,
     "metadata": {},
     "output_type": "execute_result"
    }
   ],
   "source": [
    "df8"
   ]
  },
  {
   "cell_type": "code",
   "execution_count": null,
   "id": "47b0d71e",
   "metadata": {},
   "outputs": [],
   "source": []
  },
  {
   "cell_type": "markdown",
   "id": "d576d181",
   "metadata": {},
   "source": [
    "8: Write a python program to scrape data for Top 1000 Quotes of All Time.\n",
    "The above task will be done in following steps:\n",
    "1. First get the webpagehttps://www.azquotes.com/\n",
    "2. Click on TopQuotes\n",
    "3. Than scrap a) Quote b) Author c) Type Of QuotesQ"
   ]
  },
  {
   "cell_type": "code",
   "execution_count": 42,
   "id": "d3885c84",
   "metadata": {},
   "outputs": [],
   "source": [
    "drivers=webdriver.Chrome()"
   ]
  },
  {
   "cell_type": "code",
   "execution_count": 43,
   "id": "bb739271",
   "metadata": {},
   "outputs": [],
   "source": [
    "drivers.get('https://www.azquotes.com/')"
   ]
  },
  {
   "cell_type": "code",
   "execution_count": 44,
   "id": "cc721c4b",
   "metadata": {},
   "outputs": [],
   "source": [
    "click=drivers.find_element(By.XPATH,'/html/body/div[1]/div[1]/div[1]/div/div[3]/ul/li[5]/a')\n",
    "click.click()"
   ]
  },
  {
   "cell_type": "code",
   "execution_count": 62,
   "id": "2bb52d0c",
   "metadata": {},
   "outputs": [],
   "source": [
    "qoute12=[]\n",
    "auther12=[]\n",
    "types12=[]"
   ]
  },
  {
   "cell_type": "code",
   "execution_count": 63,
   "id": "616f23b8",
   "metadata": {},
   "outputs": [],
   "source": [
    "start=0\n",
    "end=1\n",
    "for page in range(start,end):\n",
    "    qoutes=drivers.find_elements(By.XPATH,'//a[@class=\"title\"]')\n",
    "    for i in qoutes:\n",
    "        qoutes=i.text\n",
    "        qoute1.append(qoutes)\n",
    "    authers=drivers.find_elements(By.XPATH,'//div[@class=\"author\"]/a')\n",
    "    for i in authers:\n",
    "        authers=i.text\n",
    "        auther1.append(authers)\n",
    "    type=drivers.find_elements(By.XPATH,'//div[@class=\"tags\"]')\n",
    "    for i in type:\n",
    "        type=i.text\n",
    "        types1.append(type)\n",
    "    \n",
    "    next_btn=drivers.find_element(By.XPATH,'/html/body/div[1]/div[2]/div/div/div/div[1]/div/div[3]/li[12]')\n",
    "    next_btn.click()\n",
    "    time.sleep(3)\n",
    "    "
   ]
  },
  {
   "cell_type": "code",
   "execution_count": null,
   "id": "6db88a73",
   "metadata": {},
   "outputs": [],
   "source": []
  },
  {
   "cell_type": "code",
   "execution_count": 64,
   "id": "74096b3b",
   "metadata": {},
   "outputs": [],
   "source": [
    "start=0\n",
    "end=8\n",
    "for page in range(start,end):\n",
    "    qoutes1=drivers.find_elements(By.XPATH,'//a[@class=\"title\"]')\n",
    "    for i in qoutes1:\n",
    "        qoutes1=i.text\n",
    "        qoute12.append(qoutes1)\n",
    "    authers1=drivers.find_elements(By.XPATH,'//div[@class=\"author\"]/a')\n",
    "    for i in authers1:\n",
    "        authers1=i.text\n",
    "        auther12.append(authers1)\n",
    "    type1=drivers.find_elements(By.XPATH,'//div[@class=\"tags\"]')\n",
    "    for i in type1:\n",
    "        type1=i.text\n",
    "        types12.append(type1)\n",
    "    \n",
    "    next_btn=drivers.find_element(By.XPATH,'/html/body/div[1]/div[2]/div/div/div/div[1]/div/div[3]/li[13]/a')\n",
    "    next_btn.click()\n",
    "    time.sleep(2)"
   ]
  },
  {
   "cell_type": "code",
   "execution_count": null,
   "id": "92304838",
   "metadata": {},
   "outputs": [],
   "source": []
  },
  {
   "cell_type": "code",
   "execution_count": null,
   "id": "d8dd9c64",
   "metadata": {},
   "outputs": [],
   "source": []
  },
  {
   "cell_type": "code",
   "execution_count": 65,
   "id": "cb236ccb",
   "metadata": {},
   "outputs": [],
   "source": [
    "dfall=pd.DataFrame({\"Quote\":qoute12,\"Auther\":auther12,\"Type Of Quotes\":types12})"
   ]
  },
  {
   "cell_type": "code",
   "execution_count": 66,
   "id": "665a4687",
   "metadata": {},
   "outputs": [
    {
     "data": {
      "text/html": [
       "<div>\n",
       "<style scoped>\n",
       "    .dataframe tbody tr th:only-of-type {\n",
       "        vertical-align: middle;\n",
       "    }\n",
       "\n",
       "    .dataframe tbody tr th {\n",
       "        vertical-align: top;\n",
       "    }\n",
       "\n",
       "    .dataframe thead th {\n",
       "        text-align: right;\n",
       "    }\n",
       "</style>\n",
       "<table border=\"1\" class=\"dataframe\">\n",
       "  <thead>\n",
       "    <tr style=\"text-align: right;\">\n",
       "      <th></th>\n",
       "      <th>Quote</th>\n",
       "      <th>Auther</th>\n",
       "      <th>Type Of Quotes</th>\n",
       "    </tr>\n",
       "  </thead>\n",
       "  <tbody>\n",
       "    <tr>\n",
       "      <th>0</th>\n",
       "      <td>Can words describe the fragrance of the very b...</td>\n",
       "      <td>Neltje Blanchan</td>\n",
       "      <td>Spring, April, Fragrance</td>\n",
       "    </tr>\n",
       "    <tr>\n",
       "      <th>1</th>\n",
       "      <td>Faith is to believe what you do not see; the r...</td>\n",
       "      <td>Saint Augustine</td>\n",
       "      <td>Inspirational, Faith, Spiritual</td>\n",
       "    </tr>\n",
       "    <tr>\n",
       "      <th>2</th>\n",
       "      <td>When everything seems to be going against you,...</td>\n",
       "      <td>Henry Ford</td>\n",
       "      <td>Inspirational, Motivational, Positive</td>\n",
       "    </tr>\n",
       "    <tr>\n",
       "      <th>3</th>\n",
       "      <td>I have found that if you love life, life will ...</td>\n",
       "      <td>Arthur Rubinstein</td>\n",
       "      <td>Love, Inspirational, Life</td>\n",
       "    </tr>\n",
       "    <tr>\n",
       "      <th>4</th>\n",
       "      <td>To disarm the people... was the best and most ...</td>\n",
       "      <td>George Mason</td>\n",
       "      <td>Strength, Peace, Gun</td>\n",
       "    </tr>\n",
       "    <tr>\n",
       "      <th>...</th>\n",
       "      <td>...</td>\n",
       "      <td>...</td>\n",
       "      <td>...</td>\n",
       "    </tr>\n",
       "    <tr>\n",
       "      <th>795</th>\n",
       "      <td>To love means loving the unlovable. To forgive...</td>\n",
       "      <td>Gilbert K. Chesterton</td>\n",
       "      <td>Love, Inspirational, Success</td>\n",
       "    </tr>\n",
       "    <tr>\n",
       "      <th>796</th>\n",
       "      <td>Be brave. Take risks. Nothing can substitute e...</td>\n",
       "      <td>Paulo Coelho</td>\n",
       "      <td>Encouraging, Courage, Inspiration</td>\n",
       "    </tr>\n",
       "    <tr>\n",
       "      <th>797</th>\n",
       "      <td>If you really want to do something, you'll fin...</td>\n",
       "      <td>Jim Rohn</td>\n",
       "      <td>Inspirational, Motivational, Success</td>\n",
       "    </tr>\n",
       "    <tr>\n",
       "      <th>798</th>\n",
       "      <td>It is neither wealth nor splendor; but tranqui...</td>\n",
       "      <td>Thomas Jefferson</td>\n",
       "      <td>Life, Happiness, Work</td>\n",
       "    </tr>\n",
       "    <tr>\n",
       "      <th>799</th>\n",
       "      <td>A thousand words will not leave so deep an imp...</td>\n",
       "      <td>Henrik Ibsen</td>\n",
       "      <td>Inspirational, Inspiring, Positivity</td>\n",
       "    </tr>\n",
       "  </tbody>\n",
       "</table>\n",
       "<p>800 rows × 3 columns</p>\n",
       "</div>"
      ],
      "text/plain": [
       "                                                 Quote                 Auther  \\\n",
       "0    Can words describe the fragrance of the very b...        Neltje Blanchan   \n",
       "1    Faith is to believe what you do not see; the r...        Saint Augustine   \n",
       "2    When everything seems to be going against you,...             Henry Ford   \n",
       "3    I have found that if you love life, life will ...      Arthur Rubinstein   \n",
       "4    To disarm the people... was the best and most ...           George Mason   \n",
       "..                                                 ...                    ...   \n",
       "795  To love means loving the unlovable. To forgive...  Gilbert K. Chesterton   \n",
       "796  Be brave. Take risks. Nothing can substitute e...           Paulo Coelho   \n",
       "797  If you really want to do something, you'll fin...               Jim Rohn   \n",
       "798  It is neither wealth nor splendor; but tranqui...       Thomas Jefferson   \n",
       "799  A thousand words will not leave so deep an imp...           Henrik Ibsen   \n",
       "\n",
       "                            Type Of Quotes  \n",
       "0                 Spring, April, Fragrance  \n",
       "1          Inspirational, Faith, Spiritual  \n",
       "2    Inspirational, Motivational, Positive  \n",
       "3                Love, Inspirational, Life  \n",
       "4                     Strength, Peace, Gun  \n",
       "..                                     ...  \n",
       "795           Love, Inspirational, Success  \n",
       "796      Encouraging, Courage, Inspiration  \n",
       "797   Inspirational, Motivational, Success  \n",
       "798                  Life, Happiness, Work  \n",
       "799   Inspirational, Inspiring, Positivity  \n",
       "\n",
       "[800 rows x 3 columns]"
      ]
     },
     "execution_count": 66,
     "metadata": {},
     "output_type": "execute_result"
    }
   ],
   "source": [
    "dfall"
   ]
  },
  {
   "cell_type": "code",
   "execution_count": null,
   "id": "a371013a",
   "metadata": {},
   "outputs": [],
   "source": []
  },
  {
   "cell_type": "code",
   "execution_count": null,
   "id": "a1f185db",
   "metadata": {},
   "outputs": [],
   "source": []
  },
  {
   "cell_type": "markdown",
   "id": "a3049166",
   "metadata": {},
   "source": [
    "Q9: Write a python program to display list of respected former Prime Ministers of India(i.e. Name, Born-Dead,\n",
    "Term of office, Remarks) from https://www.jagranjosh.com/.\n",
    "This task will be done in following steps:\n",
    "1. First get the webpagehttps://www.jagranjosh.com/\n",
    "2. Then You have to click on the GK option\n",
    "3. Then click on the List of all Prime Ministers of India\n",
    "4. Then scrap the mentioned data and make theDataFrame."
   ]
  },
  {
   "cell_type": "code",
   "execution_count": 10,
   "id": "da1c4491",
   "metadata": {},
   "outputs": [],
   "source": [
    "driver=webdriver.Chrome()"
   ]
  },
  {
   "cell_type": "code",
   "execution_count": 11,
   "id": "4ffb6d43",
   "metadata": {},
   "outputs": [],
   "source": [
    "driver.get('https://www.jagranjosh.com/')"
   ]
  },
  {
   "cell_type": "code",
   "execution_count": 12,
   "id": "83f6e32a",
   "metadata": {},
   "outputs": [],
   "source": [
    "gk=driver.find_element(By.XPATH,'/html/body/div/header/nav/div/div/div[3]/ul/li[3]/a')\n",
    "gk.click()"
   ]
  },
  {
   "cell_type": "code",
   "execution_count": 14,
   "id": "559ccf66",
   "metadata": {},
   "outputs": [],
   "source": [
    "pm=driver.find_element(By.XPATH,'/html/body/div[1]/div[8]/section[8]/div/ul/li[10]/a')\n",
    "pm.click()"
   ]
  },
  {
   "cell_type": "code",
   "execution_count": 15,
   "id": "1f3b1391",
   "metadata": {},
   "outputs": [],
   "source": [
    "table=driver.find_element(By.XPATH,'/html/body/div[1]/main/div[1]/div[1]/article/div[3]/div[5]/div')\n",
    "\n"
   ]
  },
  {
   "cell_type": "code",
   "execution_count": 17,
   "id": "1ca4a927",
   "metadata": {},
   "outputs": [],
   "source": [
    "Title=[]"
   ]
  },
  {
   "cell_type": "code",
   "execution_count": 21,
   "id": "53503b70",
   "metadata": {},
   "outputs": [],
   "source": [
    "title=driver.find_elements(By.XPATH,'//div[@class=\"TableData\"]//tr')\n",
    "for i in title:\n",
    "    title=i.text\n",
    "    Title.append(title)\n",
    "        "
   ]
  },
  {
   "cell_type": "code",
   "execution_count": 23,
   "id": "8542444a",
   "metadata": {},
   "outputs": [
    {
     "data": {
      "text/plain": [
       "['S.N.\\nPM Name\\nBorn-Dead\\nTerm of office\\nRemark',\n",
       " '1.\\nJawahar Lal Nehru\\n(1889–1964)\\n15 August 1947 to 27 May 1964\\n16 years, 286 days\\nThe first prime minister of India and the longest-serving PM of India, the first to die in office.',\n",
       " '2.\\nGulzarilal Nanda (Acting)\\n(1898-1998)\\n27 May 1964 to 9 June 1964,\\n13 days\\nFirst acting PM of India',\n",
       " \"3.\\nLal Bahadur Shastri\\n(1904–1966)\\n9 June 1964 to 11 January 1966\\n1 year, 216 days\\nHe has given the slogan of 'Jai Jawan Jai Kisan' during the Indo-Pak war of 1965\",\n",
       " '4. \\nGulzari Lal Nanda  (Acting)\\n(1898-1998)\\n11 January 1966 to 24 January 1966\\n13 days\\n-',\n",
       " '5.\\nIndira Gandhi\\n(1917–1984)\\n24 January 1966 to 24 March 1977\\n11 years, 59 days\\nFirst female Prime Minister of India',\n",
       " '6.\\nMorarji Desai\\n(1896–1995)\\n24 March 1977 to  28 July 1979 \\n2 year, 126 days\\nOldest to become PM (81 years old) and first to resign from office',\n",
       " '7.\\nCharan Singh\\n(1902–1987)\\n28 July 1979 to 14 January 1980\\n170 days\\nOnly PM who did not face the Parliament',\n",
       " '8.\\nIndira Gandhi\\n(1917–1984)\\n14 January 1980 to 31 October 1984\\n4 years, 291 days\\nThe first lady who served as PM for the second term',\n",
       " '9.\\nRajiv Gandhi\\n(1944–1991)\\n31 October 1984 to 2 December 1989\\n5 years, 32 days\\nYoungest to become PM (40 years old)',\n",
       " '10.\\nV. P. Singh\\n(1931–2008)\\n2 December 1989 to 10 November 1990\\n343 days\\nFirst PM to step down after a vote of no confidence',\n",
       " '11.\\nChandra Shekhar\\n(1927–2007)\\n10 November 1990 to 21 June 1991\\n223 days\\nHe belongs to  Samajwadi Janata Party',\n",
       " '12.\\nP. V. Narasimha Rao\\n(1921–2004)\\n21 June 1991 to 16 May 1996\\n4 years, 330 days\\nFirst PM from South India',\n",
       " '13.\\nAtal Bihari Vajpayee\\n(1924- 2018)\\n16 May 1996 to 1 June 1996\\n16 days\\nPM for shortest tenure',\n",
       " '14.\\nH. D. Deve Gowda\\n(born 1933)\\n1 June 1996 to 21 April 1997\\n324 days\\nHe belongs to  Janata Dal',\n",
       " '15.\\nInder Kumar Gujral\\n(1919–2012)\\n21 April 1997 to 19 March 1998 \\n332 days\\n------',\n",
       " '16.\\nAtal Bihari Vajpayee\\n(1924-2018)\\n19 March 1998 to 22 May 2004 \\n6 years, 64 days\\n The first non-congress PM who completed a full term as PM',\n",
       " '17.\\nManmohan Singh\\n(born 1932)\\n22 May 2004 to 26 May 2014   \\n10 years, 4 days\\n First Sikh PM',\n",
       " '18.\\nNarendra Modi\\n(born 1950)\\n26 May 2014 - 2019\\n4th Prime Minister of India who served two consecutive tenures',\n",
       " '19.\\nNarendra Modi\\n(born 1950)\\n30 May 2019- Incumbent\\nFirst non-congress PM with two consecutive tenures',\n",
       " 'List of all Presidents of India List of Nicknames of Indian Prime Ministers']"
      ]
     },
     "execution_count": 23,
     "metadata": {},
     "output_type": "execute_result"
    }
   ],
   "source": [
    "Title"
   ]
  },
  {
   "cell_type": "code",
   "execution_count": 29,
   "id": "a5d2e669",
   "metadata": {},
   "outputs": [],
   "source": [
    "df=pd.DataFrame({\"Title\":Title})"
   ]
  },
  {
   "cell_type": "code",
   "execution_count": 30,
   "id": "00b4628e",
   "metadata": {},
   "outputs": [
    {
     "data": {
      "text/html": [
       "<div>\n",
       "<style scoped>\n",
       "    .dataframe tbody tr th:only-of-type {\n",
       "        vertical-align: middle;\n",
       "    }\n",
       "\n",
       "    .dataframe tbody tr th {\n",
       "        vertical-align: top;\n",
       "    }\n",
       "\n",
       "    .dataframe thead th {\n",
       "        text-align: right;\n",
       "    }\n",
       "</style>\n",
       "<table border=\"1\" class=\"dataframe\">\n",
       "  <thead>\n",
       "    <tr style=\"text-align: right;\">\n",
       "      <th></th>\n",
       "      <th>Title</th>\n",
       "    </tr>\n",
       "  </thead>\n",
       "  <tbody>\n",
       "    <tr>\n",
       "      <th>0</th>\n",
       "      <td>S.N.\\nPM Name\\nBorn-Dead\\nTerm of office\\nRemark</td>\n",
       "    </tr>\n",
       "    <tr>\n",
       "      <th>1</th>\n",
       "      <td>1.\\nJawahar Lal Nehru\\n(1889–1964)\\n15 August ...</td>\n",
       "    </tr>\n",
       "    <tr>\n",
       "      <th>2</th>\n",
       "      <td>2.\\nGulzarilal Nanda (Acting)\\n(1898-1998)\\n27...</td>\n",
       "    </tr>\n",
       "    <tr>\n",
       "      <th>3</th>\n",
       "      <td>3.\\nLal Bahadur Shastri\\n(1904–1966)\\n9 June 1...</td>\n",
       "    </tr>\n",
       "    <tr>\n",
       "      <th>4</th>\n",
       "      <td>4. \\nGulzari Lal Nanda  (Acting)\\n(1898-1998)\\...</td>\n",
       "    </tr>\n",
       "    <tr>\n",
       "      <th>5</th>\n",
       "      <td>5.\\nIndira Gandhi\\n(1917–1984)\\n24 January 196...</td>\n",
       "    </tr>\n",
       "    <tr>\n",
       "      <th>6</th>\n",
       "      <td>6.\\nMorarji Desai\\n(1896–1995)\\n24 March 1977 ...</td>\n",
       "    </tr>\n",
       "    <tr>\n",
       "      <th>7</th>\n",
       "      <td>7.\\nCharan Singh\\n(1902–1987)\\n28 July 1979 to...</td>\n",
       "    </tr>\n",
       "    <tr>\n",
       "      <th>8</th>\n",
       "      <td>8.\\nIndira Gandhi\\n(1917–1984)\\n14 January 198...</td>\n",
       "    </tr>\n",
       "    <tr>\n",
       "      <th>9</th>\n",
       "      <td>9.\\nRajiv Gandhi\\n(1944–1991)\\n31 October 1984...</td>\n",
       "    </tr>\n",
       "    <tr>\n",
       "      <th>10</th>\n",
       "      <td>10.\\nV. P. Singh\\n(1931–2008)\\n2 December 1989...</td>\n",
       "    </tr>\n",
       "    <tr>\n",
       "      <th>11</th>\n",
       "      <td>11.\\nChandra Shekhar\\n(1927–2007)\\n10 November...</td>\n",
       "    </tr>\n",
       "    <tr>\n",
       "      <th>12</th>\n",
       "      <td>12.\\nP. V. Narasimha Rao\\n(1921–2004)\\n21 June...</td>\n",
       "    </tr>\n",
       "    <tr>\n",
       "      <th>13</th>\n",
       "      <td>13.\\nAtal Bihari Vajpayee\\n(1924- 2018)\\n16 Ma...</td>\n",
       "    </tr>\n",
       "    <tr>\n",
       "      <th>14</th>\n",
       "      <td>14.\\nH. D. Deve Gowda\\n(born 1933)\\n1 June 199...</td>\n",
       "    </tr>\n",
       "    <tr>\n",
       "      <th>15</th>\n",
       "      <td>15.\\nInder Kumar Gujral\\n(1919–2012)\\n21 April...</td>\n",
       "    </tr>\n",
       "    <tr>\n",
       "      <th>16</th>\n",
       "      <td>16.\\nAtal Bihari Vajpayee\\n(1924-2018)\\n19 Mar...</td>\n",
       "    </tr>\n",
       "    <tr>\n",
       "      <th>17</th>\n",
       "      <td>17.\\nManmohan Singh\\n(born 1932)\\n22 May 2004 ...</td>\n",
       "    </tr>\n",
       "    <tr>\n",
       "      <th>18</th>\n",
       "      <td>18.\\nNarendra Modi\\n(born 1950)\\n26 May 2014 -...</td>\n",
       "    </tr>\n",
       "    <tr>\n",
       "      <th>19</th>\n",
       "      <td>19.\\nNarendra Modi\\n(born 1950)\\n30 May 2019- ...</td>\n",
       "    </tr>\n",
       "    <tr>\n",
       "      <th>20</th>\n",
       "      <td>List of all Presidents of India List of Nickna...</td>\n",
       "    </tr>\n",
       "  </tbody>\n",
       "</table>\n",
       "</div>"
      ],
      "text/plain": [
       "                                                Title\n",
       "0    S.N.\\nPM Name\\nBorn-Dead\\nTerm of office\\nRemark\n",
       "1   1.\\nJawahar Lal Nehru\\n(1889–1964)\\n15 August ...\n",
       "2   2.\\nGulzarilal Nanda (Acting)\\n(1898-1998)\\n27...\n",
       "3   3.\\nLal Bahadur Shastri\\n(1904–1966)\\n9 June 1...\n",
       "4   4. \\nGulzari Lal Nanda  (Acting)\\n(1898-1998)\\...\n",
       "5   5.\\nIndira Gandhi\\n(1917–1984)\\n24 January 196...\n",
       "6   6.\\nMorarji Desai\\n(1896–1995)\\n24 March 1977 ...\n",
       "7   7.\\nCharan Singh\\n(1902–1987)\\n28 July 1979 to...\n",
       "8   8.\\nIndira Gandhi\\n(1917–1984)\\n14 January 198...\n",
       "9   9.\\nRajiv Gandhi\\n(1944–1991)\\n31 October 1984...\n",
       "10  10.\\nV. P. Singh\\n(1931–2008)\\n2 December 1989...\n",
       "11  11.\\nChandra Shekhar\\n(1927–2007)\\n10 November...\n",
       "12  12.\\nP. V. Narasimha Rao\\n(1921–2004)\\n21 June...\n",
       "13  13.\\nAtal Bihari Vajpayee\\n(1924- 2018)\\n16 Ma...\n",
       "14  14.\\nH. D. Deve Gowda\\n(born 1933)\\n1 June 199...\n",
       "15  15.\\nInder Kumar Gujral\\n(1919–2012)\\n21 April...\n",
       "16  16.\\nAtal Bihari Vajpayee\\n(1924-2018)\\n19 Mar...\n",
       "17  17.\\nManmohan Singh\\n(born 1932)\\n22 May 2004 ...\n",
       "18  18.\\nNarendra Modi\\n(born 1950)\\n26 May 2014 -...\n",
       "19  19.\\nNarendra Modi\\n(born 1950)\\n30 May 2019- ...\n",
       "20  List of all Presidents of India List of Nickna..."
      ]
     },
     "execution_count": 30,
     "metadata": {},
     "output_type": "execute_result"
    }
   ],
   "source": [
    "df"
   ]
  },
  {
   "cell_type": "code",
   "execution_count": null,
   "id": "17238233",
   "metadata": {},
   "outputs": [],
   "source": []
  },
  {
   "cell_type": "markdown",
   "id": "932eb596",
   "metadata": {},
   "source": [
    "Q10: Write a python program to display list of 50 Most expensive cars in the world (i.e.\n",
    "Car name and Price) from https://www.motor1.com/\n",
    "This task will be done in following steps:\n",
    "1. First get the webpage https://www.motor1.com/\n",
    "2. Then You have to type in the search bar ’50 most expensive cars’\n",
    "3. Then click on 50 most expensive carsin the world..\n",
    "4. Then scrap the mentioned data and make the dataframe."
   ]
  },
  {
   "cell_type": "code",
   "execution_count": 31,
   "id": "7a301754",
   "metadata": {},
   "outputs": [],
   "source": [
    "driver=webdriver.Chrome()"
   ]
  },
  {
   "cell_type": "code",
   "execution_count": 32,
   "id": "7fee7b0d",
   "metadata": {},
   "outputs": [],
   "source": [
    "driver.get(\"https://www.motor1.com/\")"
   ]
  },
  {
   "cell_type": "code",
   "execution_count": 33,
   "id": "a980206b",
   "metadata": {},
   "outputs": [],
   "source": [
    "search=driver.find_element(By.XPATH,'/html/body/div[10]/div[2]/div/div/div[3]/div/div/div/form/input')\n",
    "search.send_keys(\"50 most expensive cars\")"
   ]
  },
  {
   "cell_type": "code",
   "execution_count": 35,
   "id": "f1a1ae63",
   "metadata": {},
   "outputs": [],
   "source": [
    "click=driver.find_element(By.XPATH,'/html/body/div[10]/div[2]/div/div/div[3]/div/div/div/form/button[1]')\n",
    "click.click()"
   ]
  },
  {
   "cell_type": "code",
   "execution_count": 36,
   "id": "a067bb80",
   "metadata": {},
   "outputs": [],
   "source": [
    "again=driver.find_element(By.XPATH,'/html/body/div[10]/div[9]/div/div[1]/div/div/div[2]/div/div[1]/h3/a')\n",
    "again.click()"
   ]
  },
  {
   "cell_type": "code",
   "execution_count": 37,
   "id": "c9ad4de7",
   "metadata": {},
   "outputs": [],
   "source": [
    "name=[]"
   ]
  },
  {
   "cell_type": "code",
   "execution_count": 38,
   "id": "a7e424fe",
   "metadata": {},
   "outputs": [],
   "source": [
    "nam=driver.find_elements(By.XPATH,'//h3[@class=\"subheader\"]')\n",
    "for i in nam:\n",
    "    nam=i.text\n",
    "    name.append(nam)"
   ]
  },
  {
   "cell_type": "code",
   "execution_count": 74,
   "id": "8a62eb4a",
   "metadata": {},
   "outputs": [
    {
     "data": {
      "text/plain": [
       "['Aston Martin Valour',\n",
       " 'McLaren Elva',\n",
       " 'Czinger 21C',\n",
       " 'Ferrari Monza',\n",
       " 'Gordon Murray T.33',\n",
       " 'Koenigsegg Gemera',\n",
       " 'Zenvo TSR-S',\n",
       " 'Hennessey Venom F5',\n",
       " 'Bentley Bacalar',\n",
       " 'Hispano Suiza Carmen Boulogne',\n",
       " 'Bentley Mulliner Batur',\n",
       " 'Deus Vayanne',\n",
       " 'SSC Tuatara',\n",
       " 'Lotus Evija',\n",
       " 'Aston Martin Vulcan',\n",
       " 'Delage D12',\n",
       " 'Ferrari Daytona SP3',\n",
       " 'McLaren Speedtail',\n",
       " 'Rimac Nevera',\n",
       " 'Pagani Utopia',\n",
       " 'Pininfarina Battista',\n",
       " 'Gordon Murray T.50',\n",
       " 'Lamborghini Countach',\n",
       " 'Mercedes-AMG Project One',\n",
       " 'Zenvo Aurora',\n",
       " 'Aston Martin Victor',\n",
       " 'Hennessey Venom F5 Roadster',\n",
       " 'Koenigsegg Jesko',\n",
       " 'Aston Martin Valkyrie',\n",
       " 'W Motors Lykan Hypersport',\n",
       " 'McLaren Solus',\n",
       " 'Lamborghini Sian',\n",
       " 'Koenigsegg CC850',\n",
       " 'Bugatti Chiron Super Sport 300+',\n",
       " 'Lamborghini Veneno',\n",
       " 'Bugatti Bolide',\n",
       " 'Pininfarina B95 Speedster',\n",
       " 'Bugatti Mistral',\n",
       " 'Pagani Huayra Imola',\n",
       " 'Bugatti Divo',\n",
       " 'SP Automotive Chaos',\n",
       " 'Pagani Codalunga',\n",
       " '777 Hypercar',\n",
       " 'Mercedes-Maybach Exelero',\n",
       " 'Bugatti Centodieci',\n",
       " 'Bugatti Chiron Profilée',\n",
       " 'Rolls-Royce Sweptail',\n",
       " 'Bugatti La Voiture Noire',\n",
       " 'Rolls-Royce Boat Tail*',\n",
       " 'Rolls-Royce La Rose Noire Droptail',\n",
       " 'Most Expensive Cars In The World']"
      ]
     },
     "execution_count": 74,
     "metadata": {},
     "output_type": "execute_result"
    }
   ],
   "source": [
    "name"
   ]
  },
  {
   "cell_type": "code",
   "execution_count": 75,
   "id": "6ec18bd7",
   "metadata": {},
   "outputs": [],
   "source": [
    "newname=name[:50]"
   ]
  },
  {
   "cell_type": "code",
   "execution_count": 78,
   "id": "f28755c4",
   "metadata": {},
   "outputs": [
    {
     "data": {
      "text/plain": [
       "['Aston Martin Valour',\n",
       " 'McLaren Elva',\n",
       " 'Czinger 21C',\n",
       " 'Ferrari Monza',\n",
       " 'Gordon Murray T.33',\n",
       " 'Koenigsegg Gemera',\n",
       " 'Zenvo TSR-S',\n",
       " 'Hennessey Venom F5',\n",
       " 'Bentley Bacalar',\n",
       " 'Hispano Suiza Carmen Boulogne',\n",
       " 'Bentley Mulliner Batur',\n",
       " 'Deus Vayanne',\n",
       " 'SSC Tuatara',\n",
       " 'Lotus Evija',\n",
       " 'Aston Martin Vulcan',\n",
       " 'Delage D12',\n",
       " 'Ferrari Daytona SP3',\n",
       " 'McLaren Speedtail',\n",
       " 'Rimac Nevera',\n",
       " 'Pagani Utopia',\n",
       " 'Pininfarina Battista',\n",
       " 'Gordon Murray T.50',\n",
       " 'Lamborghini Countach',\n",
       " 'Mercedes-AMG Project One',\n",
       " 'Zenvo Aurora',\n",
       " 'Aston Martin Victor',\n",
       " 'Hennessey Venom F5 Roadster',\n",
       " 'Koenigsegg Jesko',\n",
       " 'Aston Martin Valkyrie',\n",
       " 'W Motors Lykan Hypersport',\n",
       " 'McLaren Solus',\n",
       " 'Lamborghini Sian',\n",
       " 'Koenigsegg CC850',\n",
       " 'Bugatti Chiron Super Sport 300+',\n",
       " 'Lamborghini Veneno',\n",
       " 'Bugatti Bolide',\n",
       " 'Pininfarina B95 Speedster',\n",
       " 'Bugatti Mistral',\n",
       " 'Pagani Huayra Imola',\n",
       " 'Bugatti Divo',\n",
       " 'SP Automotive Chaos',\n",
       " 'Pagani Codalunga',\n",
       " '777 Hypercar',\n",
       " 'Mercedes-Maybach Exelero',\n",
       " 'Bugatti Centodieci',\n",
       " 'Bugatti Chiron Profilée',\n",
       " 'Rolls-Royce Sweptail',\n",
       " 'Bugatti La Voiture Noire',\n",
       " 'Rolls-Royce Boat Tail*',\n",
       " 'Rolls-Royce La Rose Noire Droptail']"
      ]
     },
     "execution_count": 78,
     "metadata": {},
     "output_type": "execute_result"
    }
   ],
   "source": [
    "newname"
   ]
  },
  {
   "cell_type": "code",
   "execution_count": 79,
   "id": "0db79e93",
   "metadata": {},
   "outputs": [
    {
     "data": {
      "text/plain": [
       "50"
      ]
     },
     "execution_count": 79,
     "metadata": {},
     "output_type": "execute_result"
    }
   ],
   "source": [
    "len(newname)"
   ]
  },
  {
   "cell_type": "code",
   "execution_count": 51,
   "id": "8df08d3c",
   "metadata": {},
   "outputs": [],
   "source": [
    "Price1=[]"
   ]
  },
  {
   "cell_type": "code",
   "execution_count": 52,
   "id": "00d2609b",
   "metadata": {},
   "outputs": [],
   "source": [
    "pric=driver.find_elements(By.XPATH,'//strong')\n",
    "for i in pric:\n",
    "    pric=i.text.replace(\"'Price:\",'')\n",
    "    Price1.append(pric)"
   ]
  },
  {
   "cell_type": "code",
   "execution_count": 53,
   "id": "f9c15749",
   "metadata": {},
   "outputs": [
    {
     "data": {
      "text/plain": [
       "['Price: $1.5 Million',\n",
       " 'Price: $1.7 Million',\n",
       " 'Price: $1.7 Million',\n",
       " 'Price: $1.7 Million',\n",
       " 'Price: $1.7 Million',\n",
       " 'Price: $1.7 Million',\n",
       " 'Price: $1.7 Million',\n",
       " 'Price: $1.8 Million',\n",
       " 'Price: $1.9 Million',\n",
       " 'Price: $1.9 Million',\n",
       " 'Price: $2.0 Million',\n",
       " 'Price: $2.0 Million',\n",
       " 'Price: $2.0 Million',\n",
       " 'Price: $2.1 Million',\n",
       " 'Price: $2.3 Million',\n",
       " 'Price: $2.3 Million',\n",
       " 'Price: $2.3 Million',\n",
       " 'Price: $2.3 Million',\n",
       " 'Price: $2.4 Million',\n",
       " 'Price: $2.5 Million',\n",
       " 'Price: $2.5 Million',\n",
       " 'Price: $2.6 Million',\n",
       " 'Price: $2.6 Million',\n",
       " 'Price: $2.7 Million',\n",
       " 'Price: $2.8 Million',\n",
       " 'Price: $3.0 Million',\n",
       " '$3.0 Million',\n",
       " 'Price: $3.0 Million',\n",
       " 'Price: $3.2 Million',\n",
       " 'Price: $3.4 Million',\n",
       " '$3.5 Million',\n",
       " 'Price: $3.6 million',\n",
       " 'Price: $3.7 Million',\n",
       " 'Price: $3.9 Million',\n",
       " 'Price: $4.5 Million',\n",
       " 'Price: $4.7 Million',\n",
       " 'Price: $4.8 Million',\n",
       " 'Price: $5.0 Million',\n",
       " 'Price: $5.4 Million',\n",
       " 'Price: $5.8 Million',\n",
       " 'Price: $6.4 Million',\n",
       " 'Price: $7.4 Million',\n",
       " 'Price: $7.5 Million',\n",
       " 'Price: $8.0 Million',\n",
       " 'Price: $9.0 Million',\n",
       " 'Price: $10.8 Million',\n",
       " 'Price: $12.8 Million',\n",
       " 'Price: $13.4 Million',\n",
       " 'Price: $28.0 Million (est.)',\n",
       " 'Price: $30 Million (est.)']"
      ]
     },
     "execution_count": 53,
     "metadata": {},
     "output_type": "execute_result"
    }
   ],
   "source": [
    "Price1"
   ]
  },
  {
   "cell_type": "code",
   "execution_count": 55,
   "id": "c393c630",
   "metadata": {},
   "outputs": [],
   "source": [
    "df=pd.DataFrame({\"Price\":Price1})"
   ]
  },
  {
   "cell_type": "code",
   "execution_count": 56,
   "id": "66d6a62c",
   "metadata": {},
   "outputs": [
    {
     "data": {
      "text/html": [
       "<div>\n",
       "<style scoped>\n",
       "    .dataframe tbody tr th:only-of-type {\n",
       "        vertical-align: middle;\n",
       "    }\n",
       "\n",
       "    .dataframe tbody tr th {\n",
       "        vertical-align: top;\n",
       "    }\n",
       "\n",
       "    .dataframe thead th {\n",
       "        text-align: right;\n",
       "    }\n",
       "</style>\n",
       "<table border=\"1\" class=\"dataframe\">\n",
       "  <thead>\n",
       "    <tr style=\"text-align: right;\">\n",
       "      <th></th>\n",
       "      <th>Price</th>\n",
       "    </tr>\n",
       "  </thead>\n",
       "  <tbody>\n",
       "    <tr>\n",
       "      <th>0</th>\n",
       "      <td>Price: $1.5 Million</td>\n",
       "    </tr>\n",
       "    <tr>\n",
       "      <th>1</th>\n",
       "      <td>Price: $1.7 Million</td>\n",
       "    </tr>\n",
       "    <tr>\n",
       "      <th>2</th>\n",
       "      <td>Price: $1.7 Million</td>\n",
       "    </tr>\n",
       "    <tr>\n",
       "      <th>3</th>\n",
       "      <td>Price: $1.7 Million</td>\n",
       "    </tr>\n",
       "    <tr>\n",
       "      <th>4</th>\n",
       "      <td>Price: $1.7 Million</td>\n",
       "    </tr>\n",
       "    <tr>\n",
       "      <th>5</th>\n",
       "      <td>Price: $1.7 Million</td>\n",
       "    </tr>\n",
       "    <tr>\n",
       "      <th>6</th>\n",
       "      <td>Price: $1.7 Million</td>\n",
       "    </tr>\n",
       "    <tr>\n",
       "      <th>7</th>\n",
       "      <td>Price: $1.8 Million</td>\n",
       "    </tr>\n",
       "    <tr>\n",
       "      <th>8</th>\n",
       "      <td>Price: $1.9 Million</td>\n",
       "    </tr>\n",
       "    <tr>\n",
       "      <th>9</th>\n",
       "      <td>Price: $1.9 Million</td>\n",
       "    </tr>\n",
       "    <tr>\n",
       "      <th>10</th>\n",
       "      <td>Price: $2.0 Million</td>\n",
       "    </tr>\n",
       "    <tr>\n",
       "      <th>11</th>\n",
       "      <td>Price: $2.0 Million</td>\n",
       "    </tr>\n",
       "    <tr>\n",
       "      <th>12</th>\n",
       "      <td>Price: $2.0 Million</td>\n",
       "    </tr>\n",
       "    <tr>\n",
       "      <th>13</th>\n",
       "      <td>Price: $2.1 Million</td>\n",
       "    </tr>\n",
       "    <tr>\n",
       "      <th>14</th>\n",
       "      <td>Price: $2.3 Million</td>\n",
       "    </tr>\n",
       "    <tr>\n",
       "      <th>15</th>\n",
       "      <td>Price: $2.3 Million</td>\n",
       "    </tr>\n",
       "    <tr>\n",
       "      <th>16</th>\n",
       "      <td>Price: $2.3 Million</td>\n",
       "    </tr>\n",
       "    <tr>\n",
       "      <th>17</th>\n",
       "      <td>Price: $2.3 Million</td>\n",
       "    </tr>\n",
       "    <tr>\n",
       "      <th>18</th>\n",
       "      <td>Price: $2.4 Million</td>\n",
       "    </tr>\n",
       "    <tr>\n",
       "      <th>19</th>\n",
       "      <td>Price: $2.5 Million</td>\n",
       "    </tr>\n",
       "    <tr>\n",
       "      <th>20</th>\n",
       "      <td>Price: $2.5 Million</td>\n",
       "    </tr>\n",
       "    <tr>\n",
       "      <th>21</th>\n",
       "      <td>Price: $2.6 Million</td>\n",
       "    </tr>\n",
       "    <tr>\n",
       "      <th>22</th>\n",
       "      <td>Price: $2.6 Million</td>\n",
       "    </tr>\n",
       "    <tr>\n",
       "      <th>23</th>\n",
       "      <td>Price: $2.7 Million</td>\n",
       "    </tr>\n",
       "    <tr>\n",
       "      <th>24</th>\n",
       "      <td>Price: $2.8 Million</td>\n",
       "    </tr>\n",
       "    <tr>\n",
       "      <th>25</th>\n",
       "      <td>Price: $3.0 Million</td>\n",
       "    </tr>\n",
       "    <tr>\n",
       "      <th>26</th>\n",
       "      <td>$3.0 Million</td>\n",
       "    </tr>\n",
       "    <tr>\n",
       "      <th>27</th>\n",
       "      <td>Price: $3.0 Million</td>\n",
       "    </tr>\n",
       "    <tr>\n",
       "      <th>28</th>\n",
       "      <td>Price: $3.2 Million</td>\n",
       "    </tr>\n",
       "    <tr>\n",
       "      <th>29</th>\n",
       "      <td>Price: $3.4 Million</td>\n",
       "    </tr>\n",
       "    <tr>\n",
       "      <th>30</th>\n",
       "      <td>$3.5 Million</td>\n",
       "    </tr>\n",
       "    <tr>\n",
       "      <th>31</th>\n",
       "      <td>Price: $3.6 million</td>\n",
       "    </tr>\n",
       "    <tr>\n",
       "      <th>32</th>\n",
       "      <td>Price: $3.7 Million</td>\n",
       "    </tr>\n",
       "    <tr>\n",
       "      <th>33</th>\n",
       "      <td>Price: $3.9 Million</td>\n",
       "    </tr>\n",
       "    <tr>\n",
       "      <th>34</th>\n",
       "      <td>Price: $4.5 Million</td>\n",
       "    </tr>\n",
       "    <tr>\n",
       "      <th>35</th>\n",
       "      <td>Price: $4.7 Million</td>\n",
       "    </tr>\n",
       "    <tr>\n",
       "      <th>36</th>\n",
       "      <td>Price: $4.8 Million</td>\n",
       "    </tr>\n",
       "    <tr>\n",
       "      <th>37</th>\n",
       "      <td>Price: $5.0 Million</td>\n",
       "    </tr>\n",
       "    <tr>\n",
       "      <th>38</th>\n",
       "      <td>Price: $5.4 Million</td>\n",
       "    </tr>\n",
       "    <tr>\n",
       "      <th>39</th>\n",
       "      <td>Price: $5.8 Million</td>\n",
       "    </tr>\n",
       "    <tr>\n",
       "      <th>40</th>\n",
       "      <td>Price: $6.4 Million</td>\n",
       "    </tr>\n",
       "    <tr>\n",
       "      <th>41</th>\n",
       "      <td>Price: $7.4 Million</td>\n",
       "    </tr>\n",
       "    <tr>\n",
       "      <th>42</th>\n",
       "      <td>Price: $7.5 Million</td>\n",
       "    </tr>\n",
       "    <tr>\n",
       "      <th>43</th>\n",
       "      <td>Price: $8.0 Million</td>\n",
       "    </tr>\n",
       "    <tr>\n",
       "      <th>44</th>\n",
       "      <td>Price: $9.0 Million</td>\n",
       "    </tr>\n",
       "    <tr>\n",
       "      <th>45</th>\n",
       "      <td>Price: $10.8 Million</td>\n",
       "    </tr>\n",
       "    <tr>\n",
       "      <th>46</th>\n",
       "      <td>Price: $12.8 Million</td>\n",
       "    </tr>\n",
       "    <tr>\n",
       "      <th>47</th>\n",
       "      <td>Price: $13.4 Million</td>\n",
       "    </tr>\n",
       "    <tr>\n",
       "      <th>48</th>\n",
       "      <td>Price: $28.0 Million (est.)</td>\n",
       "    </tr>\n",
       "    <tr>\n",
       "      <th>49</th>\n",
       "      <td>Price: $30 Million (est.)</td>\n",
       "    </tr>\n",
       "  </tbody>\n",
       "</table>\n",
       "</div>"
      ],
      "text/plain": [
       "                          Price\n",
       "0           Price: $1.5 Million\n",
       "1           Price: $1.7 Million\n",
       "2           Price: $1.7 Million\n",
       "3           Price: $1.7 Million\n",
       "4           Price: $1.7 Million\n",
       "5           Price: $1.7 Million\n",
       "6           Price: $1.7 Million\n",
       "7           Price: $1.8 Million\n",
       "8           Price: $1.9 Million\n",
       "9           Price: $1.9 Million\n",
       "10          Price: $2.0 Million\n",
       "11          Price: $2.0 Million\n",
       "12          Price: $2.0 Million\n",
       "13          Price: $2.1 Million\n",
       "14          Price: $2.3 Million\n",
       "15          Price: $2.3 Million\n",
       "16          Price: $2.3 Million\n",
       "17          Price: $2.3 Million\n",
       "18          Price: $2.4 Million\n",
       "19          Price: $2.5 Million\n",
       "20          Price: $2.5 Million\n",
       "21          Price: $2.6 Million\n",
       "22          Price: $2.6 Million\n",
       "23          Price: $2.7 Million\n",
       "24          Price: $2.8 Million\n",
       "25          Price: $3.0 Million\n",
       "26                 $3.0 Million\n",
       "27          Price: $3.0 Million\n",
       "28          Price: $3.2 Million\n",
       "29          Price: $3.4 Million\n",
       "30                 $3.5 Million\n",
       "31          Price: $3.6 million\n",
       "32          Price: $3.7 Million\n",
       "33          Price: $3.9 Million\n",
       "34          Price: $4.5 Million\n",
       "35          Price: $4.7 Million\n",
       "36          Price: $4.8 Million\n",
       "37          Price: $5.0 Million\n",
       "38          Price: $5.4 Million\n",
       "39          Price: $5.8 Million\n",
       "40          Price: $6.4 Million\n",
       "41          Price: $7.4 Million\n",
       "42          Price: $7.5 Million\n",
       "43          Price: $8.0 Million\n",
       "44          Price: $9.0 Million\n",
       "45         Price: $10.8 Million\n",
       "46         Price: $12.8 Million\n",
       "47         Price: $13.4 Million\n",
       "48  Price: $28.0 Million (est.)\n",
       "49    Price: $30 Million (est.)"
      ]
     },
     "execution_count": 56,
     "metadata": {},
     "output_type": "execute_result"
    }
   ],
   "source": [
    "df"
   ]
  },
  {
   "cell_type": "code",
   "execution_count": null,
   "id": "d0930823",
   "metadata": {},
   "outputs": [],
   "source": []
  },
  {
   "cell_type": "code",
   "execution_count": 81,
   "id": "e0b52c36",
   "metadata": {},
   "outputs": [],
   "source": [
    "df1=pd.DataFrame({\"NAME\":newname,\"Price\":Price1})"
   ]
  },
  {
   "cell_type": "code",
   "execution_count": 83,
   "id": "6f2b2c32",
   "metadata": {},
   "outputs": [
    {
     "data": {
      "text/html": [
       "<div>\n",
       "<style scoped>\n",
       "    .dataframe tbody tr th:only-of-type {\n",
       "        vertical-align: middle;\n",
       "    }\n",
       "\n",
       "    .dataframe tbody tr th {\n",
       "        vertical-align: top;\n",
       "    }\n",
       "\n",
       "    .dataframe thead th {\n",
       "        text-align: right;\n",
       "    }\n",
       "</style>\n",
       "<table border=\"1\" class=\"dataframe\">\n",
       "  <thead>\n",
       "    <tr style=\"text-align: right;\">\n",
       "      <th></th>\n",
       "      <th>NAME</th>\n",
       "      <th>Price</th>\n",
       "    </tr>\n",
       "  </thead>\n",
       "  <tbody>\n",
       "    <tr>\n",
       "      <th>0</th>\n",
       "      <td>Aston Martin Valour</td>\n",
       "      <td>Price: $1.5 Million</td>\n",
       "    </tr>\n",
       "    <tr>\n",
       "      <th>1</th>\n",
       "      <td>McLaren Elva</td>\n",
       "      <td>Price: $1.7 Million</td>\n",
       "    </tr>\n",
       "    <tr>\n",
       "      <th>2</th>\n",
       "      <td>Czinger 21C</td>\n",
       "      <td>Price: $1.7 Million</td>\n",
       "    </tr>\n",
       "    <tr>\n",
       "      <th>3</th>\n",
       "      <td>Ferrari Monza</td>\n",
       "      <td>Price: $1.7 Million</td>\n",
       "    </tr>\n",
       "    <tr>\n",
       "      <th>4</th>\n",
       "      <td>Gordon Murray T.33</td>\n",
       "      <td>Price: $1.7 Million</td>\n",
       "    </tr>\n",
       "    <tr>\n",
       "      <th>5</th>\n",
       "      <td>Koenigsegg Gemera</td>\n",
       "      <td>Price: $1.7 Million</td>\n",
       "    </tr>\n",
       "    <tr>\n",
       "      <th>6</th>\n",
       "      <td>Zenvo TSR-S</td>\n",
       "      <td>Price: $1.7 Million</td>\n",
       "    </tr>\n",
       "    <tr>\n",
       "      <th>7</th>\n",
       "      <td>Hennessey Venom F5</td>\n",
       "      <td>Price: $1.8 Million</td>\n",
       "    </tr>\n",
       "    <tr>\n",
       "      <th>8</th>\n",
       "      <td>Bentley Bacalar</td>\n",
       "      <td>Price: $1.9 Million</td>\n",
       "    </tr>\n",
       "    <tr>\n",
       "      <th>9</th>\n",
       "      <td>Hispano Suiza Carmen Boulogne</td>\n",
       "      <td>Price: $1.9 Million</td>\n",
       "    </tr>\n",
       "    <tr>\n",
       "      <th>10</th>\n",
       "      <td>Bentley Mulliner Batur</td>\n",
       "      <td>Price: $2.0 Million</td>\n",
       "    </tr>\n",
       "    <tr>\n",
       "      <th>11</th>\n",
       "      <td>Deus Vayanne</td>\n",
       "      <td>Price: $2.0 Million</td>\n",
       "    </tr>\n",
       "    <tr>\n",
       "      <th>12</th>\n",
       "      <td>SSC Tuatara</td>\n",
       "      <td>Price: $2.0 Million</td>\n",
       "    </tr>\n",
       "    <tr>\n",
       "      <th>13</th>\n",
       "      <td>Lotus Evija</td>\n",
       "      <td>Price: $2.1 Million</td>\n",
       "    </tr>\n",
       "    <tr>\n",
       "      <th>14</th>\n",
       "      <td>Aston Martin Vulcan</td>\n",
       "      <td>Price: $2.3 Million</td>\n",
       "    </tr>\n",
       "    <tr>\n",
       "      <th>15</th>\n",
       "      <td>Delage D12</td>\n",
       "      <td>Price: $2.3 Million</td>\n",
       "    </tr>\n",
       "    <tr>\n",
       "      <th>16</th>\n",
       "      <td>Ferrari Daytona SP3</td>\n",
       "      <td>Price: $2.3 Million</td>\n",
       "    </tr>\n",
       "    <tr>\n",
       "      <th>17</th>\n",
       "      <td>McLaren Speedtail</td>\n",
       "      <td>Price: $2.3 Million</td>\n",
       "    </tr>\n",
       "    <tr>\n",
       "      <th>18</th>\n",
       "      <td>Rimac Nevera</td>\n",
       "      <td>Price: $2.4 Million</td>\n",
       "    </tr>\n",
       "    <tr>\n",
       "      <th>19</th>\n",
       "      <td>Pagani Utopia</td>\n",
       "      <td>Price: $2.5 Million</td>\n",
       "    </tr>\n",
       "    <tr>\n",
       "      <th>20</th>\n",
       "      <td>Pininfarina Battista</td>\n",
       "      <td>Price: $2.5 Million</td>\n",
       "    </tr>\n",
       "    <tr>\n",
       "      <th>21</th>\n",
       "      <td>Gordon Murray T.50</td>\n",
       "      <td>Price: $2.6 Million</td>\n",
       "    </tr>\n",
       "    <tr>\n",
       "      <th>22</th>\n",
       "      <td>Lamborghini Countach</td>\n",
       "      <td>Price: $2.6 Million</td>\n",
       "    </tr>\n",
       "    <tr>\n",
       "      <th>23</th>\n",
       "      <td>Mercedes-AMG Project One</td>\n",
       "      <td>Price: $2.7 Million</td>\n",
       "    </tr>\n",
       "    <tr>\n",
       "      <th>24</th>\n",
       "      <td>Zenvo Aurora</td>\n",
       "      <td>Price: $2.8 Million</td>\n",
       "    </tr>\n",
       "    <tr>\n",
       "      <th>25</th>\n",
       "      <td>Aston Martin Victor</td>\n",
       "      <td>Price: $3.0 Million</td>\n",
       "    </tr>\n",
       "    <tr>\n",
       "      <th>26</th>\n",
       "      <td>Hennessey Venom F5 Roadster</td>\n",
       "      <td>$3.0 Million</td>\n",
       "    </tr>\n",
       "    <tr>\n",
       "      <th>27</th>\n",
       "      <td>Koenigsegg Jesko</td>\n",
       "      <td>Price: $3.0 Million</td>\n",
       "    </tr>\n",
       "    <tr>\n",
       "      <th>28</th>\n",
       "      <td>Aston Martin Valkyrie</td>\n",
       "      <td>Price: $3.2 Million</td>\n",
       "    </tr>\n",
       "    <tr>\n",
       "      <th>29</th>\n",
       "      <td>W Motors Lykan Hypersport</td>\n",
       "      <td>Price: $3.4 Million</td>\n",
       "    </tr>\n",
       "    <tr>\n",
       "      <th>30</th>\n",
       "      <td>McLaren Solus</td>\n",
       "      <td>$3.5 Million</td>\n",
       "    </tr>\n",
       "    <tr>\n",
       "      <th>31</th>\n",
       "      <td>Lamborghini Sian</td>\n",
       "      <td>Price: $3.6 million</td>\n",
       "    </tr>\n",
       "    <tr>\n",
       "      <th>32</th>\n",
       "      <td>Koenigsegg CC850</td>\n",
       "      <td>Price: $3.7 Million</td>\n",
       "    </tr>\n",
       "    <tr>\n",
       "      <th>33</th>\n",
       "      <td>Bugatti Chiron Super Sport 300+</td>\n",
       "      <td>Price: $3.9 Million</td>\n",
       "    </tr>\n",
       "    <tr>\n",
       "      <th>34</th>\n",
       "      <td>Lamborghini Veneno</td>\n",
       "      <td>Price: $4.5 Million</td>\n",
       "    </tr>\n",
       "    <tr>\n",
       "      <th>35</th>\n",
       "      <td>Bugatti Bolide</td>\n",
       "      <td>Price: $4.7 Million</td>\n",
       "    </tr>\n",
       "    <tr>\n",
       "      <th>36</th>\n",
       "      <td>Pininfarina B95 Speedster</td>\n",
       "      <td>Price: $4.8 Million</td>\n",
       "    </tr>\n",
       "    <tr>\n",
       "      <th>37</th>\n",
       "      <td>Bugatti Mistral</td>\n",
       "      <td>Price: $5.0 Million</td>\n",
       "    </tr>\n",
       "    <tr>\n",
       "      <th>38</th>\n",
       "      <td>Pagani Huayra Imola</td>\n",
       "      <td>Price: $5.4 Million</td>\n",
       "    </tr>\n",
       "    <tr>\n",
       "      <th>39</th>\n",
       "      <td>Bugatti Divo</td>\n",
       "      <td>Price: $5.8 Million</td>\n",
       "    </tr>\n",
       "    <tr>\n",
       "      <th>40</th>\n",
       "      <td>SP Automotive Chaos</td>\n",
       "      <td>Price: $6.4 Million</td>\n",
       "    </tr>\n",
       "    <tr>\n",
       "      <th>41</th>\n",
       "      <td>Pagani Codalunga</td>\n",
       "      <td>Price: $7.4 Million</td>\n",
       "    </tr>\n",
       "    <tr>\n",
       "      <th>42</th>\n",
       "      <td>777 Hypercar</td>\n",
       "      <td>Price: $7.5 Million</td>\n",
       "    </tr>\n",
       "    <tr>\n",
       "      <th>43</th>\n",
       "      <td>Mercedes-Maybach Exelero</td>\n",
       "      <td>Price: $8.0 Million</td>\n",
       "    </tr>\n",
       "    <tr>\n",
       "      <th>44</th>\n",
       "      <td>Bugatti Centodieci</td>\n",
       "      <td>Price: $9.0 Million</td>\n",
       "    </tr>\n",
       "    <tr>\n",
       "      <th>45</th>\n",
       "      <td>Bugatti Chiron Profilée</td>\n",
       "      <td>Price: $10.8 Million</td>\n",
       "    </tr>\n",
       "    <tr>\n",
       "      <th>46</th>\n",
       "      <td>Rolls-Royce Sweptail</td>\n",
       "      <td>Price: $12.8 Million</td>\n",
       "    </tr>\n",
       "    <tr>\n",
       "      <th>47</th>\n",
       "      <td>Bugatti La Voiture Noire</td>\n",
       "      <td>Price: $13.4 Million</td>\n",
       "    </tr>\n",
       "    <tr>\n",
       "      <th>48</th>\n",
       "      <td>Rolls-Royce Boat Tail*</td>\n",
       "      <td>Price: $28.0 Million (est.)</td>\n",
       "    </tr>\n",
       "    <tr>\n",
       "      <th>49</th>\n",
       "      <td>Rolls-Royce La Rose Noire Droptail</td>\n",
       "      <td>Price: $30 Million (est.)</td>\n",
       "    </tr>\n",
       "  </tbody>\n",
       "</table>\n",
       "</div>"
      ],
      "text/plain": [
       "                                  NAME                        Price\n",
       "0                  Aston Martin Valour          Price: $1.5 Million\n",
       "1                         McLaren Elva          Price: $1.7 Million\n",
       "2                          Czinger 21C          Price: $1.7 Million\n",
       "3                        Ferrari Monza          Price: $1.7 Million\n",
       "4                   Gordon Murray T.33          Price: $1.7 Million\n",
       "5                    Koenigsegg Gemera          Price: $1.7 Million\n",
       "6                          Zenvo TSR-S          Price: $1.7 Million\n",
       "7                   Hennessey Venom F5          Price: $1.8 Million\n",
       "8                      Bentley Bacalar          Price: $1.9 Million\n",
       "9        Hispano Suiza Carmen Boulogne          Price: $1.9 Million\n",
       "10              Bentley Mulliner Batur          Price: $2.0 Million\n",
       "11                        Deus Vayanne          Price: $2.0 Million\n",
       "12                         SSC Tuatara          Price: $2.0 Million\n",
       "13                         Lotus Evija          Price: $2.1 Million\n",
       "14                 Aston Martin Vulcan          Price: $2.3 Million\n",
       "15                          Delage D12          Price: $2.3 Million\n",
       "16                 Ferrari Daytona SP3          Price: $2.3 Million\n",
       "17                   McLaren Speedtail          Price: $2.3 Million\n",
       "18                        Rimac Nevera          Price: $2.4 Million\n",
       "19                       Pagani Utopia          Price: $2.5 Million\n",
       "20                Pininfarina Battista          Price: $2.5 Million\n",
       "21                  Gordon Murray T.50          Price: $2.6 Million\n",
       "22                Lamborghini Countach          Price: $2.6 Million\n",
       "23            Mercedes-AMG Project One          Price: $2.7 Million\n",
       "24                        Zenvo Aurora          Price: $2.8 Million\n",
       "25                 Aston Martin Victor          Price: $3.0 Million\n",
       "26         Hennessey Venom F5 Roadster                 $3.0 Million\n",
       "27                    Koenigsegg Jesko          Price: $3.0 Million\n",
       "28               Aston Martin Valkyrie          Price: $3.2 Million\n",
       "29           W Motors Lykan Hypersport          Price: $3.4 Million\n",
       "30                       McLaren Solus                 $3.5 Million\n",
       "31                    Lamborghini Sian          Price: $3.6 million\n",
       "32                    Koenigsegg CC850          Price: $3.7 Million\n",
       "33     Bugatti Chiron Super Sport 300+          Price: $3.9 Million\n",
       "34                  Lamborghini Veneno          Price: $4.5 Million\n",
       "35                      Bugatti Bolide          Price: $4.7 Million\n",
       "36           Pininfarina B95 Speedster          Price: $4.8 Million\n",
       "37                     Bugatti Mistral          Price: $5.0 Million\n",
       "38                 Pagani Huayra Imola          Price: $5.4 Million\n",
       "39                        Bugatti Divo          Price: $5.8 Million\n",
       "40                 SP Automotive Chaos          Price: $6.4 Million\n",
       "41                    Pagani Codalunga          Price: $7.4 Million\n",
       "42                        777 Hypercar          Price: $7.5 Million\n",
       "43            Mercedes-Maybach Exelero          Price: $8.0 Million\n",
       "44                  Bugatti Centodieci          Price: $9.0 Million\n",
       "45             Bugatti Chiron Profilée         Price: $10.8 Million\n",
       "46                Rolls-Royce Sweptail         Price: $12.8 Million\n",
       "47            Bugatti La Voiture Noire         Price: $13.4 Million\n",
       "48              Rolls-Royce Boat Tail*  Price: $28.0 Million (est.)\n",
       "49  Rolls-Royce La Rose Noire Droptail    Price: $30 Million (est.)"
      ]
     },
     "execution_count": 83,
     "metadata": {},
     "output_type": "execute_result"
    }
   ],
   "source": [
    "df1"
   ]
  },
  {
   "cell_type": "code",
   "execution_count": 88,
   "id": "5353e434",
   "metadata": {},
   "outputs": [],
   "source": [
    "df4=df1[\"Price\"].str.replace(\"Price:\",\"\",case=False)"
   ]
  },
  {
   "cell_type": "code",
   "execution_count": 89,
   "id": "13051955",
   "metadata": {},
   "outputs": [
    {
     "data": {
      "text/plain": [
       "0              $1.5 Million\n",
       "1              $1.7 Million\n",
       "2              $1.7 Million\n",
       "3              $1.7 Million\n",
       "4              $1.7 Million\n",
       "5              $1.7 Million\n",
       "6              $1.7 Million\n",
       "7              $1.8 Million\n",
       "8              $1.9 Million\n",
       "9              $1.9 Million\n",
       "10             $2.0 Million\n",
       "11             $2.0 Million\n",
       "12             $2.0 Million\n",
       "13             $2.1 Million\n",
       "14             $2.3 Million\n",
       "15             $2.3 Million\n",
       "16             $2.3 Million\n",
       "17             $2.3 Million\n",
       "18             $2.4 Million\n",
       "19             $2.5 Million\n",
       "20             $2.5 Million\n",
       "21             $2.6 Million\n",
       "22             $2.6 Million\n",
       "23             $2.7 Million\n",
       "24             $2.8 Million\n",
       "25             $3.0 Million\n",
       "26             $3.0 Million\n",
       "27             $3.0 Million\n",
       "28             $3.2 Million\n",
       "29             $3.4 Million\n",
       "30             $3.5 Million\n",
       "31             $3.6 million\n",
       "32             $3.7 Million\n",
       "33             $3.9 Million\n",
       "34             $4.5 Million\n",
       "35             $4.7 Million\n",
       "36             $4.8 Million\n",
       "37             $5.0 Million\n",
       "38             $5.4 Million\n",
       "39             $5.8 Million\n",
       "40             $6.4 Million\n",
       "41             $7.4 Million\n",
       "42             $7.5 Million\n",
       "43             $8.0 Million\n",
       "44             $9.0 Million\n",
       "45            $10.8 Million\n",
       "46            $12.8 Million\n",
       "47            $13.4 Million\n",
       "48     $28.0 Million (est.)\n",
       "49       $30 Million (est.)\n",
       "Name: Price, dtype: object"
      ]
     },
     "execution_count": 89,
     "metadata": {},
     "output_type": "execute_result"
    }
   ],
   "source": [
    "df4"
   ]
  }
 ],
 "metadata": {
  "kernelspec": {
   "display_name": "Python 3 (ipykernel)",
   "language": "python",
   "name": "python3"
  },
  "language_info": {
   "codemirror_mode": {
    "name": "ipython",
    "version": 3
   },
   "file_extension": ".py",
   "mimetype": "text/x-python",
   "name": "python",
   "nbconvert_exporter": "python",
   "pygments_lexer": "ipython3",
   "version": "3.10.9"
  }
 },
 "nbformat": 4,
 "nbformat_minor": 5
}
