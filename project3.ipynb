{
 "cells": [
  {
   "cell_type": "markdown",
   "id": "6dae24cc",
   "metadata": {},
   "source": [
    "11.\tWrite a python program to find the factorial of a number."
   ]
  },
  {
   "cell_type": "code",
   "execution_count": 29,
   "id": "ee4d7b6a",
   "metadata": {},
   "outputs": [
    {
     "name": "stdout",
     "output_type": "stream",
     "text": [
      "enter a number5\n",
      "factorial of the given number is = 120\n"
     ]
    }
   ],
   "source": [
    "i=int(input(\"enter a number\"))\n",
    "k=1\n",
    "if i>=1:\n",
    "    \n",
    "    \n",
    "    for p in range(1,i+1):\n",
    "        k=k*p\n",
    "print(\"factorial of the given number is =\",k)\n",
    "\n",
    "        "
   ]
  },
  {
   "cell_type": "markdown",
   "id": "2c739eac",
   "metadata": {},
   "source": [
    "12.\tWrite a python program to find whether a number is prime or composite."
   ]
  },
  {
   "cell_type": "code",
   "execution_count": null,
   "id": "1c5cd870",
   "metadata": {},
   "outputs": [],
   "source": [
    "k= int(input(\"Enter any number : \"))\n",
    "if k > 1:\n",
    "    for i in range(2, k):\n",
    "        if (k % i) == 0:\n",
    "            print(k, \":it is a COMPOSITE number\")\n",
    "            break\n",
    "    else:\n",
    "        print(k, \"is a PRIME number\")\n",
    "\n",
    "else:\n",
    "    print()"
   ]
  },
  {
   "cell_type": "code",
   "execution_count": null,
   "id": "eb8354d9",
   "metadata": {},
   "outputs": [],
   "source": [
    "import re"
   ]
  },
  {
   "cell_type": "markdown",
   "id": "f9aa8e73",
   "metadata": {},
   "source": [
    "13.\tWrite a python program to check whether a given string is palindrome or not."
   ]
  },
  {
   "cell_type": "code",
   "execution_count": 121,
   "id": "5b05d616",
   "metadata": {},
   "outputs": [
    {
     "name": "stdout",
     "output_type": "stream",
     "text": [
      "Enter the string to check if it is a palindrome: ana\n",
      "The string is not a palindrome.\n"
     ]
    }
   ],
   "source": [
    "k =str( input (\"Enter the string to check if it is a palindrome: \"))\n",
    "\n",
    "if k == (reversed(k)):\n",
    "    \n",
    "    print (\"The string is a palindrome.\")\n",
    "\n",
    "else:\n",
    "\n",
    "    \n",
    "    print (\"The string is not a palindrome.\")"
   ]
  },
  {
   "cell_type": "markdown",
   "id": "cc35c347",
   "metadata": {},
   "source": [
    "14.\tWrite a Python program to get the third side of right-angled triangle from two given sides."
   ]
  },
  {
   "cell_type": "code",
   "execution_count": 119,
   "id": "2c2dbc13",
   "metadata": {},
   "outputs": [
    {
     "name": "stdout",
     "output_type": "stream",
     "text": [
      "enter base8\n",
      "enter height7\n",
      "10.63014581273465 third side of a right angle triangle\n"
     ]
    }
   ],
   "source": [
    "k=int(input(\"enter base\"))\n",
    "l=int(input(\"enter height\"))\n",
    "t=(k**2+l**2)**0.5\n",
    "print(t,\"third side of a right angle triangle\")\n",
    "      \n",
    "        \n",
    "            "
   ]
  },
  {
   "cell_type": "markdown",
   "id": "3ec77490",
   "metadata": {},
   "source": [
    "15.\tWrite a python program to print the frequency of each of the characters present in a given string"
   ]
  },
  {
   "cell_type": "code",
   "execution_count": null,
   "id": "f7928fc4",
   "metadata": {},
   "outputs": [],
   "source": []
  }
 ],
 "metadata": {
  "kernelspec": {
   "display_name": "Python 3 (ipykernel)",
   "language": "python",
   "name": "python3"
  },
  "language_info": {
   "codemirror_mode": {
    "name": "ipython",
    "version": 3
   },
   "file_extension": ".py",
   "mimetype": "text/x-python",
   "name": "python",
   "nbconvert_exporter": "python",
   "pygments_lexer": "ipython3",
   "version": "3.10.9"
  }
 },
 "nbformat": 4,
 "nbformat_minor": 5
}
