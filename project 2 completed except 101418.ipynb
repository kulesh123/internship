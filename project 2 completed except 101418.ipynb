{
 "cells": [
  {
   "cell_type": "code",
   "execution_count": 1,
   "id": "1e1d809f",
   "metadata": {},
   "outputs": [],
   "source": [
    "import re"
   ]
  },
  {
   "cell_type": "markdown",
   "id": "2af137dc",
   "metadata": {},
   "source": [
    "Question 1-Write a Python program to replace all occurrences of a space, comma, or dot with a colon. Sample Text-'Python Exercises, PHP exercises.' \n",
    "Expected Output:Python:Exercises::PHP:exercises:"
   ]
  },
  {
   "cell_type": "code",
   "execution_count": 276,
   "id": "a1b7b62f",
   "metadata": {},
   "outputs": [],
   "source": [
    "Text=\"Python Exercises,  PHP exercise.\"\n",
    "pattern='\\s|\\,|\\.'\n",
    "output=re.sub(pattern,\":\",Text)\n"
   ]
  },
  {
   "cell_type": "code",
   "execution_count": 277,
   "id": "64a5bdae",
   "metadata": {},
   "outputs": [
    {
     "name": "stdout",
     "output_type": "stream",
     "text": [
      "Python:Exercises:::PHP:exercise:\n"
     ]
    }
   ],
   "source": [
    "print(output)\n"
   ]
  },
  {
   "cell_type": "markdown",
   "id": "9f659abc",
   "metadata": {},
   "source": [
    "Question 2-Create a dataframe using the dictionary below and remove everything (commas (,), !, XXXX, ;, etc.) from the columns except words. Dictionary-{'SUMMARY' : ['hello, world!', 'XXXXX test', '123four, five:; six...']} \n",
    "Expected output- 0 hello world 1 test 2 four five six"
   ]
  },
  {
   "cell_type": "code",
   "execution_count": 278,
   "id": "46824b2d",
   "metadata": {},
   "outputs": [],
   "source": [
    "import pandas as pd"
   ]
  },
  {
   "cell_type": "code",
   "execution_count": 279,
   "id": "781eed24",
   "metadata": {},
   "outputs": [],
   "source": [
    "Dictionary={'SUMMARY' : ['hello, world!', 'XXXXX test', '123four, five:; six...']}\n",
    "df=pd.DataFrame(Dictionary)"
   ]
  },
  {
   "cell_type": "code",
   "execution_count": 281,
   "id": "0766d57e",
   "metadata": {},
   "outputs": [],
   "source": [
    "df1=df['SUMMARY'].str.replace('[^a-z\\s]','',regex=True)"
   ]
  },
  {
   "cell_type": "code",
   "execution_count": 282,
   "id": "0ac7948a",
   "metadata": {},
   "outputs": [
    {
     "name": "stdout",
     "output_type": "stream",
     "text": [
      "0      hello world\n",
      "1             test\n",
      "2    four five six\n",
      "Name: SUMMARY, dtype: object\n"
     ]
    }
   ],
   "source": [
    "print(df1)"
   ]
  },
  {
   "cell_type": "markdown",
   "id": "6ce8c2fb",
   "metadata": {},
   "source": [
    "Question 3- Create a function inpython to find all words that are at least 4 characters long in a string.¶\n",
    "The use of the re.compile() method is mandatory."
   ]
  },
  {
   "cell_type": "code",
   "execution_count": 285,
   "id": "1a712ebb",
   "metadata": {},
   "outputs": [],
   "source": [
    "Text=\"APJk Abdul Kalam was an indian aerospace scientist also known as the Missile Man of India\"\n",
    "compile_pattern=r\"\\b\\w{4,}\"\n",
    "text_pattern=re.compile(compile_pattern)\n",
    "result1=text_pattern.findall(Text)\n"
   ]
  },
  {
   "cell_type": "code",
   "execution_count": 287,
   "id": "aaf968fc",
   "metadata": {},
   "outputs": [
    {
     "name": "stdout",
     "output_type": "stream",
     "text": [
      "['APJk', 'Abdul', 'Kalam', 'indian', 'aerospace', 'scientist', 'also', 'known', 'Missile', 'India']\n"
     ]
    }
   ],
   "source": [
    "print(result1)\n"
   ]
  },
  {
   "cell_type": "code",
   "execution_count": 288,
   "id": "555b673c",
   "metadata": {},
   "outputs": [],
   "source": [
    "def func(textz):\n",
    "    pattern=r\"\\b\\w{4,}\"\n",
    "    text_pattern=re.compile(pattern)\n",
    "    result2=text_pattern.findall(textz)\n",
    "    if result2:\n",
    "        print(result2)\n",
    "    else:\n",
    "        print(\"no result\")\n",
    "        "
   ]
  },
  {
   "cell_type": "code",
   "execution_count": 289,
   "id": "e202c34d",
   "metadata": {},
   "outputs": [
    {
     "name": "stdout",
     "output_type": "stream",
     "text": [
      "['APJk', 'Abdul', 'Kalam', 'indian', 'aerospace', 'scientist', 'also', 'known', 'Missile', 'India']\n"
     ]
    }
   ],
   "source": [
    "func(\"APJk Abdul Kalam was an indian aerospace scientist also known as the Missile Man of India\")"
   ]
  },
  {
   "cell_type": "markdown",
   "id": "c74c2f51",
   "metadata": {},
   "source": [
    "Question 4-Create a function in python to find all three, four, and five character words in a string.¶\n",
    "The use of the re.compile() method is mandatory."
   ]
  },
  {
   "cell_type": "code",
   "execution_count": 296,
   "id": "bff7b806",
   "metadata": {},
   "outputs": [],
   "source": [
    "pattern=r'\\b\\w{3,5}\\b'\n",
    "compile_pattern=re.compile(pattern)\n",
    "Text=\"APJk Abdul Kalam was an indian aerospace scientist also known as the Missile Man of India\"\n",
    "match=compile_pattern.findall(Text)"
   ]
  },
  {
   "cell_type": "code",
   "execution_count": 297,
   "id": "6b397bcf",
   "metadata": {},
   "outputs": [
    {
     "name": "stdout",
     "output_type": "stream",
     "text": [
      "['APJk', 'Abdul', 'Kalam', 'was', 'also', 'known', 'the', 'Man', 'India']\n"
     ]
    }
   ],
   "source": [
    "print(match)"
   ]
  },
  {
   "cell_type": "code",
   "execution_count": 299,
   "id": "b0d89210",
   "metadata": {},
   "outputs": [],
   "source": [
    "def funct(test):\n",
    "    patternt=re.compile(r'\\b\\w{3,5}\\b')\n",
    "    result3=patternt.findall(test)\n",
    "    if result3:\n",
    "        print(result3)\n",
    "    else:\n",
    "        print(\"not matched\")"
   ]
  },
  {
   "cell_type": "code",
   "execution_count": 300,
   "id": "aafd4c5e",
   "metadata": {},
   "outputs": [
    {
     "name": "stdout",
     "output_type": "stream",
     "text": [
      "['APJk', 'Abdul', 'Kalam', 'was', 'also', 'known', 'the', 'Man', 'India']\n"
     ]
    }
   ],
   "source": [
    "funct(\"APJk Abdul Kalam was an indian aerospace scientist also known as the Missile Man of India\")"
   ]
  },
  {
   "cell_type": "markdown",
   "id": "a0acc5f9",
   "metadata": {},
   "source": [
    "Question 5- Create a function in Python to remove the parenthesis in a list of strings.¶\n",
    "The use of the re.compile() method is mandatory."
   ]
  },
  {
   "cell_type": "code",
   "execution_count": 301,
   "id": "7d5c4751",
   "metadata": {},
   "outputs": [],
   "source": [
    "text=[\"My name is Kulesh kumar (roy)\"]\n",
    "for k in text:\n",
    "    pattern=r'[()]'\n",
    "    pat_cop=re.compile(pattern)\n",
    "    result=pat_cop.sub(\"\",k)"
   ]
  },
  {
   "cell_type": "code",
   "execution_count": 302,
   "id": "f1374fda",
   "metadata": {},
   "outputs": [
    {
     "name": "stdout",
     "output_type": "stream",
     "text": [
      "My name is Kulesh kumar roy\n"
     ]
    }
   ],
   "source": [
    "print(result)\n",
    "\n"
   ]
  },
  {
   "cell_type": "code",
   "execution_count": 330,
   "id": "6e4e8646",
   "metadata": {},
   "outputs": [],
   "source": [
    "def functi(list=[]):\n",
    "    for k in []:\n",
    "        patterns=re.compile(r'[()]')\n",
    "        result5=patterns.sub(\"\",list)\n",
    "        if result5:\n",
    "            print(result5)\n",
    "        else:\n",
    "            print(\"not found\")"
   ]
  },
  {
   "cell_type": "code",
   "execution_count": 334,
   "id": "22e5dff3",
   "metadata": {},
   "outputs": [],
   "source": [
    "functi([\"My name is Kulesh kumar (roy)\"])"
   ]
  },
  {
   "cell_type": "markdown",
   "id": "d65a45af",
   "metadata": {},
   "source": [
    "Question 6- Write a python program to remove the parenthesis area from the text stored in the text file using Regular Expression.¶\n",
    "Sample Text:[\"example (.com)\", \"hr@fliprobo (.com)\", \"github (.com)\", \"Hello (Data Science World)\", \"Data (Scientist)\"]"
   ]
  },
  {
   "cell_type": "code",
   "execution_count": 340,
   "id": "9702168c",
   "metadata": {},
   "outputs": [],
   "source": [
    "text={\"Name\":[\"example (.com)\", \"hr@fliprobo (.com)\", \"github (.com)\", \"Hello (Data Science World)\", \"Data (Scientist)\"]}\n",
    "df=pd.DataFrame(text)\n",
    "df1=df[\"Name\"].str.replace(r\"[()]\",\"\",regex=True)\n"
   ]
  },
  {
   "cell_type": "code",
   "execution_count": 341,
   "id": "b3ce9479",
   "metadata": {},
   "outputs": [
    {
     "name": "stdout",
     "output_type": "stream",
     "text": [
      "0                example .com\n",
      "1            hr@fliprobo .com\n",
      "2                 github .com\n",
      "3    Hello Data Science World\n",
      "4              Data Scientist\n",
      "Name: Name, dtype: object\n"
     ]
    }
   ],
   "source": [
    "print(df1)"
   ]
  },
  {
   "cell_type": "markdown",
   "id": "c8c52f7f",
   "metadata": {},
   "source": [
    "Question 7-Write a regular expression in Python to split a string into uppercase letters.¶\n",
    "Sample text: “ImportanceOfRegularExpressionsInPython” Expected Output:[‘Importance’, ‘Of’, ‘Regular’, ‘Expression’, ‘In’, ‘Python’]"
   ]
  },
  {
   "cell_type": "code",
   "execution_count": 342,
   "id": "d9be99ee",
   "metadata": {},
   "outputs": [],
   "source": [
    "text=\"ImportancOfRegularExpressionInPython\"\n",
    "result=re.findall(\"[A-Z][a-z]*\",text)"
   ]
  },
  {
   "cell_type": "code",
   "execution_count": 343,
   "id": "ec2807b9",
   "metadata": {},
   "outputs": [
    {
     "name": "stdout",
     "output_type": "stream",
     "text": [
      "['Importanc', 'Of', 'Regular', 'Expression', 'In', 'Python']\n"
     ]
    }
   ],
   "source": [
    "print(result)"
   ]
  },
  {
   "cell_type": "markdown",
   "id": "a4b31ba5",
   "metadata": {},
   "source": [
    "Question 8- Create a function in python to insert spaces between words starting with numbers.¶\n",
    "Sample Text: “RegularExpression1IsAn2ImportantTopic3InPython\" Expected Output: RegularExpression 1IsAn 2ImportantTopic 3InPython"
   ]
  },
  {
   "cell_type": "code",
   "execution_count": 365,
   "id": "6e821c57",
   "metadata": {},
   "outputs": [],
   "source": [
    "Text=\"RegularExpression1IsAn2ImportantTopic3InPython\"\n",
    "result=re.sub(r'([A-Za-z]+)(\\d+)',r'\\1 \\2',Text)  "
   ]
  },
  {
   "cell_type": "code",
   "execution_count": 366,
   "id": "e7f2393e",
   "metadata": {},
   "outputs": [
    {
     "name": "stdout",
     "output_type": "stream",
     "text": [
      "RegularExpression 1IsAn 2ImportantTopic 3InPython\n"
     ]
    }
   ],
   "source": [
    "print(result)"
   ]
  },
  {
   "cell_type": "markdown",
   "id": "6a8f4a84",
   "metadata": {},
   "source": [
    "Question 9- Create a function in python to insert spaces between words starting with capital letters or with numbers.¶\n",
    "Sample Text: “RegularExpression1IsAn2ImportantTopic3InPython\" Expected Output:RegularExpression 1 IsAn 2 ImportantTopic 3 InPython"
   ]
  },
  {
   "cell_type": "code",
   "execution_count": 377,
   "id": "afdd9808",
   "metadata": {},
   "outputs": [],
   "source": [
    "Text=\"RegularExpression1IsAn2ImportantTopic3InPython\"\n",
    "result=re.sub(r'([A-Za-z]+)([0-9])([A-Za-z])',r'\\1 \\2 \\3',Text)"
   ]
  },
  {
   "cell_type": "code",
   "execution_count": 378,
   "id": "fe8b7a28",
   "metadata": {},
   "outputs": [
    {
     "name": "stdout",
     "output_type": "stream",
     "text": [
      "RegularExpression 1 IsAn 2 ImportantTopic 3 InPython\n"
     ]
    }
   ],
   "source": [
    "print(result)\n"
   ]
  },
  {
   "cell_type": "markdown",
   "id": "aa1c8e03",
   "metadata": {},
   "source": [
    "11Write a Python program to match a string that contains only upper and lowercase letters, numbers, and underscores."
   ]
  },
  {
   "cell_type": "code",
   "execution_count": 418,
   "id": "6ec86c65",
   "metadata": {},
   "outputs": [],
   "source": [
    "def match_string(text):\n",
    "    pattern=r'\\b[A-Za-z0-9_]+'\n",
    "    result=re.findall(pattern,text)\n",
    "    if result:\n",
    "        print(result)\n",
    "    else:\n",
    "        print(\"not matched\")\n",
    "        "
   ]
  },
  {
   "cell_type": "code",
   "execution_count": 419,
   "id": "34c1194c",
   "metadata": {},
   "outputs": [
    {
     "name": "stdout",
     "output_type": "stream",
     "text": [
      "['I', 'am', '2023_', 'here', 'you']\n"
     ]
    }
   ],
   "source": [
    "match_string('I am 2023_@#$ here you')\n"
   ]
  },
  {
   "cell_type": "markdown",
   "id": "22b21743",
   "metadata": {},
   "source": [
    "Question 12- Write a Python program where a string will start with a specific number."
   ]
  },
  {
   "cell_type": "code",
   "execution_count": 441,
   "id": "95ca459d",
   "metadata": {},
   "outputs": [],
   "source": [
    "def str(text):\n",
    "    pattern=r'\\b\\d+'\n",
    "    result==re.search(pattern,text)\n",
    "    if result:\n",
    "        print(result)\n",
    "    else:\n",
    "        print(\"not matched\")\n",
    "        "
   ]
  },
  {
   "cell_type": "markdown",
   "id": "00cfb6be",
   "metadata": {},
   "source": [
    "Question 13- Write a Python program to remove leading zeros from an IP address.\n"
   ]
  },
  {
   "cell_type": "code",
   "execution_count": 453,
   "id": "72769081",
   "metadata": {},
   "outputs": [],
   "source": [
    "def my_ip(ip):\n",
    "    new_ip=re.sub(r'[0]',\"\",ip)\n",
    "    print(\"my-new-ip\",new_ip)\n",
    "    "
   ]
  },
  {
   "cell_type": "code",
   "execution_count": 460,
   "id": "9b3ac178",
   "metadata": {},
   "outputs": [
    {
     "name": "stdout",
     "output_type": "stream",
     "text": [
      "my-new-ip 4787589757\n"
     ]
    }
   ],
   "source": [
    "my_ip(\"0004787589757\")\n",
    "\n"
   ]
  },
  {
   "cell_type": "markdown",
   "id": "ebafb8a3",
   "metadata": {},
   "source": [
    "14Write a regular expression in python to match a date string in the form of Month name followed by day number and year stored in a text file. Sample text : 'On August 15th 1947 that India was declared independent from British colonialism, and the reins of control were handed over to the leaders of the Country’. Expected Output-August 15th 1947 Note- Store given sample text in the text file and then extract the date string asked format."
   ]
  },
  {
   "cell_type": "code",
   "execution_count": 493,
   "id": "20c0843e",
   "metadata": {},
   "outputs": [],
   "source": [
    "text=\"On August 15th 1947 that India was declared independent from British colonialism\"\n",
    "result=re.findall(r\"\\b[A-Z][a-z]+\",text)"
   ]
  },
  {
   "cell_type": "code",
   "execution_count": 494,
   "id": "9b58d4da",
   "metadata": {},
   "outputs": [
    {
     "name": "stdout",
     "output_type": "stream",
     "text": [
      "['On', 'August', 'India', 'British']\n"
     ]
    }
   ],
   "source": [
    "print(result)\n"
   ]
  },
  {
   "cell_type": "markdown",
   "id": "a6e1fb0f",
   "metadata": {},
   "source": [
    "Question 15- Write a Python program to search some literals strings in a string. Sample text : 'The quick brown fox jumps over the lazy dog.' Searched words : 'fox', 'dog', 'horse'"
   ]
  },
  {
   "cell_type": "code",
   "execution_count": 502,
   "id": "58b5ff10",
   "metadata": {},
   "outputs": [],
   "source": [
    "def string(text):\n",
    "    pattern=('fox|dog|horse')\n",
    "    result2=re.search(pattern,text)\n",
    "    if result2:\n",
    "        print(\"it's a match\",result2)\n",
    "    else:\n",
    "        print(\"not matched\")"
   ]
  },
  {
   "cell_type": "code",
   "execution_count": 503,
   "id": "09815496",
   "metadata": {},
   "outputs": [
    {
     "name": "stdout",
     "output_type": "stream",
     "text": [
      "it's a match <re.Match object; span=(16, 19), match='fox'>\n"
     ]
    }
   ],
   "source": [
    "string(\"The quick brown fox jumps over the lazy dog.\")\n"
   ]
  },
  {
   "cell_type": "code",
   "execution_count": null,
   "id": "70952499",
   "metadata": {},
   "outputs": [],
   "source": []
  },
  {
   "cell_type": "markdown",
   "id": "5e731aa0",
   "metadata": {},
   "source": [
    "Question 16- Write a Python program to search a literals string in a string and also find the location within the original string where the pattern occurs Sample text : 'The quick brown fox jumps over the lazy dog.' Searched words : 'fox'"
   ]
  },
  {
   "cell_type": "code",
   "execution_count": 14,
   "id": "beaef942",
   "metadata": {},
   "outputs": [],
   "source": [
    "def match(text):\n",
    "    pattern=(r'fox')\n",
    "    result=re.search(pattern,text)\n",
    "    if result:\n",
    "        print(result)\n",
    "    else:\n",
    "        print(\"Not matched\")"
   ]
  },
  {
   "cell_type": "code",
   "execution_count": 17,
   "id": "33ba06c7",
   "metadata": {},
   "outputs": [
    {
     "name": "stdout",
     "output_type": "stream",
     "text": [
      "<re.Match object; span=(16, 19), match='fox'>\n"
     ]
    }
   ],
   "source": [
    "match('The quick brown fox jumps over the lazy dog')"
   ]
  },
  {
   "cell_type": "markdown",
   "id": "ab87e329",
   "metadata": {},
   "source": [
    "Question 17- Write a Python program to find the substrings within a string.\n",
    "Sample text : 'Python exercises, PHP exercises, C# exercises'\n",
    "Pattern : 'exercises'.\n"
   ]
  },
  {
   "cell_type": "code",
   "execution_count": 18,
   "id": "6c279678",
   "metadata": {},
   "outputs": [],
   "source": [
    "def substring(text):\n",
    "    pattern=(r'exercises')\n",
    "    result=re.search(pattern,text)\n",
    "    if result:\n",
    "        print(result)\n",
    "    else:\n",
    "        print(not matched)"
   ]
  },
  {
   "cell_type": "code",
   "execution_count": 19,
   "id": "80cc8b59",
   "metadata": {},
   "outputs": [
    {
     "name": "stdout",
     "output_type": "stream",
     "text": [
      "<re.Match object; span=(7, 16), match='exercises'>\n"
     ]
    }
   ],
   "source": [
    "substring('Python exercises, PHP exercises, C# exercises')"
   ]
  },
  {
   "cell_type": "code",
   "execution_count": 27,
   "id": "6081609e",
   "metadata": {},
   "outputs": [
    {
     "name": "stdout",
     "output_type": "stream",
     "text": [
      "enter text'Python exercises, PHP exercises, C# exercises'\n",
      "enter pattern  (r'exercises')\n",
      "None\n"
     ]
    }
   ],
   "source": [
    "text=str(input(\"enter text\"))\n",
    "pattern=str(input(\"enter pattern  \"))\n",
    "result=re.search(pattern,text)\n",
    "print(result)\n"
   ]
  },
  {
   "cell_type": "markdown",
   "id": "c89150ec",
   "metadata": {},
   "source": [
    "# Question 19- Write a Python program to convert a date of yyyy-mm-dd format to dd-mm-yyyy format."
   ]
  },
  {
   "cell_type": "code",
   "execution_count": 28,
   "id": "ba6137d9",
   "metadata": {},
   "outputs": [
    {
     "name": "stdout",
     "output_type": "stream",
     "text": [
      "Original date in YYY-MM-DD Format:  2026-01-02\n",
      "New date in DD-MM-YYYY Format:  02-01-2026\n"
     ]
    }
   ],
   "source": [
    "import re\n",
    "def change_date_format(dt):\n",
    "        return re.sub(r'(\\d{4})-(\\d{1,2})-(\\d{1,2})', '\\\\3-\\\\2-\\\\1', dt)\n",
    "dt1 = \"2026-01-02\"\n",
    "print(\"Original date in YYY-MM-DD Format: \",dt1)\n",
    "print(\"New date in DD-MM-YYYY Format: \",change_date_format(dt1))"
   ]
  },
  {
   "cell_type": "code",
   "execution_count": null,
   "id": "941aefbe",
   "metadata": {},
   "outputs": [],
   "source": [
    "change_date_format(\"2024-02-04\")"
   ]
  },
  {
   "cell_type": "code",
   "execution_count": 51,
   "id": "c72054af",
   "metadata": {},
   "outputs": [
    {
     "name": "stdout",
     "output_type": "stream",
     "text": [
      "enter date 2025-09-08\n",
      "08-09-2025\n"
     ]
    }
   ],
   "source": [
    "date=str(input(\"enter date \"))\n",
    "patterns=(r'(\\d{4})-(\\d{1,2})-(\\d{1,2})')\n",
    "result=re.sub(patterns,'\\\\3-\\\\2-\\\\1',date)\n",
    "if result:\n",
    "    print(result)\n",
    "    \n",
    "else:\n",
    "    print(\"no result\")\n"
   ]
  },
  {
   "cell_type": "code",
   "execution_count": 49,
   "id": "4af2feb9",
   "metadata": {},
   "outputs": [
    {
     "name": "stdout",
     "output_type": "stream",
     "text": [
      "06-04-2024\n"
     ]
    }
   ],
   "source": [
    "text=\"2024-04-06\"\n",
    "pattern=(r'(\\d{4})-(\\d{1,2})-(\\d{1,2})')\n",
    "result=re.sub(pattern,'\\\\3-\\\\2-\\\\1',text)\n",
    "if result:\n",
    "    print(result)\n",
    "    \n",
    "else:\n",
    "    print(\"no result\")"
   ]
  },
  {
   "cell_type": "code",
   "execution_count": 52,
   "id": "ae6b7bf3",
   "metadata": {},
   "outputs": [
    {
     "name": "stdout",
     "output_type": "stream",
     "text": [
      "08-09-2025\n"
     ]
    }
   ],
   "source": [
    "print(result)\n"
   ]
  },
  {
   "cell_type": "markdown",
   "id": "c224a9c6",
   "metadata": {},
   "source": [
    "Question 20- Create a function in python to find all decimal numbers with a precision of 1 or 2 in a string.The use of the re.compile() method is mandatory.\n",
    "Sample Text:\"01.12 0132.123 2.31875 145.8 3.01 27.25 0.25\"\n",
    "Expected Output:['01.12', '145.8', '3.01', '27.25', '0.25']\n"
   ]
  },
  {
   "cell_type": "code",
   "execution_count": 97,
   "id": "5088855a",
   "metadata": {},
   "outputs": [],
   "source": [
    "Sample_Text = \"01.12 0132.123 2.31875 145.8 3.01 27.25 0.25\"\n",
    "pattern=re.compile(r'\\d+\\.\\d{1,2}\\b')\n",
    "result=pattern.findall(Sample_Text)\n",
    "\n"
   ]
  },
  {
   "cell_type": "code",
   "execution_count": 98,
   "id": "2b89feee",
   "metadata": {},
   "outputs": [
    {
     "name": "stdout",
     "output_type": "stream",
     "text": [
      "['01.12', '145.8', '3.01', '27.25', '0.25']\n"
     ]
    }
   ],
   "source": [
    "print(result)"
   ]
  },
  {
   "cell_type": "markdown",
   "id": "52894124",
   "metadata": {},
   "source": [
    "Question 21- Write a Python program to separate and print the numbers and their position of a given string."
   ]
  },
  {
   "cell_type": "code",
   "execution_count": 6,
   "id": "e45e8492",
   "metadata": {},
   "outputs": [
    {
     "name": "stdout",
     "output_type": "stream",
     "text": [
      "enter a stringjhkh\n",
      "no result\n"
     ]
    }
   ],
   "source": [
    "text=str(input(\"enter a string\"))\n",
    "pattern=(r'\\d+\\d')\n",
    "for t in text:\n",
    "    result=re.search(pattern,text)\n",
    "if result:\n",
    "    print(result)\n",
    "else:\n",
    "    print(\"no result\")"
   ]
  },
  {
   "cell_type": "markdown",
   "id": "434a9e00",
   "metadata": {},
   "source": [
    "Question 22- Write a regular expression in python program to extract maximum/largest numeric value from a string.\n",
    "Sample Text: 'My marks in each semester are: 947, 896, 926, 524, 734, 950, 642'\n",
    "Expected Output: 950\n"
   ]
  },
  {
   "cell_type": "code",
   "execution_count": 9,
   "id": "cca7621d",
   "metadata": {},
   "outputs": [],
   "source": [
    "text=\"947, 896, 926, 524, 734, 950, 642\"\n",
    "pattern=r'\\d[0-9]+'\n",
    "result=max(re.findall(pattern,text))\n"
   ]
  },
  {
   "cell_type": "code",
   "execution_count": 11,
   "id": "2536f01b",
   "metadata": {},
   "outputs": [
    {
     "name": "stdout",
     "output_type": "stream",
     "text": [
      "950\n"
     ]
    }
   ],
   "source": [
    "print(result)\n"
   ]
  },
  {
   "cell_type": "markdown",
   "id": "415a0e86",
   "metadata": {},
   "source": [
    "Question 23- Create a function in python to insert spaces between words starting with capital letters.\n",
    "Sample Text: “RegularExpressionIsAnImportantTopicInPython\"\n",
    "Expected Output:Regular Expression Is An Important Topic In Python\n"
   ]
  },
  {
   "cell_type": "code",
   "execution_count": 67,
   "id": "fcfb1cd2",
   "metadata": {},
   "outputs": [],
   "source": [
    "text=\"RegularExpressionIsAnImportantTopicInPython\"\n",
    "pattern=r'([A-Z][a-z]+)'\n",
    "result=re.sub(pattern,r' \\1',text)\n",
    "              \n"
   ]
  },
  {
   "cell_type": "code",
   "execution_count": 68,
   "id": "0843f552",
   "metadata": {},
   "outputs": [
    {
     "name": "stdout",
     "output_type": "stream",
     "text": [
      " Regular Expression Is An Important Topic In Python\n"
     ]
    }
   ],
   "source": [
    "print(result)"
   ]
  },
  {
   "cell_type": "code",
   "execution_count": 71,
   "id": "6041f39d",
   "metadata": {},
   "outputs": [
    {
     "name": "stdout",
     "output_type": "stream",
     "text": [
      " Regular Expression Is An Important Topic In Python\n"
     ]
    }
   ],
   "source": [
    "def function(text):\n",
    "    pattern=r'([A-Z][a-z]+)'\n",
    "    result=re.sub(pattern,r' \\1',text)\n",
    "if result:\n",
    "                  print(result)\n",
    "                  \n",
    "else:\n",
    "                  print(\"no matched\")"
   ]
  },
  {
   "cell_type": "markdown",
   "id": "97129043",
   "metadata": {},
   "source": [
    "Question 24-Python regex to find sequences of one upper case letter followed by lower case letters"
   ]
  },
  {
   "cell_type": "code",
   "execution_count": 77,
   "id": "0b731cf4",
   "metadata": {},
   "outputs": [],
   "source": [
    "text=\"AbCdEf\"\n",
    "pattern=r'[A-Z]+[a-z]'\n",
    "result=re.search(pattern,text)"
   ]
  },
  {
   "cell_type": "code",
   "execution_count": 79,
   "id": "b9a47227",
   "metadata": {},
   "outputs": [
    {
     "name": "stdout",
     "output_type": "stream",
     "text": [
      "<re.Match object; span=(0, 2), match='Ab'>\n"
     ]
    }
   ],
   "source": [
    "print(result)"
   ]
  },
  {
   "cell_type": "markdown",
   "id": "d7037b49",
   "metadata": {},
   "source": [
    "Question 25-Write a Python program to remove continuous duplicate words from Sentence using Regular Expression.\n",
    "Sample Text:\"Hello hello world world\"\n",
    "Expected Output: Hello hello world\n"
   ]
  },
  {
   "cell_type": "code",
   "execution_count": 119,
   "id": "0fc70f1a",
   "metadata": {},
   "outputs": [],
   "source": [
    "Sample=\"Hello hello world world\"\n",
    "pattern=r'(\\w+)(\\s+\\1)+'\n",
    "result=re.sub(pattern,r'\\1',Sample)"
   ]
  },
  {
   "cell_type": "code",
   "execution_count": 120,
   "id": "77610164",
   "metadata": {},
   "outputs": [
    {
     "name": "stdout",
     "output_type": "stream",
     "text": [
      "Hello hello world\n"
     ]
    }
   ],
   "source": [
    "print(result)\n"
   ]
  },
  {
   "cell_type": "code",
   "execution_count": 125,
   "id": "39db7804",
   "metadata": {},
   "outputs": [
    {
     "name": "stdout",
     "output_type": "stream",
     "text": [
      "Enter text\"Hello hello world world\"\n",
      "\"Hello hello world\"\n"
     ]
    }
   ],
   "source": [
    "text=str(input(\"Enter text\"))\n",
    "pattern=r'\\b(\\w+)(\\s+\\1)+'\n",
    "result1=re.sub(pattern,r'\\1',text)\n",
    "print(result1)\n",
    "               "
   ]
  },
  {
   "cell_type": "markdown",
   "id": "76b4ef7d",
   "metadata": {},
   "source": [
    "Question 26- Write a python program using RegEx to accept string ending with alphanumeric character.\n",
    "\n"
   ]
  },
  {
   "cell_type": "code",
   "execution_count": 127,
   "id": "b77b6d0d",
   "metadata": {},
   "outputs": [],
   "source": [
    "def regex(string):\n",
    "    pattern=r'[A-Za-z0-9]+$'\n",
    "    final_result=re.search(pattern,string)\n",
    "    if final_result:\n",
    "        print(\"accept\",final_result)\n",
    "    else:\n",
    "        print(\"not accept\")"
   ]
  },
  {
   "cell_type": "code",
   "execution_count": 129,
   "id": "09ac98de",
   "metadata": {},
   "outputs": [
    {
     "name": "stdout",
     "output_type": "stream",
     "text": [
      "accept <re.Match object; span=(11, 18), match='khan123'>\n"
     ]
    }
   ],
   "source": [
    "regex(\"my name is khan123\")"
   ]
  },
  {
   "cell_type": "markdown",
   "id": "c135e82d",
   "metadata": {},
   "source": [
    "Question 27-Write a python program using RegEx to extract the hashtags.\n",
    "Sample Text: \"\"\"RT @kapil_kausik: #Doltiwal I mean #xyzabc is \"hurt\" by #Demonetization as the same has rendered USELESS <ed><U+00A0><U+00BD><ed><U+00B1><U+0089> \"acquired funds\" No wo\"\"\"\n",
    "Expected Output:['#Doltiwal', '#xyzabc', '#Demonetization']\n"
   ]
  },
  {
   "cell_type": "code",
   "execution_count": 156,
   "id": "8b66e65d",
   "metadata": {},
   "outputs": [],
   "source": [
    "text_str= \"\"\"RT @kapil_kausik: #Doltiwal I mean #xyzabc is \"hurt\" by #Demonetization \n",
    "                  as the same has rendered USELESS <U+00A0><U+00BD><U+00B1><U+0089> \"acquired funds\" No wo\"\"\" \n",
    "pattern=r'#\\w+'\n",
    "result_str=re.findall(pattern,text_str)"
   ]
  },
  {
   "cell_type": "code",
   "execution_count": 157,
   "id": "f30a43ef",
   "metadata": {},
   "outputs": [
    {
     "name": "stdout",
     "output_type": "stream",
     "text": [
      "['#Doltiwal', '#xyzabc', '#Demonetization']\n"
     ]
    }
   ],
   "source": [
    "print(result_str)"
   ]
  },
  {
   "cell_type": "code",
   "execution_count": 166,
   "id": "1b7d6a01",
   "metadata": {},
   "outputs": [],
   "source": [
    "def hash(str):\n",
    "    pattern=r'#\\w+'\n",
    "    result_string=re.findall(pattern,str)\n",
    "    if result_string:\n",
    "        print(\"matched\",result_string)\n",
    "    else:\n",
    "        print(\"not matched\")"
   ]
  },
  {
   "cell_type": "code",
   "execution_count": 167,
   "id": "49539a6b",
   "metadata": {},
   "outputs": [
    {
     "name": "stdout",
     "output_type": "stream",
     "text": [
      "matched ['#Doltiwal', '#xyzabc', '#Demonetization']\n"
     ]
    }
   ],
   "source": [
    "hash(\"\"\"RT @kapil_kausik: #Doltiwal I mean #xyzabc is \"hurt\" by #Demonetization \n",
    "                  as the same has rendered USELESS <U+00A0><U+00BD><U+00B1><U+0089> \"acquired funds\" No wo\"\"\" )"
   ]
  },
  {
   "cell_type": "markdown",
   "id": "82c530fd",
   "metadata": {},
   "source": [
    "Question 28- Write a python program using RegEx to remove <U+..> like symbols\n",
    "Check the below sample text, there are strange symbols something of the sort <U+..> all over the place. You need to come up with a general Regex expression that will cover all such symbols.\n",
    "Sample Text: \"@Jags123456 Bharat band on 28??<ed><U+00A0><U+00BD><ed><U+00B8><U+0082>Those who  are protesting #demonetization  are all different party leaders\"\n",
    "Expected Output:@Jags123456 Bharat band on 28??<ed><ed>Those who  are protesting #demonetization  are all different party leaders\n"
   ]
  },
  {
   "cell_type": "code",
   "execution_count": 220,
   "id": "cea395a4",
   "metadata": {},
   "outputs": [],
   "source": [
    "text_r=\"@Jags123456 Bharat band on 28??<ed><U+00A0><U+00BD><ed><U+00B8><U+0082>Those who  are protesting #demonetization  are all different party leaders\"\n",
    "pattern=r'<U\\+[A-Za-z0-9]+>'\n",
    "result=re.sub(pattern,\"\",text_r)"
   ]
  },
  {
   "cell_type": "code",
   "execution_count": 222,
   "id": "be99dd8c",
   "metadata": {},
   "outputs": [
    {
     "name": "stdout",
     "output_type": "stream",
     "text": [
      "@Jags123456 Bharat band on 28??<ed><ed>Those who  are protesting #demonetization  are all different party leaders\n"
     ]
    }
   ],
   "source": [
    "print(result)"
   ]
  },
  {
   "cell_type": "code",
   "execution_count": 223,
   "id": "7c6ac993",
   "metadata": {},
   "outputs": [],
   "source": [
    "def U(plus):\n",
    "    pattern=r'<U\\+[A-Za-z0-9]+>'\n",
    "    result2=re.sub(pattern,\"\",plus)\n",
    "    if result2:\n",
    "        print(\"matched\",result2)\n",
    "    else:\n",
    "        print(\"not matched\")"
   ]
  },
  {
   "cell_type": "code",
   "execution_count": 225,
   "id": "a1b7b7bd",
   "metadata": {},
   "outputs": [
    {
     "name": "stdout",
     "output_type": "stream",
     "text": [
      "matched @Jags123456 Bharat band on 28??<ed><ed>Those who  are protesting #demonetization  are all different party leaders\n"
     ]
    }
   ],
   "source": [
    "U(\"@Jags123456 Bharat band on 28??<ed><U+00A0><U+00BD><ed><U+00B8><U+0082>Those who  are protesting #demonetization  are all different party leaders\")"
   ]
  },
  {
   "cell_type": "markdown",
   "id": "6a95600b",
   "metadata": {},
   "source": [
    "Question 29- Write a python program to extract dates from the text stored in the text file.\n",
    "Sample Text:Ron was born on 12-09-1992 and he was admitted to school 15-12-1999.\n",
    "Note- Store this sample text in the file and then extract dates.\n"
   ]
  },
  {
   "cell_type": "code",
   "execution_count": 227,
   "id": "f226bb50",
   "metadata": {},
   "outputs": [],
   "source": [
    "text_st=\"Ron was born on 12-09-1992 and he was admitted to school 15-12-1999.\"\n",
    "pattern=r'\\d{1,2}\\-\\d{1,2}\\-\\d{4}'\n",
    "result_strings=re.findall(pattern,text_st)\n"
   ]
  },
  {
   "cell_type": "code",
   "execution_count": 229,
   "id": "327bf851",
   "metadata": {},
   "outputs": [
    {
     "name": "stdout",
     "output_type": "stream",
     "text": [
      "['12-09-1992', '15-12-1999']\n"
     ]
    }
   ],
   "source": [
    "print(result_strings)"
   ]
  },
  {
   "cell_type": "code",
   "execution_count": 234,
   "id": "97a604d8",
   "metadata": {},
   "outputs": [],
   "source": [
    "def date(extract):\n",
    "    pattern=r'\\d{1,2}\\-\\d{1,2}\\-\\d{4}'\n",
    "    result_extract=re.findall(pattern,extract)\n",
    "    if result_extract:\n",
    "        print(\"matched\",result_extract)\n",
    "    else:\n",
    "        print(\"not matched\")"
   ]
  },
  {
   "cell_type": "code",
   "execution_count": 236,
   "id": "0a6c0cc4",
   "metadata": {},
   "outputs": [
    {
     "name": "stdout",
     "output_type": "stream",
     "text": [
      "matched ['12-09-1992', '15-12-1999']\n"
     ]
    }
   ],
   "source": [
    "date(\"Ron was born on 12-09-1992 and he was admitted to school 15-12-1999.\")"
   ]
  },
  {
   "cell_type": "markdown",
   "id": "6e504e56",
   "metadata": {},
   "source": [
    "Question 30- Create a function inpython to remove all words from a string of length between 2 and 4.\n",
    "The use of the re.compile() method is mandatory.\n",
    "Sample Text:\"The following example creates an ArrayList with a capacity of 50 elements. 4 elements are then added to the ArrayList and the ArrayList is trimmed accordingly.\"\n",
    "Expected Output:following example creates ArrayList a capacity elements. 4 elements added ArrayList ArrayList trimmed accordingly.\n"
   ]
  },
  {
   "cell_type": "code",
   "execution_count": 270,
   "id": "19c78f77",
   "metadata": {},
   "outputs": [],
   "source": [
    "s_text=\"The following example creates an ArrayList with a capacity of 50 elements.4 elements are then added to the ArrayList and the ArrayList is trimmed accordingly.\"\n",
    "pattern=r'\\b\\w{2,4}\\b'\n",
    "result_text=re.sub(pattern,\"\",s_text)\n",
    "\n"
   ]
  },
  {
   "cell_type": "code",
   "execution_count": 272,
   "id": "d3da62d1",
   "metadata": {},
   "outputs": [
    {
     "name": "stdout",
     "output_type": "stream",
     "text": [
      " following example creates  ArrayList  a capacity   elements.4 elements   added   ArrayList   ArrayList  trimmed accordingly.\n"
     ]
    }
   ],
   "source": [
    "print(result_text)"
   ]
  },
  {
   "cell_type": "code",
   "execution_count": 274,
   "id": "7eeebe0b",
   "metadata": {},
   "outputs": [],
   "source": [
    "def fun(texts):\n",
    "    pattern=re.compile(r'\\b\\w{2,4}\\b')\n",
    "    result_stre=pattern.sub(\"\",texts)\n",
    "    if result_stre:\n",
    "        print(\"matched\",result_stre)\n",
    "    else:\n",
    "        print(\"not matched\")\n",
    "        \n",
    "    \n",
    "    "
   ]
  },
  {
   "cell_type": "code",
   "execution_count": 275,
   "id": "8831235b",
   "metadata": {},
   "outputs": [
    {
     "name": "stdout",
     "output_type": "stream",
     "text": [
      "matched  following example creates  ArrayList  a capacity   elements.4 elements   added   ArrayList   ArrayList  trimmed accordingly.\n"
     ]
    }
   ],
   "source": [
    "fun(\"The following example creates an ArrayList with a capacity of 50 elements.4 elements are then added to the ArrayList and the ArrayList is trimmed accordingly.\")"
   ]
  }
 ],
 "metadata": {
  "kernelspec": {
   "display_name": "Python 3 (ipykernel)",
   "language": "python",
   "name": "python3"
  },
  "language_info": {
   "codemirror_mode": {
    "name": "ipython",
    "version": 3
   },
   "file_extension": ".py",
   "mimetype": "text/x-python",
   "name": "python",
   "nbconvert_exporter": "python",
   "pygments_lexer": "ipython3",
   "version": "3.10.9"
  }
 },
 "nbformat": 4,
 "nbformat_minor": 5
}
