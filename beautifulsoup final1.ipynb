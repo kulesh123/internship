{
 "cells": [
  {
   "cell_type": "markdown",
   "id": "caf3af7b",
   "metadata": {},
   "source": [
    "7) Write a python program to scrape mentioned details from dineout.co.inand make data framei) Restaurant name\n",
    "ii) Cuisine\n",
    "iii) Location\n",
    "iv) Ratings\n",
    "v) Image URL"
   ]
  },
  {
   "cell_type": "code",
   "execution_count": 10,
   "id": "a5b2b040",
   "metadata": {},
   "outputs": [],
   "source": [
    "from bs4 import BeautifulSoup"
   ]
  },
  {
   "cell_type": "code",
   "execution_count": 11,
   "id": "0f0e4133",
   "metadata": {},
   "outputs": [],
   "source": [
    "import requests\n"
   ]
  },
  {
   "cell_type": "code",
   "execution_count": 12,
   "id": "ba3ae64d",
   "metadata": {},
   "outputs": [],
   "source": [
    "page3=requests.get(\"https://www.dineout.co.in/delhi-restaurants/buffet-special\")"
   ]
  },
  {
   "cell_type": "code",
   "execution_count": 13,
   "id": "5cb05cc0",
   "metadata": {},
   "outputs": [
    {
     "data": {
      "text/plain": [
       "<Response [200]>"
      ]
     },
     "execution_count": 13,
     "metadata": {},
     "output_type": "execute_result"
    }
   ],
   "source": [
    "page3"
   ]
  },
  {
   "cell_type": "code",
   "execution_count": 14,
   "id": "c4f89665",
   "metadata": {},
   "outputs": [],
   "source": [
    "soup3=BeautifulSoup(page3.content)"
   ]
  },
  {
   "cell_type": "code",
   "execution_count": null,
   "id": "2c9b2bf1",
   "metadata": {},
   "outputs": [],
   "source": []
  },
  {
   "cell_type": "code",
   "execution_count": 14,
   "id": "c97cb0bc",
   "metadata": {},
   "outputs": [],
   "source": [
    "title=[]\n",
    "for i in soup3.find_all('div',class_=\"restnt-info cursor\"):\n",
    "    title.append(i.text)"
   ]
  },
  {
   "cell_type": "code",
   "execution_count": 15,
   "id": "8630a635",
   "metadata": {},
   "outputs": [
    {
     "data": {
      "text/plain": [
       "['Castle BarbequeConnaught Place, Central Delhi',\n",
       " 'Cafe KnoshThe Leela Ambience Convention Hotel,Shahdara, East Delhi',\n",
       " 'India GrillHilton Garden Inn,Saket, South Delhi',\n",
       " 'The Barbeque CompanyGardens Galleria,Sector 38A, Noida',\n",
       " 'Delhi BarbequeTaurus Sarovar Portico,Mahipalpur, South Delhi',\n",
       " 'The Monarch - Bar Be Que VillageIndirapuram Habitat Centre,Indirapuram, Ghaziabad',\n",
       " 'The Barbeque TimesM2K Corporate Park,Sector 51, Gurgaon']"
      ]
     },
     "execution_count": 15,
     "metadata": {},
     "output_type": "execute_result"
    }
   ],
   "source": [
    "title"
   ]
  },
  {
   "cell_type": "code",
   "execution_count": 20,
   "id": "f6af3db6",
   "metadata": {},
   "outputs": [],
   "source": [
    "cuisines=[]\n",
    "for i in soup3.find_all('span', class_='double-line-ellipsis'):\n",
    "    cuisines.append(i.text)"
   ]
  },
  {
   "cell_type": "code",
   "execution_count": 21,
   "id": "1e96415a",
   "metadata": {},
   "outputs": [
    {
     "data": {
      "text/plain": [
       "['₹ 2,000 for 2 (approx) | Chinese, North Indian',\n",
       " '₹ 3,000 for 2 (approx) | Italian, Continental',\n",
       " '₹ 2,400 for 2 (approx) | North Indian, Italian',\n",
       " '₹ 1,700 for 2 (approx) | North Indian, Chinese',\n",
       " '₹ 1,800 for 2 (approx) | North Indian',\n",
       " '₹ 1,900 for 2 (approx) | North Indian',\n",
       " '₹ 1,500 for 2 (approx) | North Indian, Continental, Chinese, South Indian']"
      ]
     },
     "execution_count": 21,
     "metadata": {},
     "output_type": "execute_result"
    }
   ],
   "source": [
    "cuisines"
   ]
  },
  {
   "cell_type": "code",
   "execution_count": 22,
   "id": "1f54ced2",
   "metadata": {},
   "outputs": [],
   "source": [
    "loc=[]\n",
    "for i in soup3.find_all('div',class_=\"restnt-loc ellipsis\"):\n",
    "    loc.append(i.text)"
   ]
  },
  {
   "cell_type": "code",
   "execution_count": 23,
   "id": "5a8a4c23",
   "metadata": {},
   "outputs": [
    {
     "data": {
      "text/plain": [
       "['Connaught Place, Central Delhi',\n",
       " 'The Leela Ambience Convention Hotel,Shahdara, East Delhi',\n",
       " 'Hilton Garden Inn,Saket, South Delhi',\n",
       " 'Gardens Galleria,Sector 38A, Noida',\n",
       " 'Taurus Sarovar Portico,Mahipalpur, South Delhi',\n",
       " 'Indirapuram Habitat Centre,Indirapuram, Ghaziabad',\n",
       " 'M2K Corporate Park,Sector 51, Gurgaon']"
      ]
     },
     "execution_count": 23,
     "metadata": {},
     "output_type": "execute_result"
    }
   ],
   "source": [
    "loc"
   ]
  },
  {
   "cell_type": "code",
   "execution_count": 24,
   "id": "84403613",
   "metadata": {},
   "outputs": [],
   "source": [
    "rat=[]\n",
    "for i in soup3.find_all('div',class_=\"restnt-rating rating-4\"):\n",
    "    rat.append(i.text)"
   ]
  },
  {
   "cell_type": "code",
   "execution_count": 25,
   "id": "8c1100a2",
   "metadata": {},
   "outputs": [
    {
     "data": {
      "text/plain": [
       "['4', '4.3', '3.9', '3.9', '3.7', '3.8', '4.1']"
      ]
     },
     "execution_count": 25,
     "metadata": {},
     "output_type": "execute_result"
    }
   ],
   "source": [
    "rat"
   ]
  },
  {
   "cell_type": "code",
   "execution_count": 32,
   "id": "2df8ef8f",
   "metadata": {},
   "outputs": [],
   "source": [
    "imgurl=[]\n",
    "for i in soup3.find_all('img',class_=\"no-img\"):\n",
    "    imgurl.append(i['data-src'])"
   ]
  },
  {
   "cell_type": "code",
   "execution_count": 34,
   "id": "01ded03e",
   "metadata": {},
   "outputs": [
    {
     "data": {
      "text/plain": [
       "['https://im1.dineout.co.in/images/uploads/restaurant/sharpen/8/k/b/p86792-16062953735fbe1f4d3fb7e.jpg?tr=tr:n-medium',\n",
       " 'https://im1.dineout.co.in/images/uploads/restaurant/sharpen/4/p/m/p406-15438184745c04ccea491bc.jpg?tr=tr:n-medium',\n",
       " 'https://im1.dineout.co.in/images/uploads/restaurant/sharpen/2/q/t/p2687-169589385765154961ea87c.jpg?tr=tr:n-medium',\n",
       " 'https://im1.dineout.co.in/images/uploads/restaurant/sharpen/7/p/k/p79307-16051787755fad1597f2bf9.jpg?tr=tr:n-medium',\n",
       " 'https://im1.dineout.co.in/images/uploads/restaurant/sharpen/5/d/i/p52501-1661855212630de5eceb6d2.jpg?tr=tr:n-medium',\n",
       " 'https://im1.dineout.co.in/images/uploads/restaurant/sharpen/3/n/o/p34822-15599107305cfa594a13c24.jpg?tr=tr:n-medium',\n",
       " 'https://im1.dineout.co.in/images/uploads/restaurant/sharpen/1/u/r/p106428-166073786162fcd945925a9.jpg?tr=tr:n-medium']"
      ]
     },
     "execution_count": 34,
     "metadata": {},
     "output_type": "execute_result"
    }
   ],
   "source": [
    "imgurl"
   ]
  },
  {
   "cell_type": "code",
   "execution_count": 35,
   "id": "9dfe736d",
   "metadata": {},
   "outputs": [],
   "source": [
    "import pandas as pd"
   ]
  },
  {
   "cell_type": "code",
   "execution_count": 46,
   "id": "ca3f7bc6",
   "metadata": {},
   "outputs": [],
   "source": [
    "df=pd.DataFrame({\"Name of the Restaurents\":title,\"Cuisines\":cuisines,\"Locations\":loc,\"Rating\":rat,\"imageURL\":imgurl})"
   ]
  },
  {
   "cell_type": "code",
   "execution_count": 47,
   "id": "7115bc4a",
   "metadata": {},
   "outputs": [
    {
     "data": {
      "text/html": [
       "<div>\n",
       "<style scoped>\n",
       "    .dataframe tbody tr th:only-of-type {\n",
       "        vertical-align: middle;\n",
       "    }\n",
       "\n",
       "    .dataframe tbody tr th {\n",
       "        vertical-align: top;\n",
       "    }\n",
       "\n",
       "    .dataframe thead th {\n",
       "        text-align: right;\n",
       "    }\n",
       "</style>\n",
       "<table border=\"1\" class=\"dataframe\">\n",
       "  <thead>\n",
       "    <tr style=\"text-align: right;\">\n",
       "      <th></th>\n",
       "      <th>Name of the Restaurents</th>\n",
       "      <th>Cuisines</th>\n",
       "      <th>Locations</th>\n",
       "      <th>Rating</th>\n",
       "      <th>imageURL</th>\n",
       "    </tr>\n",
       "  </thead>\n",
       "  <tbody>\n",
       "    <tr>\n",
       "      <th>0</th>\n",
       "      <td>Castle BarbequeConnaught Place, Central Delhi</td>\n",
       "      <td>₹ 2,000 for 2 (approx) | Chinese, North Indian</td>\n",
       "      <td>Connaught Place, Central Delhi</td>\n",
       "      <td>4</td>\n",
       "      <td>https://im1.dineout.co.in/images/uploads/resta...</td>\n",
       "    </tr>\n",
       "    <tr>\n",
       "      <th>1</th>\n",
       "      <td>Cafe KnoshThe Leela Ambience Convention Hotel,...</td>\n",
       "      <td>₹ 3,000 for 2 (approx) | Italian, Continental</td>\n",
       "      <td>The Leela Ambience Convention Hotel,Shahdara, ...</td>\n",
       "      <td>4.3</td>\n",
       "      <td>https://im1.dineout.co.in/images/uploads/resta...</td>\n",
       "    </tr>\n",
       "    <tr>\n",
       "      <th>2</th>\n",
       "      <td>India GrillHilton Garden Inn,Saket, South Delhi</td>\n",
       "      <td>₹ 2,400 for 2 (approx) | North Indian, Italian</td>\n",
       "      <td>Hilton Garden Inn,Saket, South Delhi</td>\n",
       "      <td>3.9</td>\n",
       "      <td>https://im1.dineout.co.in/images/uploads/resta...</td>\n",
       "    </tr>\n",
       "    <tr>\n",
       "      <th>3</th>\n",
       "      <td>The Barbeque CompanyGardens Galleria,Sector 38...</td>\n",
       "      <td>₹ 1,700 for 2 (approx) | North Indian, Chinese</td>\n",
       "      <td>Gardens Galleria,Sector 38A, Noida</td>\n",
       "      <td>3.9</td>\n",
       "      <td>https://im1.dineout.co.in/images/uploads/resta...</td>\n",
       "    </tr>\n",
       "    <tr>\n",
       "      <th>4</th>\n",
       "      <td>Delhi BarbequeTaurus Sarovar Portico,Mahipalpu...</td>\n",
       "      <td>₹ 1,800 for 2 (approx) | North Indian</td>\n",
       "      <td>Taurus Sarovar Portico,Mahipalpur, South Delhi</td>\n",
       "      <td>3.7</td>\n",
       "      <td>https://im1.dineout.co.in/images/uploads/resta...</td>\n",
       "    </tr>\n",
       "    <tr>\n",
       "      <th>5</th>\n",
       "      <td>The Monarch - Bar Be Que VillageIndirapuram Ha...</td>\n",
       "      <td>₹ 1,900 for 2 (approx) | North Indian</td>\n",
       "      <td>Indirapuram Habitat Centre,Indirapuram, Ghaziabad</td>\n",
       "      <td>3.8</td>\n",
       "      <td>https://im1.dineout.co.in/images/uploads/resta...</td>\n",
       "    </tr>\n",
       "    <tr>\n",
       "      <th>6</th>\n",
       "      <td>The Barbeque TimesM2K Corporate Park,Sector 51...</td>\n",
       "      <td>₹ 1,500 for 2 (approx) | North Indian, Contine...</td>\n",
       "      <td>M2K Corporate Park,Sector 51, Gurgaon</td>\n",
       "      <td>4.1</td>\n",
       "      <td>https://im1.dineout.co.in/images/uploads/resta...</td>\n",
       "    </tr>\n",
       "  </tbody>\n",
       "</table>\n",
       "</div>"
      ],
      "text/plain": [
       "                             Name of the Restaurents  \\\n",
       "0      Castle BarbequeConnaught Place, Central Delhi   \n",
       "1  Cafe KnoshThe Leela Ambience Convention Hotel,...   \n",
       "2    India GrillHilton Garden Inn,Saket, South Delhi   \n",
       "3  The Barbeque CompanyGardens Galleria,Sector 38...   \n",
       "4  Delhi BarbequeTaurus Sarovar Portico,Mahipalpu...   \n",
       "5  The Monarch - Bar Be Que VillageIndirapuram Ha...   \n",
       "6  The Barbeque TimesM2K Corporate Park,Sector 51...   \n",
       "\n",
       "                                            Cuisines  \\\n",
       "0     ₹ 2,000 for 2 (approx) | Chinese, North Indian   \n",
       "1      ₹ 3,000 for 2 (approx) | Italian, Continental   \n",
       "2     ₹ 2,400 for 2 (approx) | North Indian, Italian   \n",
       "3     ₹ 1,700 for 2 (approx) | North Indian, Chinese   \n",
       "4              ₹ 1,800 for 2 (approx) | North Indian   \n",
       "5              ₹ 1,900 for 2 (approx) | North Indian   \n",
       "6  ₹ 1,500 for 2 (approx) | North Indian, Contine...   \n",
       "\n",
       "                                           Locations Rating  \\\n",
       "0                     Connaught Place, Central Delhi      4   \n",
       "1  The Leela Ambience Convention Hotel,Shahdara, ...    4.3   \n",
       "2               Hilton Garden Inn,Saket, South Delhi    3.9   \n",
       "3                 Gardens Galleria,Sector 38A, Noida    3.9   \n",
       "4     Taurus Sarovar Portico,Mahipalpur, South Delhi    3.7   \n",
       "5  Indirapuram Habitat Centre,Indirapuram, Ghaziabad    3.8   \n",
       "6              M2K Corporate Park,Sector 51, Gurgaon    4.1   \n",
       "\n",
       "                                            imageURL  \n",
       "0  https://im1.dineout.co.in/images/uploads/resta...  \n",
       "1  https://im1.dineout.co.in/images/uploads/resta...  \n",
       "2  https://im1.dineout.co.in/images/uploads/resta...  \n",
       "3  https://im1.dineout.co.in/images/uploads/resta...  \n",
       "4  https://im1.dineout.co.in/images/uploads/resta...  \n",
       "5  https://im1.dineout.co.in/images/uploads/resta...  \n",
       "6  https://im1.dineout.co.in/images/uploads/resta...  "
      ]
     },
     "execution_count": 47,
     "metadata": {},
     "output_type": "execute_result"
    }
   ],
   "source": [
    "df"
   ]
  },
  {
   "cell_type": "markdown",
   "id": "561d481f",
   "metadata": {},
   "source": [
    "5) Write a python program to scrape mentioned news details from https://www.cnbc.com/world/?region=world and\n",
    "make data framei) Headline\n",
    "ii) Time\n",
    "iii) News Link"
   ]
  },
  {
   "cell_type": "code",
   "execution_count": 15,
   "id": "4c8a333e",
   "metadata": {},
   "outputs": [],
   "source": [
    "page4=requests.get(\"https://www.cnbc.com/world/?region=world\")"
   ]
  },
  {
   "cell_type": "code",
   "execution_count": 16,
   "id": "3d9b771b",
   "metadata": {},
   "outputs": [
    {
     "data": {
      "text/plain": [
       "<Response [200]>"
      ]
     },
     "execution_count": 16,
     "metadata": {},
     "output_type": "execute_result"
    }
   ],
   "source": [
    "page4"
   ]
  },
  {
   "cell_type": "code",
   "execution_count": 17,
   "id": "7ea50e4d",
   "metadata": {},
   "outputs": [],
   "source": [
    "soup4=BeautifulSoup(page4.content)"
   ]
  },
  {
   "cell_type": "code",
   "execution_count": null,
   "id": "f449fa77",
   "metadata": {},
   "outputs": [],
   "source": []
  },
  {
   "cell_type": "code",
   "execution_count": 45,
   "id": "22154a0f",
   "metadata": {},
   "outputs": [],
   "source": [
    "head=[]\n",
    "for i in soup4.find_all('a',class_=\"LatestNews-headline\"):\n",
    "    head.append(i.text)"
   ]
  },
  {
   "cell_type": "code",
   "execution_count": 46,
   "id": "9774fa0b",
   "metadata": {},
   "outputs": [
    {
     "data": {
      "text/plain": [
       "['CNBC Daily Open: Big Bank earnings point to a grim season   ',\n",
       " 'European markets set to start new trading week in positive territory; investors prepare for Davos',\n",
       " 'Japan markets are hitting multi-decade highs — will Nikkei scale a new peak?',\n",
       " \"Taiwan's new president will face a divided parliament. Here's why it matters\",\n",
       " \"Gen Zers are leading the way in Singapore's online shopping space\",\n",
       " 'CNBC Daily Open: Big Bank earnings signal downbeat quarter',\n",
       " 'China stocks erase losses as central bank holds rates; Taiwan stocks rise after elections',\n",
       " \"Here are Wall Street's top semiconductor stock picks for 2024\",\n",
       " \"Goldman says it's time to buy this unloved global sector — and names top stocks\",\n",
       " \"Americans are canceling trips that are thousands of miles from Gaza. Here's why\",\n",
       " 'House Republicans say they will re-subpoena Hunter Biden in coming weeks',\n",
       " 'Nikki Haley campaign site lacks policy platform, simple way to evaluate positions',\n",
       " \"Defense Secretary Austin is 'actively involved and engaged' while hospitalized\",\n",
       " 'Pro-Palestine protestors arrested for London Stock Exchange scheme',\n",
       " \"'Mean Girls' is the Queen Bee of the box office, opens to $28 million\",\n",
       " 'After big tech layoffs, Silicon Valley may have lost its monopoly on workers',\n",
       " 'Ford could do 2 things to really shine in a challenging 2024 for the auto industry',\n",
       " 'Data shows that this is the key to successfully landing a first date',\n",
       " 'How 27-year-old whose business brought in $1 million avoids lifestyle creep',\n",
       " \"The 'holy grail' of longevity foods this doctor eats every day—it protects you 'like a suit of armor'\",\n",
       " 'The No. 1 in-demand remote job companies are hiring for',\n",
       " \"Barbara Corcoran: Why feeling like a fraud at work 'guarantees' success\",\n",
       " 'Please stop ignoring your flight attendants ',\n",
       " \"Hertz makes 'agile' decision to shift strategy and sell EVs, Teslas\",\n",
       " \"Ramit Sethi: Common money belief could cost you 'millions of dollars'\",\n",
       " 'This beach city is helping older adults achieve their wish to age in place',\n",
       " 'Companies are betting on a promising class of cancer drugs to drive growth',\n",
       " \"Goldman picks China stocks in case there's a repeat of Japan's lost decades\",\n",
       " 'Bitcoin slid after key ETFs debuted. What it means for crypto miners’ profits',\n",
       " \"Here's why Buffett calls airline stocks hazardous to your investment health \"]"
      ]
     },
     "execution_count": 46,
     "metadata": {},
     "output_type": "execute_result"
    }
   ],
   "source": [
    "head\n"
   ]
  },
  {
   "cell_type": "code",
   "execution_count": 39,
   "id": "1af691aa",
   "metadata": {},
   "outputs": [],
   "source": [
    "times=[]\n",
    "for i in soup4.find_all(\"time\",class_=\"LatestNews-timestamp\"):\n",
    "    times.append(i.text)"
   ]
  },
  {
   "cell_type": "code",
   "execution_count": 40,
   "id": "87b4c896",
   "metadata": {},
   "outputs": [
    {
     "data": {
      "text/plain": [
       "['21 Min Ago',\n",
       " '2 Hours Ago',\n",
       " '4 Hours Ago',\n",
       " '7 Hours Ago',\n",
       " '7 Hours Ago',\n",
       " '8 Hours Ago',\n",
       " '8 Hours Ago',\n",
       " '9 Hours Ago',\n",
       " '9 Hours Ago',\n",
       " '9 Hours Ago',\n",
       " '9 Hours Ago',\n",
       " '11 Hours Ago',\n",
       " '12 Hours Ago',\n",
       " '12 Hours Ago',\n",
       " '14 Hours Ago',\n",
       " '17 Hours Ago',\n",
       " '17 Hours Ago',\n",
       " '17 Hours Ago',\n",
       " '17 Hours Ago',\n",
       " '17 Hours Ago',\n",
       " '17 Hours Ago',\n",
       " '17 Hours Ago',\n",
       " '18 Hours Ago',\n",
       " '18 Hours Ago',\n",
       " '18 Hours Ago',\n",
       " '18 Hours Ago',\n",
       " '19 Hours Ago',\n",
       " '20 Hours Ago',\n",
       " '20 Hours Ago',\n",
       " '20 Hours Ago']"
      ]
     },
     "execution_count": 40,
     "metadata": {},
     "output_type": "execute_result"
    }
   ],
   "source": [
    "times"
   ]
  },
  {
   "cell_type": "code",
   "execution_count": 49,
   "id": "2aa94f41",
   "metadata": {},
   "outputs": [],
   "source": [
    "links=[]\n",
    "for i in soup4.find_all('a',class_=\"LatestNews-headline\"):\n",
    "    links.append(i['href'])\n"
   ]
  },
  {
   "cell_type": "code",
   "execution_count": 50,
   "id": "ce3b25c5",
   "metadata": {},
   "outputs": [
    {
     "data": {
      "text/plain": [
       "['https://www.cnbc.com/2024/01/15/stock-markets-big-bank-earnings-point-to-a-grim-season-.html',\n",
       " 'https://www.cnbc.com/2024/01/15/european-markets-live-updates-stocks-news-data-davos.html',\n",
       " 'https://www.cnbc.com/2024/01/15/japans-markets-could-nikkei-scale-its-all-time-peak.html',\n",
       " 'https://www.cnbc.com/2024/01/15/taiwan-election-new-president-lai-ching-te-to-face-divided-parliament.html',\n",
       " 'https://www.cnbc.com/2024/01/15/gen-zs-lead-the-way-in-singapores-online-shopping-space.html',\n",
       " 'https://www.cnbc.com/2024/01/15/stock-markets-earnings-dont-start-until-the-big-banks-report.html',\n",
       " 'https://www.cnbc.com/2024/01/15/asia-markets.html',\n",
       " 'https://www.cnbc.com/2024/01/15/here-are-wall-streets-top-semiconductor-stock-picks-for-2024.html',\n",
       " 'https://www.cnbc.com/2024/01/15/goldman-sachs-is-bullish-on-this-sector-in-europe-and-names-stocks-to-buy.html',\n",
       " 'https://www.cnbc.com/2024/01/15/the-israel-hamas-war-is-affecting-traveler-confidence-and-bookings.html',\n",
       " 'https://www.cnbc.com/2024/01/14/house-republicans-say-they-will-re-subpoena-hunter-biden-in-coming-weeks.html',\n",
       " 'https://www.cnbc.com/2024/01/14/nikki-haley-policy-platform-missing-from-campaign-website-.html',\n",
       " 'https://www.cnbc.com/2024/01/14/defense-secretary-austin-is-actively-involved-and-engaged-while-hospitalized.html',\n",
       " 'https://www.cnbc.com/2024/01/14/pro-palestine-protestors-arrested-for-london-stock-exchange-scheme.html',\n",
       " 'https://www.cnbc.com/2024/01/14/mean-girls-opening-weekend-box-office-hits-28-million.html',\n",
       " 'https://www.cnbc.com/2024/01/14/after-big-tech-layoffs-silicon-valley-loses-its-monopoly-on-workers.html',\n",
       " 'https://www.cnbc.com/2024/01/14/ford-could-do-2-things-to-shine-in-a-challenging-2024-for-auto-industry.html',\n",
       " 'https://www.cnbc.com/2024/01/14/hinge-data-shows-this-is-the-key-to-successfully-landing-a-first-date.html',\n",
       " 'https://www.cnbc.com/2024/01/14/how-27-year-old-with-a-1-million-business-avoids-lifestyle-inflation.html',\n",
       " 'https://www.cnbc.com/2024/01/14/holy-grail-of-longevity-foods-that-this-doctor-eats-every-day.html',\n",
       " 'https://www.cnbc.com/2024/01/14/the-no-1-in-demand-remote-job-companies-are-hiring-for.html',\n",
       " 'https://www.cnbc.com/2024/01/14/barbara-corcoran-why-imposter-syndrome-can-be-good-for-your-career.html',\n",
       " 'https://www.cnbc.com/2024/01/14/alaska-japan-airlines-incidents-safety-briefings.html',\n",
       " 'https://www.cnbc.com/2024/01/14/hertz-makes-agile-decision-to-shift-strategy-and-sell-evs-teslas.html',\n",
       " 'https://www.cnbc.com/2024/01/14/ramit-sethi-common-money-belief-could-cost-you-millions-of-dollars.html',\n",
       " 'https://www.cnbc.com/2024/01/14/how-laguna-beach-california-is-helping-residents-age-in-place.html',\n",
       " 'https://www.cnbc.com/2024/01/14/cancer-drugs-renewed-interest-in-adcs-will-continue-in-2024.html',\n",
       " 'https://www.cnbc.com/2024/01/14/goldman-sachs-picks-china-stocks-even-if-japans-lost-decades-repeat.html',\n",
       " 'https://www.cnbc.com/2024/01/14/bitcoin-tumbled-after-etfs-launched-what-it-means-for-crypto-miners.html',\n",
       " 'https://www.cnbc.com/2024/01/14/heres-why-warren-buffett-calls-airline-stocks-hazardous-to-your-investment-health-.html']"
      ]
     },
     "execution_count": 50,
     "metadata": {},
     "output_type": "execute_result"
    }
   ],
   "source": [
    "links\n"
   ]
  },
  {
   "cell_type": "code",
   "execution_count": 10,
   "id": "4d9df467",
   "metadata": {},
   "outputs": [],
   "source": [
    "import pandas as pd"
   ]
  },
  {
   "cell_type": "code",
   "execution_count": 51,
   "id": "63ac1536",
   "metadata": {},
   "outputs": [],
   "source": [
    "df1=pd.DataFrame({\"Heading\":head,\"Time\":times,\"links\":links})\n"
   ]
  },
  {
   "cell_type": "code",
   "execution_count": 52,
   "id": "07ad522e",
   "metadata": {},
   "outputs": [
    {
     "data": {
      "text/html": [
       "<div>\n",
       "<style scoped>\n",
       "    .dataframe tbody tr th:only-of-type {\n",
       "        vertical-align: middle;\n",
       "    }\n",
       "\n",
       "    .dataframe tbody tr th {\n",
       "        vertical-align: top;\n",
       "    }\n",
       "\n",
       "    .dataframe thead th {\n",
       "        text-align: right;\n",
       "    }\n",
       "</style>\n",
       "<table border=\"1\" class=\"dataframe\">\n",
       "  <thead>\n",
       "    <tr style=\"text-align: right;\">\n",
       "      <th></th>\n",
       "      <th>Heading</th>\n",
       "      <th>Time</th>\n",
       "      <th>links</th>\n",
       "    </tr>\n",
       "  </thead>\n",
       "  <tbody>\n",
       "    <tr>\n",
       "      <th>0</th>\n",
       "      <td>CNBC Daily Open: Big Bank earnings point to a ...</td>\n",
       "      <td>21 Min Ago</td>\n",
       "      <td>https://www.cnbc.com/2024/01/15/stock-markets-...</td>\n",
       "    </tr>\n",
       "    <tr>\n",
       "      <th>1</th>\n",
       "      <td>European markets set to start new trading week...</td>\n",
       "      <td>2 Hours Ago</td>\n",
       "      <td>https://www.cnbc.com/2024/01/15/european-marke...</td>\n",
       "    </tr>\n",
       "    <tr>\n",
       "      <th>2</th>\n",
       "      <td>Japan markets are hitting multi-decade highs —...</td>\n",
       "      <td>4 Hours Ago</td>\n",
       "      <td>https://www.cnbc.com/2024/01/15/japans-markets...</td>\n",
       "    </tr>\n",
       "    <tr>\n",
       "      <th>3</th>\n",
       "      <td>Taiwan's new president will face a divided par...</td>\n",
       "      <td>7 Hours Ago</td>\n",
       "      <td>https://www.cnbc.com/2024/01/15/taiwan-electio...</td>\n",
       "    </tr>\n",
       "    <tr>\n",
       "      <th>4</th>\n",
       "      <td>Gen Zers are leading the way in Singapore's on...</td>\n",
       "      <td>7 Hours Ago</td>\n",
       "      <td>https://www.cnbc.com/2024/01/15/gen-zs-lead-th...</td>\n",
       "    </tr>\n",
       "    <tr>\n",
       "      <th>5</th>\n",
       "      <td>CNBC Daily Open: Big Bank earnings signal down...</td>\n",
       "      <td>8 Hours Ago</td>\n",
       "      <td>https://www.cnbc.com/2024/01/15/stock-markets-...</td>\n",
       "    </tr>\n",
       "    <tr>\n",
       "      <th>6</th>\n",
       "      <td>China stocks erase losses as central bank hold...</td>\n",
       "      <td>8 Hours Ago</td>\n",
       "      <td>https://www.cnbc.com/2024/01/15/asia-markets.html</td>\n",
       "    </tr>\n",
       "    <tr>\n",
       "      <th>7</th>\n",
       "      <td>Here are Wall Street's top semiconductor stock...</td>\n",
       "      <td>9 Hours Ago</td>\n",
       "      <td>https://www.cnbc.com/2024/01/15/here-are-wall-...</td>\n",
       "    </tr>\n",
       "    <tr>\n",
       "      <th>8</th>\n",
       "      <td>Goldman says it's time to buy this unloved glo...</td>\n",
       "      <td>9 Hours Ago</td>\n",
       "      <td>https://www.cnbc.com/2024/01/15/goldman-sachs-...</td>\n",
       "    </tr>\n",
       "    <tr>\n",
       "      <th>9</th>\n",
       "      <td>Americans are canceling trips that are thousan...</td>\n",
       "      <td>9 Hours Ago</td>\n",
       "      <td>https://www.cnbc.com/2024/01/15/the-israel-ham...</td>\n",
       "    </tr>\n",
       "    <tr>\n",
       "      <th>10</th>\n",
       "      <td>House Republicans say they will re-subpoena Hu...</td>\n",
       "      <td>9 Hours Ago</td>\n",
       "      <td>https://www.cnbc.com/2024/01/14/house-republic...</td>\n",
       "    </tr>\n",
       "    <tr>\n",
       "      <th>11</th>\n",
       "      <td>Nikki Haley campaign site lacks policy platfor...</td>\n",
       "      <td>11 Hours Ago</td>\n",
       "      <td>https://www.cnbc.com/2024/01/14/nikki-haley-po...</td>\n",
       "    </tr>\n",
       "    <tr>\n",
       "      <th>12</th>\n",
       "      <td>Defense Secretary Austin is 'actively involved...</td>\n",
       "      <td>12 Hours Ago</td>\n",
       "      <td>https://www.cnbc.com/2024/01/14/defense-secret...</td>\n",
       "    </tr>\n",
       "    <tr>\n",
       "      <th>13</th>\n",
       "      <td>Pro-Palestine protestors arrested for London S...</td>\n",
       "      <td>12 Hours Ago</td>\n",
       "      <td>https://www.cnbc.com/2024/01/14/pro-palestine-...</td>\n",
       "    </tr>\n",
       "    <tr>\n",
       "      <th>14</th>\n",
       "      <td>'Mean Girls' is the Queen Bee of the box offic...</td>\n",
       "      <td>14 Hours Ago</td>\n",
       "      <td>https://www.cnbc.com/2024/01/14/mean-girls-ope...</td>\n",
       "    </tr>\n",
       "    <tr>\n",
       "      <th>15</th>\n",
       "      <td>After big tech layoffs, Silicon Valley may hav...</td>\n",
       "      <td>17 Hours Ago</td>\n",
       "      <td>https://www.cnbc.com/2024/01/14/after-big-tech...</td>\n",
       "    </tr>\n",
       "    <tr>\n",
       "      <th>16</th>\n",
       "      <td>Ford could do 2 things to really shine in a ch...</td>\n",
       "      <td>17 Hours Ago</td>\n",
       "      <td>https://www.cnbc.com/2024/01/14/ford-could-do-...</td>\n",
       "    </tr>\n",
       "    <tr>\n",
       "      <th>17</th>\n",
       "      <td>Data shows that this is the key to successfull...</td>\n",
       "      <td>17 Hours Ago</td>\n",
       "      <td>https://www.cnbc.com/2024/01/14/hinge-data-sho...</td>\n",
       "    </tr>\n",
       "    <tr>\n",
       "      <th>18</th>\n",
       "      <td>How 27-year-old whose business brought in $1 m...</td>\n",
       "      <td>17 Hours Ago</td>\n",
       "      <td>https://www.cnbc.com/2024/01/14/how-27-year-ol...</td>\n",
       "    </tr>\n",
       "    <tr>\n",
       "      <th>19</th>\n",
       "      <td>The 'holy grail' of longevity foods this docto...</td>\n",
       "      <td>17 Hours Ago</td>\n",
       "      <td>https://www.cnbc.com/2024/01/14/holy-grail-of-...</td>\n",
       "    </tr>\n",
       "    <tr>\n",
       "      <th>20</th>\n",
       "      <td>The No. 1 in-demand remote job companies are h...</td>\n",
       "      <td>17 Hours Ago</td>\n",
       "      <td>https://www.cnbc.com/2024/01/14/the-no-1-in-de...</td>\n",
       "    </tr>\n",
       "    <tr>\n",
       "      <th>21</th>\n",
       "      <td>Barbara Corcoran: Why feeling like a fraud at ...</td>\n",
       "      <td>17 Hours Ago</td>\n",
       "      <td>https://www.cnbc.com/2024/01/14/barbara-corcor...</td>\n",
       "    </tr>\n",
       "    <tr>\n",
       "      <th>22</th>\n",
       "      <td>Please stop ignoring your flight attendants</td>\n",
       "      <td>18 Hours Ago</td>\n",
       "      <td>https://www.cnbc.com/2024/01/14/alaska-japan-a...</td>\n",
       "    </tr>\n",
       "    <tr>\n",
       "      <th>23</th>\n",
       "      <td>Hertz makes 'agile' decision to shift strategy...</td>\n",
       "      <td>18 Hours Ago</td>\n",
       "      <td>https://www.cnbc.com/2024/01/14/hertz-makes-ag...</td>\n",
       "    </tr>\n",
       "    <tr>\n",
       "      <th>24</th>\n",
       "      <td>Ramit Sethi: Common money belief could cost yo...</td>\n",
       "      <td>18 Hours Ago</td>\n",
       "      <td>https://www.cnbc.com/2024/01/14/ramit-sethi-co...</td>\n",
       "    </tr>\n",
       "    <tr>\n",
       "      <th>25</th>\n",
       "      <td>This beach city is helping older adults achiev...</td>\n",
       "      <td>18 Hours Ago</td>\n",
       "      <td>https://www.cnbc.com/2024/01/14/how-laguna-bea...</td>\n",
       "    </tr>\n",
       "    <tr>\n",
       "      <th>26</th>\n",
       "      <td>Companies are betting on a promising class of ...</td>\n",
       "      <td>19 Hours Ago</td>\n",
       "      <td>https://www.cnbc.com/2024/01/14/cancer-drugs-r...</td>\n",
       "    </tr>\n",
       "    <tr>\n",
       "      <th>27</th>\n",
       "      <td>Goldman picks China stocks in case there's a r...</td>\n",
       "      <td>20 Hours Ago</td>\n",
       "      <td>https://www.cnbc.com/2024/01/14/goldman-sachs-...</td>\n",
       "    </tr>\n",
       "    <tr>\n",
       "      <th>28</th>\n",
       "      <td>Bitcoin slid after key ETFs debuted. What it m...</td>\n",
       "      <td>20 Hours Ago</td>\n",
       "      <td>https://www.cnbc.com/2024/01/14/bitcoin-tumble...</td>\n",
       "    </tr>\n",
       "    <tr>\n",
       "      <th>29</th>\n",
       "      <td>Here's why Buffett calls airline stocks hazard...</td>\n",
       "      <td>20 Hours Ago</td>\n",
       "      <td>https://www.cnbc.com/2024/01/14/heres-why-warr...</td>\n",
       "    </tr>\n",
       "  </tbody>\n",
       "</table>\n",
       "</div>"
      ],
      "text/plain": [
       "                                              Heading          Time  \\\n",
       "0   CNBC Daily Open: Big Bank earnings point to a ...    21 Min Ago   \n",
       "1   European markets set to start new trading week...   2 Hours Ago   \n",
       "2   Japan markets are hitting multi-decade highs —...   4 Hours Ago   \n",
       "3   Taiwan's new president will face a divided par...   7 Hours Ago   \n",
       "4   Gen Zers are leading the way in Singapore's on...   7 Hours Ago   \n",
       "5   CNBC Daily Open: Big Bank earnings signal down...   8 Hours Ago   \n",
       "6   China stocks erase losses as central bank hold...   8 Hours Ago   \n",
       "7   Here are Wall Street's top semiconductor stock...   9 Hours Ago   \n",
       "8   Goldman says it's time to buy this unloved glo...   9 Hours Ago   \n",
       "9   Americans are canceling trips that are thousan...   9 Hours Ago   \n",
       "10  House Republicans say they will re-subpoena Hu...   9 Hours Ago   \n",
       "11  Nikki Haley campaign site lacks policy platfor...  11 Hours Ago   \n",
       "12  Defense Secretary Austin is 'actively involved...  12 Hours Ago   \n",
       "13  Pro-Palestine protestors arrested for London S...  12 Hours Ago   \n",
       "14  'Mean Girls' is the Queen Bee of the box offic...  14 Hours Ago   \n",
       "15  After big tech layoffs, Silicon Valley may hav...  17 Hours Ago   \n",
       "16  Ford could do 2 things to really shine in a ch...  17 Hours Ago   \n",
       "17  Data shows that this is the key to successfull...  17 Hours Ago   \n",
       "18  How 27-year-old whose business brought in $1 m...  17 Hours Ago   \n",
       "19  The 'holy grail' of longevity foods this docto...  17 Hours Ago   \n",
       "20  The No. 1 in-demand remote job companies are h...  17 Hours Ago   \n",
       "21  Barbara Corcoran: Why feeling like a fraud at ...  17 Hours Ago   \n",
       "22       Please stop ignoring your flight attendants   18 Hours Ago   \n",
       "23  Hertz makes 'agile' decision to shift strategy...  18 Hours Ago   \n",
       "24  Ramit Sethi: Common money belief could cost yo...  18 Hours Ago   \n",
       "25  This beach city is helping older adults achiev...  18 Hours Ago   \n",
       "26  Companies are betting on a promising class of ...  19 Hours Ago   \n",
       "27  Goldman picks China stocks in case there's a r...  20 Hours Ago   \n",
       "28  Bitcoin slid after key ETFs debuted. What it m...  20 Hours Ago   \n",
       "29  Here's why Buffett calls airline stocks hazard...  20 Hours Ago   \n",
       "\n",
       "                                                links  \n",
       "0   https://www.cnbc.com/2024/01/15/stock-markets-...  \n",
       "1   https://www.cnbc.com/2024/01/15/european-marke...  \n",
       "2   https://www.cnbc.com/2024/01/15/japans-markets...  \n",
       "3   https://www.cnbc.com/2024/01/15/taiwan-electio...  \n",
       "4   https://www.cnbc.com/2024/01/15/gen-zs-lead-th...  \n",
       "5   https://www.cnbc.com/2024/01/15/stock-markets-...  \n",
       "6   https://www.cnbc.com/2024/01/15/asia-markets.html  \n",
       "7   https://www.cnbc.com/2024/01/15/here-are-wall-...  \n",
       "8   https://www.cnbc.com/2024/01/15/goldman-sachs-...  \n",
       "9   https://www.cnbc.com/2024/01/15/the-israel-ham...  \n",
       "10  https://www.cnbc.com/2024/01/14/house-republic...  \n",
       "11  https://www.cnbc.com/2024/01/14/nikki-haley-po...  \n",
       "12  https://www.cnbc.com/2024/01/14/defense-secret...  \n",
       "13  https://www.cnbc.com/2024/01/14/pro-palestine-...  \n",
       "14  https://www.cnbc.com/2024/01/14/mean-girls-ope...  \n",
       "15  https://www.cnbc.com/2024/01/14/after-big-tech...  \n",
       "16  https://www.cnbc.com/2024/01/14/ford-could-do-...  \n",
       "17  https://www.cnbc.com/2024/01/14/hinge-data-sho...  \n",
       "18  https://www.cnbc.com/2024/01/14/how-27-year-ol...  \n",
       "19  https://www.cnbc.com/2024/01/14/holy-grail-of-...  \n",
       "20  https://www.cnbc.com/2024/01/14/the-no-1-in-de...  \n",
       "21  https://www.cnbc.com/2024/01/14/barbara-corcor...  \n",
       "22  https://www.cnbc.com/2024/01/14/alaska-japan-a...  \n",
       "23  https://www.cnbc.com/2024/01/14/hertz-makes-ag...  \n",
       "24  https://www.cnbc.com/2024/01/14/ramit-sethi-co...  \n",
       "25  https://www.cnbc.com/2024/01/14/how-laguna-bea...  \n",
       "26  https://www.cnbc.com/2024/01/14/cancer-drugs-r...  \n",
       "27  https://www.cnbc.com/2024/01/14/goldman-sachs-...  \n",
       "28  https://www.cnbc.com/2024/01/14/bitcoin-tumble...  \n",
       "29  https://www.cnbc.com/2024/01/14/heres-why-warr...  "
      ]
     },
     "execution_count": 52,
     "metadata": {},
     "output_type": "execute_result"
    }
   ],
   "source": [
    "df1"
   ]
  },
  {
   "cell_type": "markdown",
   "id": "89118be9",
   "metadata": {},
   "source": [
    "6) Write a python program to scrape the details of most downloaded articles from AI in last 90\n",
    "days.https://www.journals.elsevier.com/artificial-intelligence/most-downloaded-articles\n",
    "Scrape below mentioned details and make data framei) Paper Title\n",
    "ii) Authors\n",
    "iii) Published Date\n",
    "iv) Paper URL"
   ]
  },
  {
   "cell_type": "code",
   "execution_count": 18,
   "id": "591de5c7",
   "metadata": {},
   "outputs": [],
   "source": [
    "page5=requests.get(\"https://www.journals.elsevier.com/artificial-intelligence/most-downloaded-articles\")"
   ]
  },
  {
   "cell_type": "code",
   "execution_count": 19,
   "id": "6c16d88d",
   "metadata": {},
   "outputs": [
    {
     "data": {
      "text/plain": [
       "<Response [200]>"
      ]
     },
     "execution_count": 19,
     "metadata": {},
     "output_type": "execute_result"
    }
   ],
   "source": [
    "page5"
   ]
  },
  {
   "cell_type": "code",
   "execution_count": 20,
   "id": "2df941e9",
   "metadata": {},
   "outputs": [],
   "source": [
    "soup5=BeautifulSoup(page5.content)"
   ]
  },
  {
   "cell_type": "code",
   "execution_count": null,
   "id": "6954ef6b",
   "metadata": {},
   "outputs": [],
   "source": []
  },
  {
   "cell_type": "code",
   "execution_count": 211,
   "id": "5427e5c3",
   "metadata": {},
   "outputs": [],
   "source": [
    "title=[]\n",
    "for i in soup5.find_all('h2',class_=\"sc-1qrq3sd-1 gRGSUS sc-1nmom32-0 sc-1nmom32-1 btcbYu goSKRg\"):\n",
    "    title.append(i.text)"
   ]
  },
  {
   "cell_type": "code",
   "execution_count": 212,
   "id": "72a22595",
   "metadata": {},
   "outputs": [
    {
     "data": {
      "text/plain": [
       "['Reward is enough',\n",
       " 'Explanation in artificial intelligence: Insights from the social sciences',\n",
       " 'Creativity and artificial intelligence',\n",
       " 'Conflict-based search for optimal multi-agent pathfinding',\n",
       " 'Knowledge graphs as tools for explainable machine learning: A survey',\n",
       " 'Law and logic: A review from an argumentation perspective',\n",
       " 'Between MDPs and semi-MDPs: A framework for temporal abstraction in reinforcement learning',\n",
       " 'Explaining individual predictions when features are dependent: More accurate approximations to Shapley values',\n",
       " 'Multiple object tracking: A literature review',\n",
       " 'A survey of inverse reinforcement learning: Challenges, methods and progress',\n",
       " 'Evaluating XAI: A comparison of rule-based and example-based explanations',\n",
       " 'Explainable AI tools for legal reasoning about cases: A study on the European Court of Human Rights',\n",
       " 'Hard choices in artificial intelligence',\n",
       " 'Assessing the communication gap between AI models and healthcare professionals: Explainability, utility and trust in AI-driven clinical decision-making',\n",
       " 'Explaining black-box classifiers using post-hoc explanations-by-example: The effect of explanations and error-rates in XAI user studies',\n",
       " 'The Hanabi challenge: A new frontier for AI research',\n",
       " 'Wrappers for feature subset selection',\n",
       " 'Artificial cognition for social human–robot interaction: An implementation',\n",
       " 'A review of possible effects of cognitive biases on interpretation of rule-based machine learning models',\n",
       " 'The multifaceted impact of Ada Lovelace in the digital age',\n",
       " 'Robot ethics: Mapping the issues for a mechanized world',\n",
       " 'Reward (Mis)design for autonomous driving',\n",
       " 'Planning and acting in partially observable stochastic domains',\n",
       " 'What do we want from Explainable Artificial Intelligence (XAI)? – A stakeholder perspective on XAI and a conceptual model guiding interdisciplinary XAI research']"
      ]
     },
     "execution_count": 212,
     "metadata": {},
     "output_type": "execute_result"
    }
   ],
   "source": [
    "title"
   ]
  },
  {
   "cell_type": "code",
   "execution_count": 22,
   "id": "9470ac97",
   "metadata": {},
   "outputs": [],
   "source": [
    "auther=[]\n",
    "for i in soup5.find_all('span',class_=\"sc-1w3fpd7-0 dnCnAO\"):\n",
    "    auther.append(i.text)"
   ]
  },
  {
   "cell_type": "code",
   "execution_count": 23,
   "id": "f0a31501",
   "metadata": {},
   "outputs": [
    {
     "data": {
      "text/plain": [
       "['David Silver, Satinder Singh, Doina Precup, Richard S. Sutton ',\n",
       " 'Tim Miller ',\n",
       " 'Margaret A. Boden ',\n",
       " 'Guni Sharon, Roni Stern, Ariel Felner, Nathan R. Sturtevant ',\n",
       " 'Ilaria Tiddi, Stefan Schlobach ',\n",
       " 'Henry Prakken, Giovanni Sartor ',\n",
       " 'Richard S. Sutton, Doina Precup, Satinder Singh ',\n",
       " 'Kjersti Aas, Martin Jullum, Anders Løland ',\n",
       " 'Wenhan Luo, Junliang Xing and 4 more',\n",
       " 'Saurabh Arora, Prashant Doshi ',\n",
       " 'Jasper van der Waa, Elisabeth Nieuwburg, Anita Cremers, Mark Neerincx ',\n",
       " 'Joe Collenette, Katie Atkinson, Trevor Bench-Capon ',\n",
       " 'Roel Dobbe, Thomas Krendl Gilbert, Yonatan Mintz ',\n",
       " 'Oskar Wysocki, Jessica Katharine Davies and 5 more',\n",
       " 'Eoin M. Kenny, Courtney Ford, Molly Quinn, Mark T. Keane ',\n",
       " 'Nolan Bard, Jakob N. Foerster and 13 more',\n",
       " 'Ron Kohavi, George H. John ',\n",
       " 'Séverin Lemaignan, Mathieu Warnier and 3 more',\n",
       " 'Tomáš Kliegr, Štěpán Bahník, Johannes Fürnkranz ',\n",
       " 'Luigia Carlucci Aiello ',\n",
       " 'Patrick Lin, Keith Abney, George Bekey ',\n",
       " 'W. Bradley Knox, Alessandro Allievi and 3 more',\n",
       " 'Leslie Pack Kaelbling, Michael L. Littman, Anthony R. Cassandra ',\n",
       " 'Markus Langer, Daniel Oster and 6 more']"
      ]
     },
     "execution_count": 23,
     "metadata": {},
     "output_type": "execute_result"
    }
   ],
   "source": [
    "auther"
   ]
  },
  {
   "cell_type": "code",
   "execution_count": 25,
   "id": "78668c96",
   "metadata": {},
   "outputs": [],
   "source": [
    "publish=[]\n",
    "for i in soup5.find_all('span',class_=\"sc-1thf9ly-2 dvggWt\"):\n",
    "    publish.append(i.text)"
   ]
  },
  {
   "cell_type": "code",
   "execution_count": 26,
   "id": "7e4b4a53",
   "metadata": {},
   "outputs": [
    {
     "data": {
      "text/plain": [
       "['October 2021',\n",
       " 'February 2019',\n",
       " 'August 1998',\n",
       " 'February 2015',\n",
       " 'January 2022',\n",
       " 'October 2015',\n",
       " 'August 1999',\n",
       " 'September 2021',\n",
       " 'April 2021',\n",
       " 'August 2021',\n",
       " 'February 2021',\n",
       " 'April 2023',\n",
       " 'November 2021',\n",
       " 'March 2023',\n",
       " 'May 2021',\n",
       " 'March 2020',\n",
       " 'December 1997',\n",
       " 'June 2017',\n",
       " 'June 2021',\n",
       " 'June 2016',\n",
       " 'April 2011',\n",
       " 'March 2023',\n",
       " 'May 1998',\n",
       " 'July 2021']"
      ]
     },
     "execution_count": 26,
     "metadata": {},
     "output_type": "execute_result"
    }
   ],
   "source": [
    "publish"
   ]
  },
  {
   "cell_type": "code",
   "execution_count": 18,
   "id": "eb15faf7",
   "metadata": {},
   "outputs": [],
   "source": [
    "sky=[]\n",
    "for i in soup5.find_all(\"a\",class_=\"sc-5smygv-0 fIXTHm\"):\n",
    "    sky.append(i['href'])"
   ]
  },
  {
   "cell_type": "code",
   "execution_count": 19,
   "id": "b1f26773",
   "metadata": {},
   "outputs": [
    {
     "data": {
      "text/plain": [
       "['https://www.sciencedirect.com/science/article/pii/S0004370221000862',\n",
       " 'https://www.sciencedirect.com/science/article/pii/S0004370218305988',\n",
       " 'https://www.sciencedirect.com/science/article/pii/S0004370298000551',\n",
       " 'https://www.sciencedirect.com/science/article/pii/S0004370214001386',\n",
       " 'https://www.sciencedirect.com/science/article/pii/S0004370221001788',\n",
       " 'https://www.sciencedirect.com/science/article/pii/S0004370215000910',\n",
       " 'https://www.sciencedirect.com/science/article/pii/S0004370299000521',\n",
       " 'https://www.sciencedirect.com/science/article/pii/S0004370221000539',\n",
       " 'https://www.sciencedirect.com/science/article/pii/S0004370220301958',\n",
       " 'https://www.sciencedirect.com/science/article/pii/S0004370221000515',\n",
       " 'https://www.sciencedirect.com/science/article/pii/S0004370220301533',\n",
       " 'https://www.sciencedirect.com/science/article/pii/S0004370223000073',\n",
       " 'https://www.sciencedirect.com/science/article/pii/S0004370221001065',\n",
       " 'https://www.sciencedirect.com/science/article/pii/S0004370222001795',\n",
       " 'https://www.sciencedirect.com/science/article/pii/S0004370221000102',\n",
       " 'https://www.sciencedirect.com/science/article/pii/S0004370219300116',\n",
       " 'https://www.sciencedirect.com/science/article/pii/S000437029700043X',\n",
       " 'https://www.sciencedirect.com/science/article/pii/S0004370216300790',\n",
       " 'https://www.sciencedirect.com/science/article/pii/S0004370221000096',\n",
       " 'https://www.sciencedirect.com/science/article/pii/S0004370216300224',\n",
       " 'https://www.sciencedirect.com/science/article/pii/S0004370211000178',\n",
       " 'https://www.sciencedirect.com/science/article/pii/S0004370222001692',\n",
       " 'https://www.sciencedirect.com/science/article/pii/S000437029800023X',\n",
       " 'https://www.sciencedirect.com/science/article/pii/S0004370221000242']"
      ]
     },
     "execution_count": 19,
     "metadata": {},
     "output_type": "execute_result"
    }
   ],
   "source": [
    "sky"
   ]
  },
  {
   "cell_type": "code",
   "execution_count": 20,
   "id": "d1c1c595",
   "metadata": {},
   "outputs": [],
   "source": [
    "import pandas as pd\n",
    "    \n",
    "    "
   ]
  },
  {
   "cell_type": "code",
   "execution_count": 28,
   "id": "3339e6c6",
   "metadata": {},
   "outputs": [],
   "source": [
    "df2=pd.DataFrame({\"The name of Authors\":auther,\"Publish Date\":publish,\"Paper Url\":sky})"
   ]
  },
  {
   "cell_type": "code",
   "execution_count": 29,
   "id": "ad1cc0c2",
   "metadata": {},
   "outputs": [
    {
     "data": {
      "text/html": [
       "<div>\n",
       "<style scoped>\n",
       "    .dataframe tbody tr th:only-of-type {\n",
       "        vertical-align: middle;\n",
       "    }\n",
       "\n",
       "    .dataframe tbody tr th {\n",
       "        vertical-align: top;\n",
       "    }\n",
       "\n",
       "    .dataframe thead th {\n",
       "        text-align: right;\n",
       "    }\n",
       "</style>\n",
       "<table border=\"1\" class=\"dataframe\">\n",
       "  <thead>\n",
       "    <tr style=\"text-align: right;\">\n",
       "      <th></th>\n",
       "      <th>The name of Authors</th>\n",
       "      <th>Publish Date</th>\n",
       "      <th>Paper Url</th>\n",
       "    </tr>\n",
       "  </thead>\n",
       "  <tbody>\n",
       "    <tr>\n",
       "      <th>0</th>\n",
       "      <td>David Silver, Satinder Singh, Doina Precup, Ri...</td>\n",
       "      <td>October 2021</td>\n",
       "      <td>https://www.sciencedirect.com/science/article/...</td>\n",
       "    </tr>\n",
       "    <tr>\n",
       "      <th>1</th>\n",
       "      <td>Tim Miller</td>\n",
       "      <td>February 2019</td>\n",
       "      <td>https://www.sciencedirect.com/science/article/...</td>\n",
       "    </tr>\n",
       "    <tr>\n",
       "      <th>2</th>\n",
       "      <td>Margaret A. Boden</td>\n",
       "      <td>August 1998</td>\n",
       "      <td>https://www.sciencedirect.com/science/article/...</td>\n",
       "    </tr>\n",
       "    <tr>\n",
       "      <th>3</th>\n",
       "      <td>Guni Sharon, Roni Stern, Ariel Felner, Nathan ...</td>\n",
       "      <td>February 2015</td>\n",
       "      <td>https://www.sciencedirect.com/science/article/...</td>\n",
       "    </tr>\n",
       "    <tr>\n",
       "      <th>4</th>\n",
       "      <td>Ilaria Tiddi, Stefan Schlobach</td>\n",
       "      <td>January 2022</td>\n",
       "      <td>https://www.sciencedirect.com/science/article/...</td>\n",
       "    </tr>\n",
       "    <tr>\n",
       "      <th>5</th>\n",
       "      <td>Henry Prakken, Giovanni Sartor</td>\n",
       "      <td>October 2015</td>\n",
       "      <td>https://www.sciencedirect.com/science/article/...</td>\n",
       "    </tr>\n",
       "    <tr>\n",
       "      <th>6</th>\n",
       "      <td>Richard S. Sutton, Doina Precup, Satinder Singh</td>\n",
       "      <td>August 1999</td>\n",
       "      <td>https://www.sciencedirect.com/science/article/...</td>\n",
       "    </tr>\n",
       "    <tr>\n",
       "      <th>7</th>\n",
       "      <td>Kjersti Aas, Martin Jullum, Anders Løland</td>\n",
       "      <td>September 2021</td>\n",
       "      <td>https://www.sciencedirect.com/science/article/...</td>\n",
       "    </tr>\n",
       "    <tr>\n",
       "      <th>8</th>\n",
       "      <td>Wenhan Luo, Junliang Xing and 4 more</td>\n",
       "      <td>April 2021</td>\n",
       "      <td>https://www.sciencedirect.com/science/article/...</td>\n",
       "    </tr>\n",
       "    <tr>\n",
       "      <th>9</th>\n",
       "      <td>Saurabh Arora, Prashant Doshi</td>\n",
       "      <td>August 2021</td>\n",
       "      <td>https://www.sciencedirect.com/science/article/...</td>\n",
       "    </tr>\n",
       "    <tr>\n",
       "      <th>10</th>\n",
       "      <td>Jasper van der Waa, Elisabeth Nieuwburg, Anita...</td>\n",
       "      <td>February 2021</td>\n",
       "      <td>https://www.sciencedirect.com/science/article/...</td>\n",
       "    </tr>\n",
       "    <tr>\n",
       "      <th>11</th>\n",
       "      <td>Joe Collenette, Katie Atkinson, Trevor Bench-C...</td>\n",
       "      <td>April 2023</td>\n",
       "      <td>https://www.sciencedirect.com/science/article/...</td>\n",
       "    </tr>\n",
       "    <tr>\n",
       "      <th>12</th>\n",
       "      <td>Roel Dobbe, Thomas Krendl Gilbert, Yonatan Mintz</td>\n",
       "      <td>November 2021</td>\n",
       "      <td>https://www.sciencedirect.com/science/article/...</td>\n",
       "    </tr>\n",
       "    <tr>\n",
       "      <th>13</th>\n",
       "      <td>Oskar Wysocki, Jessica Katharine Davies and 5 ...</td>\n",
       "      <td>March 2023</td>\n",
       "      <td>https://www.sciencedirect.com/science/article/...</td>\n",
       "    </tr>\n",
       "    <tr>\n",
       "      <th>14</th>\n",
       "      <td>Eoin M. Kenny, Courtney Ford, Molly Quinn, Mar...</td>\n",
       "      <td>May 2021</td>\n",
       "      <td>https://www.sciencedirect.com/science/article/...</td>\n",
       "    </tr>\n",
       "    <tr>\n",
       "      <th>15</th>\n",
       "      <td>Nolan Bard, Jakob N. Foerster and 13 more</td>\n",
       "      <td>March 2020</td>\n",
       "      <td>https://www.sciencedirect.com/science/article/...</td>\n",
       "    </tr>\n",
       "    <tr>\n",
       "      <th>16</th>\n",
       "      <td>Ron Kohavi, George H. John</td>\n",
       "      <td>December 1997</td>\n",
       "      <td>https://www.sciencedirect.com/science/article/...</td>\n",
       "    </tr>\n",
       "    <tr>\n",
       "      <th>17</th>\n",
       "      <td>Séverin Lemaignan, Mathieu Warnier and 3 more</td>\n",
       "      <td>June 2017</td>\n",
       "      <td>https://www.sciencedirect.com/science/article/...</td>\n",
       "    </tr>\n",
       "    <tr>\n",
       "      <th>18</th>\n",
       "      <td>Tomáš Kliegr, Štěpán Bahník, Johannes Fürnkranz</td>\n",
       "      <td>June 2021</td>\n",
       "      <td>https://www.sciencedirect.com/science/article/...</td>\n",
       "    </tr>\n",
       "    <tr>\n",
       "      <th>19</th>\n",
       "      <td>Luigia Carlucci Aiello</td>\n",
       "      <td>June 2016</td>\n",
       "      <td>https://www.sciencedirect.com/science/article/...</td>\n",
       "    </tr>\n",
       "    <tr>\n",
       "      <th>20</th>\n",
       "      <td>Patrick Lin, Keith Abney, George Bekey</td>\n",
       "      <td>April 2011</td>\n",
       "      <td>https://www.sciencedirect.com/science/article/...</td>\n",
       "    </tr>\n",
       "    <tr>\n",
       "      <th>21</th>\n",
       "      <td>W. Bradley Knox, Alessandro Allievi and 3 more</td>\n",
       "      <td>March 2023</td>\n",
       "      <td>https://www.sciencedirect.com/science/article/...</td>\n",
       "    </tr>\n",
       "    <tr>\n",
       "      <th>22</th>\n",
       "      <td>Leslie Pack Kaelbling, Michael L. Littman, Ant...</td>\n",
       "      <td>May 1998</td>\n",
       "      <td>https://www.sciencedirect.com/science/article/...</td>\n",
       "    </tr>\n",
       "    <tr>\n",
       "      <th>23</th>\n",
       "      <td>Markus Langer, Daniel Oster and 6 more</td>\n",
       "      <td>July 2021</td>\n",
       "      <td>https://www.sciencedirect.com/science/article/...</td>\n",
       "    </tr>\n",
       "  </tbody>\n",
       "</table>\n",
       "</div>"
      ],
      "text/plain": [
       "                                  The name of Authors    Publish Date  \\\n",
       "0   David Silver, Satinder Singh, Doina Precup, Ri...    October 2021   \n",
       "1                                         Tim Miller    February 2019   \n",
       "2                                  Margaret A. Boden      August 1998   \n",
       "3   Guni Sharon, Roni Stern, Ariel Felner, Nathan ...   February 2015   \n",
       "4                     Ilaria Tiddi, Stefan Schlobach     January 2022   \n",
       "5                     Henry Prakken, Giovanni Sartor     October 2015   \n",
       "6    Richard S. Sutton, Doina Precup, Satinder Singh      August 1999   \n",
       "7          Kjersti Aas, Martin Jullum, Anders Løland   September 2021   \n",
       "8                Wenhan Luo, Junliang Xing and 4 more      April 2021   \n",
       "9                      Saurabh Arora, Prashant Doshi      August 2021   \n",
       "10  Jasper van der Waa, Elisabeth Nieuwburg, Anita...   February 2021   \n",
       "11  Joe Collenette, Katie Atkinson, Trevor Bench-C...      April 2023   \n",
       "12  Roel Dobbe, Thomas Krendl Gilbert, Yonatan Mintz    November 2021   \n",
       "13  Oskar Wysocki, Jessica Katharine Davies and 5 ...      March 2023   \n",
       "14  Eoin M. Kenny, Courtney Ford, Molly Quinn, Mar...        May 2021   \n",
       "15          Nolan Bard, Jakob N. Foerster and 13 more      March 2020   \n",
       "16                        Ron Kohavi, George H. John    December 1997   \n",
       "17      Séverin Lemaignan, Mathieu Warnier and 3 more       June 2017   \n",
       "18   Tomáš Kliegr, Štěpán Bahník, Johannes Fürnkranz        June 2021   \n",
       "19                            Luigia Carlucci Aiello        June 2016   \n",
       "20            Patrick Lin, Keith Abney, George Bekey       April 2011   \n",
       "21     W. Bradley Knox, Alessandro Allievi and 3 more      March 2023   \n",
       "22  Leslie Pack Kaelbling, Michael L. Littman, Ant...        May 1998   \n",
       "23             Markus Langer, Daniel Oster and 6 more       July 2021   \n",
       "\n",
       "                                            Paper Url  \n",
       "0   https://www.sciencedirect.com/science/article/...  \n",
       "1   https://www.sciencedirect.com/science/article/...  \n",
       "2   https://www.sciencedirect.com/science/article/...  \n",
       "3   https://www.sciencedirect.com/science/article/...  \n",
       "4   https://www.sciencedirect.com/science/article/...  \n",
       "5   https://www.sciencedirect.com/science/article/...  \n",
       "6   https://www.sciencedirect.com/science/article/...  \n",
       "7   https://www.sciencedirect.com/science/article/...  \n",
       "8   https://www.sciencedirect.com/science/article/...  \n",
       "9   https://www.sciencedirect.com/science/article/...  \n",
       "10  https://www.sciencedirect.com/science/article/...  \n",
       "11  https://www.sciencedirect.com/science/article/...  \n",
       "12  https://www.sciencedirect.com/science/article/...  \n",
       "13  https://www.sciencedirect.com/science/article/...  \n",
       "14  https://www.sciencedirect.com/science/article/...  \n",
       "15  https://www.sciencedirect.com/science/article/...  \n",
       "16  https://www.sciencedirect.com/science/article/...  \n",
       "17  https://www.sciencedirect.com/science/article/...  \n",
       "18  https://www.sciencedirect.com/science/article/...  \n",
       "19  https://www.sciencedirect.com/science/article/...  \n",
       "20  https://www.sciencedirect.com/science/article/...  \n",
       "21  https://www.sciencedirect.com/science/article/...  \n",
       "22  https://www.sciencedirect.com/science/article/...  \n",
       "23  https://www.sciencedirect.com/science/article/...  "
      ]
     },
     "execution_count": 29,
     "metadata": {},
     "output_type": "execute_result"
    }
   ],
   "source": [
    "df2"
   ]
  },
  {
   "cell_type": "markdown",
   "id": "35c02a18",
   "metadata": {},
   "source": [
    "3) Write a python program to scrape cricket rankings from icc-cricket.com. You have to scrape and make data framea) Top 10 ODI teams in men’s cricket along with the records for matches, points and rating.\n",
    "b) Top 10 ODI Batsmen along with the records of their team andrating.\n",
    "c) Top 10 ODI bowlers along with the records of their team andrating.\n"
   ]
  },
  {
   "cell_type": "markdown",
   "id": "efece94a",
   "metadata": {},
   "source": [
    "Write a python program to display all the header tags from wikipedia.org and make data frame\n"
   ]
  },
  {
   "cell_type": "code",
   "execution_count": 21,
   "id": "8301e64c",
   "metadata": {},
   "outputs": [],
   "source": [
    "page=requests.get('https://en.wikipedia.org/wiki/Main_Page')"
   ]
  },
  {
   "cell_type": "code",
   "execution_count": 22,
   "id": "e1bcb557",
   "metadata": {},
   "outputs": [
    {
     "data": {
      "text/plain": [
       "<Response [200]>"
      ]
     },
     "execution_count": 22,
     "metadata": {},
     "output_type": "execute_result"
    }
   ],
   "source": [
    "page"
   ]
  },
  {
   "cell_type": "code",
   "execution_count": 23,
   "id": "3c1d9657",
   "metadata": {},
   "outputs": [],
   "source": [
    "soup=BeautifulSoup(page.content)\n"
   ]
  },
  {
   "cell_type": "code",
   "execution_count": null,
   "id": "12b7aea7",
   "metadata": {},
   "outputs": [],
   "source": []
  },
  {
   "cell_type": "code",
   "execution_count": 8,
   "id": "9be8e0ca",
   "metadata": {},
   "outputs": [],
   "source": [
    "AllHeaders=[]\n",
    "for i in soup.find_all('span',class_=\"mw-headline\"):\n",
    "    AllHeaders.append(i.text)"
   ]
  },
  {
   "cell_type": "code",
   "execution_count": 9,
   "id": "c1f260c5",
   "metadata": {},
   "outputs": [
    {
     "data": {
      "text/plain": [
       "['Welcome to Wikipedia',\n",
       " \"From today's featured article\",\n",
       " 'Did you know\\xa0...',\n",
       " 'In the news',\n",
       " 'On this day',\n",
       " \"From today's featured list\",\n",
       " \"Today's featured picture\",\n",
       " 'Other areas of Wikipedia',\n",
       " \"Wikipedia's sister projects\",\n",
       " 'Wikipedia languages']"
      ]
     },
     "execution_count": 9,
     "metadata": {},
     "output_type": "execute_result"
    }
   ],
   "source": [
    "AllHeaders"
   ]
  },
  {
   "cell_type": "code",
   "execution_count": 10,
   "id": "3f1b34ed",
   "metadata": {},
   "outputs": [],
   "source": [
    "import pandas as pd"
   ]
  },
  {
   "cell_type": "code",
   "execution_count": 11,
   "id": "85390a6b",
   "metadata": {},
   "outputs": [],
   "source": [
    "df=pd.DataFrame({\"Titles\":AllHeaders})"
   ]
  },
  {
   "cell_type": "code",
   "execution_count": 12,
   "id": "2a0e69e2",
   "metadata": {},
   "outputs": [
    {
     "data": {
      "text/html": [
       "<div>\n",
       "<style scoped>\n",
       "    .dataframe tbody tr th:only-of-type {\n",
       "        vertical-align: middle;\n",
       "    }\n",
       "\n",
       "    .dataframe tbody tr th {\n",
       "        vertical-align: top;\n",
       "    }\n",
       "\n",
       "    .dataframe thead th {\n",
       "        text-align: right;\n",
       "    }\n",
       "</style>\n",
       "<table border=\"1\" class=\"dataframe\">\n",
       "  <thead>\n",
       "    <tr style=\"text-align: right;\">\n",
       "      <th></th>\n",
       "      <th>Titles</th>\n",
       "    </tr>\n",
       "  </thead>\n",
       "  <tbody>\n",
       "    <tr>\n",
       "      <th>0</th>\n",
       "      <td>Welcome to Wikipedia</td>\n",
       "    </tr>\n",
       "    <tr>\n",
       "      <th>1</th>\n",
       "      <td>From today's featured article</td>\n",
       "    </tr>\n",
       "    <tr>\n",
       "      <th>2</th>\n",
       "      <td>Did you know ...</td>\n",
       "    </tr>\n",
       "    <tr>\n",
       "      <th>3</th>\n",
       "      <td>In the news</td>\n",
       "    </tr>\n",
       "    <tr>\n",
       "      <th>4</th>\n",
       "      <td>On this day</td>\n",
       "    </tr>\n",
       "    <tr>\n",
       "      <th>5</th>\n",
       "      <td>From today's featured list</td>\n",
       "    </tr>\n",
       "    <tr>\n",
       "      <th>6</th>\n",
       "      <td>Today's featured picture</td>\n",
       "    </tr>\n",
       "    <tr>\n",
       "      <th>7</th>\n",
       "      <td>Other areas of Wikipedia</td>\n",
       "    </tr>\n",
       "    <tr>\n",
       "      <th>8</th>\n",
       "      <td>Wikipedia's sister projects</td>\n",
       "    </tr>\n",
       "    <tr>\n",
       "      <th>9</th>\n",
       "      <td>Wikipedia languages</td>\n",
       "    </tr>\n",
       "  </tbody>\n",
       "</table>\n",
       "</div>"
      ],
      "text/plain": [
       "                          Titles\n",
       "0           Welcome to Wikipedia\n",
       "1  From today's featured article\n",
       "2               Did you know ...\n",
       "3                    In the news\n",
       "4                    On this day\n",
       "5     From today's featured list\n",
       "6       Today's featured picture\n",
       "7       Other areas of Wikipedia\n",
       "8    Wikipedia's sister projects\n",
       "9            Wikipedia languages"
      ]
     },
     "execution_count": 12,
     "metadata": {},
     "output_type": "execute_result"
    }
   ],
   "source": [
    "df"
   ]
  },
  {
   "cell_type": "markdown",
   "id": "fc38bdd6",
   "metadata": {},
   "source": [
    "Write s python program to display list of respected former presidents of India(i.e. Name , Term ofoffice) from https://presidentofindia.nic.in/former-presidents.htm and make data frame."
   ]
  },
  {
   "cell_type": "code",
   "execution_count": 24,
   "id": "bda54345",
   "metadata": {},
   "outputs": [],
   "source": [
    "page1=requests.get(\"https://presidentofindia.nic.in/former-presidents\")"
   ]
  },
  {
   "cell_type": "code",
   "execution_count": 25,
   "id": "06ab0f49",
   "metadata": {},
   "outputs": [
    {
     "data": {
      "text/plain": [
       "<Response [200]>"
      ]
     },
     "execution_count": 25,
     "metadata": {},
     "output_type": "execute_result"
    }
   ],
   "source": [
    "page1"
   ]
  },
  {
   "cell_type": "code",
   "execution_count": 26,
   "id": "f055d40a",
   "metadata": {},
   "outputs": [],
   "source": [
    "soup1=BeautifulSoup(page1.content)"
   ]
  },
  {
   "cell_type": "code",
   "execution_count": null,
   "id": "98cd95a0",
   "metadata": {},
   "outputs": [],
   "source": []
  },
  {
   "cell_type": "code",
   "execution_count": 17,
   "id": "bbe20249",
   "metadata": {},
   "outputs": [],
   "source": [
    "list=[]\n",
    "for i in soup1.find_all('div',class_=\"desc-sec\"):\n",
    "    list.append(i.text.replace(\"\\n\",\" \"))"
   ]
  },
  {
   "cell_type": "code",
   "execution_count": 18,
   "id": "9cf045b9",
   "metadata": {},
   "outputs": [
    {
     "data": {
      "text/plain": [
       "[' Shri Ram Nath Kovind 14th President of India ',\n",
       " ' Shri Pranab Mukherjee 13th President of India ',\n",
       " ' Smt Pratibha Devisingh Patil 12th President of India ',\n",
       " ' DR. A.P.J. Abdul Kalam 11th President of India ',\n",
       " ' Shri K. R. Narayanan 10th President of India ',\n",
       " ' Dr Shankar Dayal Sharma 9th  President of India ',\n",
       " ' Shri R Venkataraman 8th President of India ',\n",
       " ' Giani Zail Singh 7th President of India ',\n",
       " ' Shri Neelam Sanjiva Reddy 6th President of India ',\n",
       " ' Dr. Fakhruddin Ali Ahmed 5th President of India ',\n",
       " ' Shri Varahagiri Venkata Giri 4th President of India ',\n",
       " ' Dr. Zakir Husain 3rd President of India ',\n",
       " ' Dr. Sarvepalli Radhakrishnan 2nd President of India ',\n",
       " ' Dr. Rajendra Prasad 1st President of India ']"
      ]
     },
     "execution_count": 18,
     "metadata": {},
     "output_type": "execute_result"
    }
   ],
   "source": [
    "list"
   ]
  },
  {
   "cell_type": "code",
   "execution_count": 19,
   "id": "9b484edb",
   "metadata": {},
   "outputs": [],
   "source": [
    "term_of_office=[\"25-7-2017 to 25-7-2022\",\"25-7-2012 to 25-7-2017\",\"25-07-2007 to 25-07-2012\",\"25-7-2002 to 25-7-2007\",\"25-7-1997 to 25-7-2002\",\n",
    "               \"25-07-1997 to 25-07-1992\",\"25-7-1987 to 25-7-1992\",\"25-7-1982 to 25-7-1987\",\"25-7-1982 to 25-7-1977\",\"24-8-1974 to 11-2-1977\",\n",
    "                \"24-08-1969 to 24-8-1974\",\"13-5-1967 to 3-5-1969\",\"13-5-1962 to 13-5-1967\",\"26-1-1950 to 13-5-1962\"]"
   ]
  },
  {
   "cell_type": "code",
   "execution_count": 20,
   "id": "061ddefb",
   "metadata": {},
   "outputs": [
    {
     "data": {
      "text/plain": [
       "['25-7-2017 to 25-7-2022',\n",
       " '25-7-2012 to 25-7-2017',\n",
       " '25-07-2007 to 25-07-2012',\n",
       " '25-7-2002 to 25-7-2007',\n",
       " '25-7-1997 to 25-7-2002',\n",
       " '25-07-1997 to 25-07-1992',\n",
       " '25-7-1987 to 25-7-1992',\n",
       " '25-7-1982 to 25-7-1987',\n",
       " '25-7-1982 to 25-7-1977',\n",
       " '24-8-1974 to 11-2-1977',\n",
       " '24-08-1969 to 24-8-1974',\n",
       " '13-5-1967 to 3-5-1969',\n",
       " '13-5-1962 to 13-5-1967',\n",
       " '26-1-1950 to 13-5-1962']"
      ]
     },
     "execution_count": 20,
     "metadata": {},
     "output_type": "execute_result"
    }
   ],
   "source": [
    "term_of_office"
   ]
  },
  {
   "cell_type": "code",
   "execution_count": 21,
   "id": "c7aa402c",
   "metadata": {},
   "outputs": [],
   "source": [
    "import pandas as pd"
   ]
  },
  {
   "cell_type": "code",
   "execution_count": 24,
   "id": "4fad1e87",
   "metadata": {},
   "outputs": [],
   "source": [
    "df=pd.DataFrame({\"Name_of_the_president\":list,\"Term of Office\":term_of_office})"
   ]
  },
  {
   "cell_type": "code",
   "execution_count": 25,
   "id": "2c87bd95",
   "metadata": {},
   "outputs": [
    {
     "data": {
      "text/html": [
       "<div>\n",
       "<style scoped>\n",
       "    .dataframe tbody tr th:only-of-type {\n",
       "        vertical-align: middle;\n",
       "    }\n",
       "\n",
       "    .dataframe tbody tr th {\n",
       "        vertical-align: top;\n",
       "    }\n",
       "\n",
       "    .dataframe thead th {\n",
       "        text-align: right;\n",
       "    }\n",
       "</style>\n",
       "<table border=\"1\" class=\"dataframe\">\n",
       "  <thead>\n",
       "    <tr style=\"text-align: right;\">\n",
       "      <th></th>\n",
       "      <th>Name_of_the_president</th>\n",
       "      <th>Term of Office</th>\n",
       "    </tr>\n",
       "  </thead>\n",
       "  <tbody>\n",
       "    <tr>\n",
       "      <th>0</th>\n",
       "      <td>Shri Ram Nath Kovind 14th President of India</td>\n",
       "      <td>25-7-2017 to 25-7-2022</td>\n",
       "    </tr>\n",
       "    <tr>\n",
       "      <th>1</th>\n",
       "      <td>Shri Pranab Mukherjee 13th President of India</td>\n",
       "      <td>25-7-2012 to 25-7-2017</td>\n",
       "    </tr>\n",
       "    <tr>\n",
       "      <th>2</th>\n",
       "      <td>Smt Pratibha Devisingh Patil 12th President o...</td>\n",
       "      <td>25-07-2007 to 25-07-2012</td>\n",
       "    </tr>\n",
       "    <tr>\n",
       "      <th>3</th>\n",
       "      <td>DR. A.P.J. Abdul Kalam 11th President of India</td>\n",
       "      <td>25-7-2002 to 25-7-2007</td>\n",
       "    </tr>\n",
       "    <tr>\n",
       "      <th>4</th>\n",
       "      <td>Shri K. R. Narayanan 10th President of India</td>\n",
       "      <td>25-7-1997 to 25-7-2002</td>\n",
       "    </tr>\n",
       "    <tr>\n",
       "      <th>5</th>\n",
       "      <td>Dr Shankar Dayal Sharma 9th  President of India</td>\n",
       "      <td>25-07-1997 to 25-07-1992</td>\n",
       "    </tr>\n",
       "    <tr>\n",
       "      <th>6</th>\n",
       "      <td>Shri R Venkataraman 8th President of India</td>\n",
       "      <td>25-7-1987 to 25-7-1992</td>\n",
       "    </tr>\n",
       "    <tr>\n",
       "      <th>7</th>\n",
       "      <td>Giani Zail Singh 7th President of India</td>\n",
       "      <td>25-7-1982 to 25-7-1987</td>\n",
       "    </tr>\n",
       "    <tr>\n",
       "      <th>8</th>\n",
       "      <td>Shri Neelam Sanjiva Reddy 6th President of In...</td>\n",
       "      <td>25-7-1982 to 25-7-1977</td>\n",
       "    </tr>\n",
       "    <tr>\n",
       "      <th>9</th>\n",
       "      <td>Dr. Fakhruddin Ali Ahmed 5th President of India</td>\n",
       "      <td>24-8-1974 to 11-2-1977</td>\n",
       "    </tr>\n",
       "    <tr>\n",
       "      <th>10</th>\n",
       "      <td>Shri Varahagiri Venkata Giri 4th President of...</td>\n",
       "      <td>24-08-1969 to 24-8-1974</td>\n",
       "    </tr>\n",
       "    <tr>\n",
       "      <th>11</th>\n",
       "      <td>Dr. Zakir Husain 3rd President of India</td>\n",
       "      <td>13-5-1967 to 3-5-1969</td>\n",
       "    </tr>\n",
       "    <tr>\n",
       "      <th>12</th>\n",
       "      <td>Dr. Sarvepalli Radhakrishnan 2nd President of...</td>\n",
       "      <td>13-5-1962 to 13-5-1967</td>\n",
       "    </tr>\n",
       "    <tr>\n",
       "      <th>13</th>\n",
       "      <td>Dr. Rajendra Prasad 1st President of India</td>\n",
       "      <td>26-1-1950 to 13-5-1962</td>\n",
       "    </tr>\n",
       "  </tbody>\n",
       "</table>\n",
       "</div>"
      ],
      "text/plain": [
       "                                Name_of_the_president  \\\n",
       "0       Shri Ram Nath Kovind 14th President of India    \n",
       "1      Shri Pranab Mukherjee 13th President of India    \n",
       "2    Smt Pratibha Devisingh Patil 12th President o...   \n",
       "3     DR. A.P.J. Abdul Kalam 11th President of India    \n",
       "4       Shri K. R. Narayanan 10th President of India    \n",
       "5    Dr Shankar Dayal Sharma 9th  President of India    \n",
       "6         Shri R Venkataraman 8th President of India    \n",
       "7            Giani Zail Singh 7th President of India    \n",
       "8    Shri Neelam Sanjiva Reddy 6th President of In...   \n",
       "9    Dr. Fakhruddin Ali Ahmed 5th President of India    \n",
       "10   Shri Varahagiri Venkata Giri 4th President of...   \n",
       "11           Dr. Zakir Husain 3rd President of India    \n",
       "12   Dr. Sarvepalli Radhakrishnan 2nd President of...   \n",
       "13        Dr. Rajendra Prasad 1st President of India    \n",
       "\n",
       "              Term of Office  \n",
       "0     25-7-2017 to 25-7-2022  \n",
       "1     25-7-2012 to 25-7-2017  \n",
       "2   25-07-2007 to 25-07-2012  \n",
       "3     25-7-2002 to 25-7-2007  \n",
       "4     25-7-1997 to 25-7-2002  \n",
       "5   25-07-1997 to 25-07-1992  \n",
       "6     25-7-1987 to 25-7-1992  \n",
       "7     25-7-1982 to 25-7-1987  \n",
       "8     25-7-1982 to 25-7-1977  \n",
       "9     24-8-1974 to 11-2-1977  \n",
       "10   24-08-1969 to 24-8-1974  \n",
       "11     13-5-1967 to 3-5-1969  \n",
       "12    13-5-1962 to 13-5-1967  \n",
       "13    26-1-1950 to 13-5-1962  "
      ]
     },
     "execution_count": 25,
     "metadata": {},
     "output_type": "execute_result"
    }
   ],
   "source": [
    "df"
   ]
  },
  {
   "cell_type": "code",
   "execution_count": null,
   "id": "51dea1df",
   "metadata": {},
   "outputs": [],
   "source": []
  }
 ],
 "metadata": {
  "kernelspec": {
   "display_name": "Python 3 (ipykernel)",
   "language": "python",
   "name": "python3"
  },
  "language_info": {
   "codemirror_mode": {
    "name": "ipython",
    "version": 3
   },
   "file_extension": ".py",
   "mimetype": "text/x-python",
   "name": "python",
   "nbconvert_exporter": "python",
   "pygments_lexer": "ipython3",
   "version": "3.10.9"
  }
 },
 "nbformat": 4,
 "nbformat_minor": 5
}
